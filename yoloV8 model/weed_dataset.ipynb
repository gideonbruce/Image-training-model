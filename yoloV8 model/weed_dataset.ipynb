{
  "nbformat": 4,
  "nbformat_minor": 0,
  "metadata": {
    "colab": {
      "provenance": [],
      "gpuType": "T4"
    },
    "kernelspec": {
      "name": "python3",
      "display_name": "Python 3"
    },
    "language_info": {
      "name": "python"
    },
    "accelerator": "GPU"
  },
  "cells": [
    {
      "cell_type": "code",
      "execution_count": 1,
      "metadata": {
        "colab": {
          "base_uri": "https://localhost:8080/"
        },
        "id": "ibpptTJXBJwq",
        "outputId": "30860d0e-f2c7-4bde-e2c0-100125d114ec"
      },
      "outputs": [
        {
          "output_type": "stream",
          "name": "stdout",
          "text": [
            "Collecting ultralytics\n",
            "  Downloading ultralytics-8.3.75-py3-none-any.whl.metadata (35 kB)\n",
            "Requirement already satisfied: numpy<=2.1.1,>=1.23.0 in /usr/local/lib/python3.11/dist-packages (from ultralytics) (1.26.4)\n",
            "Requirement already satisfied: matplotlib>=3.3.0 in /usr/local/lib/python3.11/dist-packages (from ultralytics) (3.10.0)\n",
            "Requirement already satisfied: opencv-python>=4.6.0 in /usr/local/lib/python3.11/dist-packages (from ultralytics) (4.11.0.86)\n",
            "Requirement already satisfied: pillow>=7.1.2 in /usr/local/lib/python3.11/dist-packages (from ultralytics) (11.1.0)\n",
            "Requirement already satisfied: pyyaml>=5.3.1 in /usr/local/lib/python3.11/dist-packages (from ultralytics) (6.0.2)\n",
            "Requirement already satisfied: requests>=2.23.0 in /usr/local/lib/python3.11/dist-packages (from ultralytics) (2.32.3)\n",
            "Requirement already satisfied: scipy>=1.4.1 in /usr/local/lib/python3.11/dist-packages (from ultralytics) (1.13.1)\n",
            "Requirement already satisfied: torch>=1.8.0 in /usr/local/lib/python3.11/dist-packages (from ultralytics) (2.5.1+cu124)\n",
            "Requirement already satisfied: torchvision>=0.9.0 in /usr/local/lib/python3.11/dist-packages (from ultralytics) (0.20.1+cu124)\n",
            "Requirement already satisfied: tqdm>=4.64.0 in /usr/local/lib/python3.11/dist-packages (from ultralytics) (4.67.1)\n",
            "Requirement already satisfied: psutil in /usr/local/lib/python3.11/dist-packages (from ultralytics) (5.9.5)\n",
            "Requirement already satisfied: py-cpuinfo in /usr/local/lib/python3.11/dist-packages (from ultralytics) (9.0.0)\n",
            "Requirement already satisfied: pandas>=1.1.4 in /usr/local/lib/python3.11/dist-packages (from ultralytics) (2.2.2)\n",
            "Requirement already satisfied: seaborn>=0.11.0 in /usr/local/lib/python3.11/dist-packages (from ultralytics) (0.13.2)\n",
            "Collecting ultralytics-thop>=2.0.0 (from ultralytics)\n",
            "  Downloading ultralytics_thop-2.0.14-py3-none-any.whl.metadata (9.4 kB)\n",
            "Requirement already satisfied: contourpy>=1.0.1 in /usr/local/lib/python3.11/dist-packages (from matplotlib>=3.3.0->ultralytics) (1.3.1)\n",
            "Requirement already satisfied: cycler>=0.10 in /usr/local/lib/python3.11/dist-packages (from matplotlib>=3.3.0->ultralytics) (0.12.1)\n",
            "Requirement already satisfied: fonttools>=4.22.0 in /usr/local/lib/python3.11/dist-packages (from matplotlib>=3.3.0->ultralytics) (4.55.8)\n",
            "Requirement already satisfied: kiwisolver>=1.3.1 in /usr/local/lib/python3.11/dist-packages (from matplotlib>=3.3.0->ultralytics) (1.4.8)\n",
            "Requirement already satisfied: packaging>=20.0 in /usr/local/lib/python3.11/dist-packages (from matplotlib>=3.3.0->ultralytics) (24.2)\n",
            "Requirement already satisfied: pyparsing>=2.3.1 in /usr/local/lib/python3.11/dist-packages (from matplotlib>=3.3.0->ultralytics) (3.2.1)\n",
            "Requirement already satisfied: python-dateutil>=2.7 in /usr/local/lib/python3.11/dist-packages (from matplotlib>=3.3.0->ultralytics) (2.8.2)\n",
            "Requirement already satisfied: pytz>=2020.1 in /usr/local/lib/python3.11/dist-packages (from pandas>=1.1.4->ultralytics) (2025.1)\n",
            "Requirement already satisfied: tzdata>=2022.7 in /usr/local/lib/python3.11/dist-packages (from pandas>=1.1.4->ultralytics) (2025.1)\n",
            "Requirement already satisfied: charset-normalizer<4,>=2 in /usr/local/lib/python3.11/dist-packages (from requests>=2.23.0->ultralytics) (3.4.1)\n",
            "Requirement already satisfied: idna<4,>=2.5 in /usr/local/lib/python3.11/dist-packages (from requests>=2.23.0->ultralytics) (3.10)\n",
            "Requirement already satisfied: urllib3<3,>=1.21.1 in /usr/local/lib/python3.11/dist-packages (from requests>=2.23.0->ultralytics) (2.3.0)\n",
            "Requirement already satisfied: certifi>=2017.4.17 in /usr/local/lib/python3.11/dist-packages (from requests>=2.23.0->ultralytics) (2025.1.31)\n",
            "Requirement already satisfied: filelock in /usr/local/lib/python3.11/dist-packages (from torch>=1.8.0->ultralytics) (3.17.0)\n",
            "Requirement already satisfied: typing-extensions>=4.8.0 in /usr/local/lib/python3.11/dist-packages (from torch>=1.8.0->ultralytics) (4.12.2)\n",
            "Requirement already satisfied: networkx in /usr/local/lib/python3.11/dist-packages (from torch>=1.8.0->ultralytics) (3.4.2)\n",
            "Requirement already satisfied: jinja2 in /usr/local/lib/python3.11/dist-packages (from torch>=1.8.0->ultralytics) (3.1.5)\n",
            "Requirement already satisfied: fsspec in /usr/local/lib/python3.11/dist-packages (from torch>=1.8.0->ultralytics) (2024.10.0)\n",
            "Collecting nvidia-cuda-nvrtc-cu12==12.4.127 (from torch>=1.8.0->ultralytics)\n",
            "  Downloading nvidia_cuda_nvrtc_cu12-12.4.127-py3-none-manylinux2014_x86_64.whl.metadata (1.5 kB)\n",
            "Collecting nvidia-cuda-runtime-cu12==12.4.127 (from torch>=1.8.0->ultralytics)\n",
            "  Downloading nvidia_cuda_runtime_cu12-12.4.127-py3-none-manylinux2014_x86_64.whl.metadata (1.5 kB)\n",
            "Collecting nvidia-cuda-cupti-cu12==12.4.127 (from torch>=1.8.0->ultralytics)\n",
            "  Downloading nvidia_cuda_cupti_cu12-12.4.127-py3-none-manylinux2014_x86_64.whl.metadata (1.6 kB)\n",
            "Collecting nvidia-cudnn-cu12==9.1.0.70 (from torch>=1.8.0->ultralytics)\n",
            "  Downloading nvidia_cudnn_cu12-9.1.0.70-py3-none-manylinux2014_x86_64.whl.metadata (1.6 kB)\n",
            "Collecting nvidia-cublas-cu12==12.4.5.8 (from torch>=1.8.0->ultralytics)\n",
            "  Downloading nvidia_cublas_cu12-12.4.5.8-py3-none-manylinux2014_x86_64.whl.metadata (1.5 kB)\n",
            "Collecting nvidia-cufft-cu12==11.2.1.3 (from torch>=1.8.0->ultralytics)\n",
            "  Downloading nvidia_cufft_cu12-11.2.1.3-py3-none-manylinux2014_x86_64.whl.metadata (1.5 kB)\n",
            "Collecting nvidia-curand-cu12==10.3.5.147 (from torch>=1.8.0->ultralytics)\n",
            "  Downloading nvidia_curand_cu12-10.3.5.147-py3-none-manylinux2014_x86_64.whl.metadata (1.5 kB)\n",
            "Collecting nvidia-cusolver-cu12==11.6.1.9 (from torch>=1.8.0->ultralytics)\n",
            "  Downloading nvidia_cusolver_cu12-11.6.1.9-py3-none-manylinux2014_x86_64.whl.metadata (1.6 kB)\n",
            "Collecting nvidia-cusparse-cu12==12.3.1.170 (from torch>=1.8.0->ultralytics)\n",
            "  Downloading nvidia_cusparse_cu12-12.3.1.170-py3-none-manylinux2014_x86_64.whl.metadata (1.6 kB)\n",
            "Requirement already satisfied: nvidia-nccl-cu12==2.21.5 in /usr/local/lib/python3.11/dist-packages (from torch>=1.8.0->ultralytics) (2.21.5)\n",
            "Requirement already satisfied: nvidia-nvtx-cu12==12.4.127 in /usr/local/lib/python3.11/dist-packages (from torch>=1.8.0->ultralytics) (12.4.127)\n",
            "Collecting nvidia-nvjitlink-cu12==12.4.127 (from torch>=1.8.0->ultralytics)\n",
            "  Downloading nvidia_nvjitlink_cu12-12.4.127-py3-none-manylinux2014_x86_64.whl.metadata (1.5 kB)\n",
            "Requirement already satisfied: triton==3.1.0 in /usr/local/lib/python3.11/dist-packages (from torch>=1.8.0->ultralytics) (3.1.0)\n",
            "Requirement already satisfied: sympy==1.13.1 in /usr/local/lib/python3.11/dist-packages (from torch>=1.8.0->ultralytics) (1.13.1)\n",
            "Requirement already satisfied: mpmath<1.4,>=1.1.0 in /usr/local/lib/python3.11/dist-packages (from sympy==1.13.1->torch>=1.8.0->ultralytics) (1.3.0)\n",
            "Requirement already satisfied: six>=1.5 in /usr/local/lib/python3.11/dist-packages (from python-dateutil>=2.7->matplotlib>=3.3.0->ultralytics) (1.17.0)\n",
            "Requirement already satisfied: MarkupSafe>=2.0 in /usr/local/lib/python3.11/dist-packages (from jinja2->torch>=1.8.0->ultralytics) (3.0.2)\n",
            "Downloading ultralytics-8.3.75-py3-none-any.whl (914 kB)\n",
            "\u001b[2K   \u001b[90m━━━━━━━━━━━━━━━━━━━━━━━━━━━━━━━━━━━━━━━━\u001b[0m \u001b[32m914.9/914.9 kB\u001b[0m \u001b[31m23.1 MB/s\u001b[0m eta \u001b[36m0:00:00\u001b[0m\n",
            "\u001b[?25hDownloading nvidia_cublas_cu12-12.4.5.8-py3-none-manylinux2014_x86_64.whl (363.4 MB)\n",
            "\u001b[2K   \u001b[90m━━━━━━━━━━━━━━━━━━━━━━━━━━━━━━━━━━━━━━━━\u001b[0m \u001b[32m363.4/363.4 MB\u001b[0m \u001b[31m4.0 MB/s\u001b[0m eta \u001b[36m0:00:00\u001b[0m\n",
            "\u001b[?25hDownloading nvidia_cuda_cupti_cu12-12.4.127-py3-none-manylinux2014_x86_64.whl (13.8 MB)\n",
            "\u001b[2K   \u001b[90m━━━━━━━━━━━━━━━━━━━━━━━━━━━━━━━━━━━━━━━━\u001b[0m \u001b[32m13.8/13.8 MB\u001b[0m \u001b[31m65.1 MB/s\u001b[0m eta \u001b[36m0:00:00\u001b[0m\n",
            "\u001b[?25hDownloading nvidia_cuda_nvrtc_cu12-12.4.127-py3-none-manylinux2014_x86_64.whl (24.6 MB)\n",
            "\u001b[2K   \u001b[90m━━━━━━━━━━━━━━━━━━━━━━━━━━━━━━━━━━━━━━━━\u001b[0m \u001b[32m24.6/24.6 MB\u001b[0m \u001b[31m60.4 MB/s\u001b[0m eta \u001b[36m0:00:00\u001b[0m\n",
            "\u001b[?25hDownloading nvidia_cuda_runtime_cu12-12.4.127-py3-none-manylinux2014_x86_64.whl (883 kB)\n",
            "\u001b[2K   \u001b[90m━━━━━━━━━━━━━━━━━━━━━━━━━━━━━━━━━━━━━━━━\u001b[0m \u001b[32m883.7/883.7 kB\u001b[0m \u001b[31m42.0 MB/s\u001b[0m eta \u001b[36m0:00:00\u001b[0m\n",
            "\u001b[?25hDownloading nvidia_cudnn_cu12-9.1.0.70-py3-none-manylinux2014_x86_64.whl (664.8 MB)\n",
            "\u001b[2K   \u001b[90m━━━━━━━━━━━━━━━━━━━━━━━━━━━━━━━━━━━━━━━━\u001b[0m \u001b[32m664.8/664.8 MB\u001b[0m \u001b[31m2.0 MB/s\u001b[0m eta \u001b[36m0:00:00\u001b[0m\n",
            "\u001b[?25hDownloading nvidia_cufft_cu12-11.2.1.3-py3-none-manylinux2014_x86_64.whl (211.5 MB)\n",
            "\u001b[2K   \u001b[90m━━━━━━━━━━━━━━━━━━━━━━━━━━━━━━━━━━━━━━━━\u001b[0m \u001b[32m211.5/211.5 MB\u001b[0m \u001b[31m5.0 MB/s\u001b[0m eta \u001b[36m0:00:00\u001b[0m\n",
            "\u001b[?25hDownloading nvidia_curand_cu12-10.3.5.147-py3-none-manylinux2014_x86_64.whl (56.3 MB)\n",
            "\u001b[2K   \u001b[90m━━━━━━━━━━━━━━━━━━━━━━━━━━━━━━━━━━━━━━━━\u001b[0m \u001b[32m56.3/56.3 MB\u001b[0m \u001b[31m10.1 MB/s\u001b[0m eta \u001b[36m0:00:00\u001b[0m\n",
            "\u001b[?25hDownloading nvidia_cusolver_cu12-11.6.1.9-py3-none-manylinux2014_x86_64.whl (127.9 MB)\n",
            "\u001b[2K   \u001b[90m━━━━━━━━━━━━━━━━━━━━━━━━━━━━━━━━━━━━━━━━\u001b[0m \u001b[32m127.9/127.9 MB\u001b[0m \u001b[31m7.3 MB/s\u001b[0m eta \u001b[36m0:00:00\u001b[0m\n",
            "\u001b[?25hDownloading nvidia_cusparse_cu12-12.3.1.170-py3-none-manylinux2014_x86_64.whl (207.5 MB)\n",
            "\u001b[2K   \u001b[90m━━━━━━━━━━━━━━━━━━━━━━━━━━━━━━━━━━━━━━━━\u001b[0m \u001b[32m207.5/207.5 MB\u001b[0m \u001b[31m4.9 MB/s\u001b[0m eta \u001b[36m0:00:00\u001b[0m\n",
            "\u001b[?25hDownloading nvidia_nvjitlink_cu12-12.4.127-py3-none-manylinux2014_x86_64.whl (21.1 MB)\n",
            "\u001b[2K   \u001b[90m━━━━━━━━━━━━━━━━━━━━━━━━━━━━━━━━━━━━━━━━\u001b[0m \u001b[32m21.1/21.1 MB\u001b[0m \u001b[31m57.4 MB/s\u001b[0m eta \u001b[36m0:00:00\u001b[0m\n",
            "\u001b[?25hDownloading ultralytics_thop-2.0.14-py3-none-any.whl (26 kB)\n",
            "Installing collected packages: nvidia-nvjitlink-cu12, nvidia-curand-cu12, nvidia-cufft-cu12, nvidia-cuda-runtime-cu12, nvidia-cuda-nvrtc-cu12, nvidia-cuda-cupti-cu12, nvidia-cublas-cu12, nvidia-cusparse-cu12, nvidia-cudnn-cu12, nvidia-cusolver-cu12, ultralytics-thop, ultralytics\n",
            "  Attempting uninstall: nvidia-nvjitlink-cu12\n",
            "    Found existing installation: nvidia-nvjitlink-cu12 12.5.82\n",
            "    Uninstalling nvidia-nvjitlink-cu12-12.5.82:\n",
            "      Successfully uninstalled nvidia-nvjitlink-cu12-12.5.82\n",
            "  Attempting uninstall: nvidia-curand-cu12\n",
            "    Found existing installation: nvidia-curand-cu12 10.3.6.82\n",
            "    Uninstalling nvidia-curand-cu12-10.3.6.82:\n",
            "      Successfully uninstalled nvidia-curand-cu12-10.3.6.82\n",
            "  Attempting uninstall: nvidia-cufft-cu12\n",
            "    Found existing installation: nvidia-cufft-cu12 11.2.3.61\n",
            "    Uninstalling nvidia-cufft-cu12-11.2.3.61:\n",
            "      Successfully uninstalled nvidia-cufft-cu12-11.2.3.61\n",
            "  Attempting uninstall: nvidia-cuda-runtime-cu12\n",
            "    Found existing installation: nvidia-cuda-runtime-cu12 12.5.82\n",
            "    Uninstalling nvidia-cuda-runtime-cu12-12.5.82:\n",
            "      Successfully uninstalled nvidia-cuda-runtime-cu12-12.5.82\n",
            "  Attempting uninstall: nvidia-cuda-nvrtc-cu12\n",
            "    Found existing installation: nvidia-cuda-nvrtc-cu12 12.5.82\n",
            "    Uninstalling nvidia-cuda-nvrtc-cu12-12.5.82:\n",
            "      Successfully uninstalled nvidia-cuda-nvrtc-cu12-12.5.82\n",
            "  Attempting uninstall: nvidia-cuda-cupti-cu12\n",
            "    Found existing installation: nvidia-cuda-cupti-cu12 12.5.82\n",
            "    Uninstalling nvidia-cuda-cupti-cu12-12.5.82:\n",
            "      Successfully uninstalled nvidia-cuda-cupti-cu12-12.5.82\n",
            "  Attempting uninstall: nvidia-cublas-cu12\n",
            "    Found existing installation: nvidia-cublas-cu12 12.5.3.2\n",
            "    Uninstalling nvidia-cublas-cu12-12.5.3.2:\n",
            "      Successfully uninstalled nvidia-cublas-cu12-12.5.3.2\n",
            "  Attempting uninstall: nvidia-cusparse-cu12\n",
            "    Found existing installation: nvidia-cusparse-cu12 12.5.1.3\n",
            "    Uninstalling nvidia-cusparse-cu12-12.5.1.3:\n",
            "      Successfully uninstalled nvidia-cusparse-cu12-12.5.1.3\n",
            "  Attempting uninstall: nvidia-cudnn-cu12\n",
            "    Found existing installation: nvidia-cudnn-cu12 9.3.0.75\n",
            "    Uninstalling nvidia-cudnn-cu12-9.3.0.75:\n",
            "      Successfully uninstalled nvidia-cudnn-cu12-9.3.0.75\n",
            "  Attempting uninstall: nvidia-cusolver-cu12\n",
            "    Found existing installation: nvidia-cusolver-cu12 11.6.3.83\n",
            "    Uninstalling nvidia-cusolver-cu12-11.6.3.83:\n",
            "      Successfully uninstalled nvidia-cusolver-cu12-11.6.3.83\n",
            "Successfully installed nvidia-cublas-cu12-12.4.5.8 nvidia-cuda-cupti-cu12-12.4.127 nvidia-cuda-nvrtc-cu12-12.4.127 nvidia-cuda-runtime-cu12-12.4.127 nvidia-cudnn-cu12-9.1.0.70 nvidia-cufft-cu12-11.2.1.3 nvidia-curand-cu12-10.3.5.147 nvidia-cusolver-cu12-11.6.1.9 nvidia-cusparse-cu12-12.3.1.170 nvidia-nvjitlink-cu12-12.4.127 ultralytics-8.3.75 ultralytics-thop-2.0.14\n"
          ]
        }
      ],
      "source": [
        "!pip install ultralytics"
      ]
    },
    {
      "cell_type": "code",
      "source": [
        "!pip install roboflow"
      ],
      "metadata": {
        "colab": {
          "base_uri": "https://localhost:8080/"
        },
        "id": "tZP3K1EaB45T",
        "outputId": "f32702f5-943e-46d2-f0af-94c856ba419a"
      },
      "execution_count": 2,
      "outputs": [
        {
          "output_type": "stream",
          "name": "stdout",
          "text": [
            "Collecting roboflow\n",
            "  Downloading roboflow-1.1.54-py3-none-any.whl.metadata (9.7 kB)\n",
            "Requirement already satisfied: certifi in /usr/local/lib/python3.11/dist-packages (from roboflow) (2025.1.31)\n",
            "Collecting idna==3.7 (from roboflow)\n",
            "  Downloading idna-3.7-py3-none-any.whl.metadata (9.9 kB)\n",
            "Requirement already satisfied: cycler in /usr/local/lib/python3.11/dist-packages (from roboflow) (0.12.1)\n",
            "Requirement already satisfied: kiwisolver>=1.3.1 in /usr/local/lib/python3.11/dist-packages (from roboflow) (1.4.8)\n",
            "Requirement already satisfied: matplotlib in /usr/local/lib/python3.11/dist-packages (from roboflow) (3.10.0)\n",
            "Requirement already satisfied: numpy>=1.18.5 in /usr/local/lib/python3.11/dist-packages (from roboflow) (1.26.4)\n",
            "Collecting opencv-python-headless==4.10.0.84 (from roboflow)\n",
            "  Downloading opencv_python_headless-4.10.0.84-cp37-abi3-manylinux_2_17_x86_64.manylinux2014_x86_64.whl.metadata (20 kB)\n",
            "Requirement already satisfied: Pillow>=7.1.2 in /usr/local/lib/python3.11/dist-packages (from roboflow) (11.1.0)\n",
            "Requirement already satisfied: python-dateutil in /usr/local/lib/python3.11/dist-packages (from roboflow) (2.8.2)\n",
            "Collecting python-dotenv (from roboflow)\n",
            "  Downloading python_dotenv-1.0.1-py3-none-any.whl.metadata (23 kB)\n",
            "Requirement already satisfied: requests in /usr/local/lib/python3.11/dist-packages (from roboflow) (2.32.3)\n",
            "Requirement already satisfied: six in /usr/local/lib/python3.11/dist-packages (from roboflow) (1.17.0)\n",
            "Requirement already satisfied: urllib3>=1.26.6 in /usr/local/lib/python3.11/dist-packages (from roboflow) (2.3.0)\n",
            "Requirement already satisfied: tqdm>=4.41.0 in /usr/local/lib/python3.11/dist-packages (from roboflow) (4.67.1)\n",
            "Requirement already satisfied: PyYAML>=5.3.1 in /usr/local/lib/python3.11/dist-packages (from roboflow) (6.0.2)\n",
            "Requirement already satisfied: requests-toolbelt in /usr/local/lib/python3.11/dist-packages (from roboflow) (1.0.0)\n",
            "Collecting filetype (from roboflow)\n",
            "  Downloading filetype-1.2.0-py2.py3-none-any.whl.metadata (6.5 kB)\n",
            "Requirement already satisfied: contourpy>=1.0.1 in /usr/local/lib/python3.11/dist-packages (from matplotlib->roboflow) (1.3.1)\n",
            "Requirement already satisfied: fonttools>=4.22.0 in /usr/local/lib/python3.11/dist-packages (from matplotlib->roboflow) (4.55.8)\n",
            "Requirement already satisfied: packaging>=20.0 in /usr/local/lib/python3.11/dist-packages (from matplotlib->roboflow) (24.2)\n",
            "Requirement already satisfied: pyparsing>=2.3.1 in /usr/local/lib/python3.11/dist-packages (from matplotlib->roboflow) (3.2.1)\n",
            "Requirement already satisfied: charset-normalizer<4,>=2 in /usr/local/lib/python3.11/dist-packages (from requests->roboflow) (3.4.1)\n",
            "Downloading roboflow-1.1.54-py3-none-any.whl (83 kB)\n",
            "\u001b[2K   \u001b[90m━━━━━━━━━━━━━━━━━━━━━━━━━━━━━━━━━━━━━━━━\u001b[0m \u001b[32m83.1/83.1 kB\u001b[0m \u001b[31m4.5 MB/s\u001b[0m eta \u001b[36m0:00:00\u001b[0m\n",
            "\u001b[?25hDownloading idna-3.7-py3-none-any.whl (66 kB)\n",
            "\u001b[2K   \u001b[90m━━━━━━━━━━━━━━━━━━━━━━━━━━━━━━━━━━━━━━━━\u001b[0m \u001b[32m66.8/66.8 kB\u001b[0m \u001b[31m6.5 MB/s\u001b[0m eta \u001b[36m0:00:00\u001b[0m\n",
            "\u001b[?25hDownloading opencv_python_headless-4.10.0.84-cp37-abi3-manylinux_2_17_x86_64.manylinux2014_x86_64.whl (49.9 MB)\n",
            "\u001b[2K   \u001b[90m━━━━━━━━━━━━━━━━━━━━━━━━━━━━━━━━━━━━━━━━\u001b[0m \u001b[32m49.9/49.9 MB\u001b[0m \u001b[31m18.5 MB/s\u001b[0m eta \u001b[36m0:00:00\u001b[0m\n",
            "\u001b[?25hDownloading filetype-1.2.0-py2.py3-none-any.whl (19 kB)\n",
            "Downloading python_dotenv-1.0.1-py3-none-any.whl (19 kB)\n",
            "Installing collected packages: filetype, python-dotenv, opencv-python-headless, idna, roboflow\n",
            "  Attempting uninstall: opencv-python-headless\n",
            "    Found existing installation: opencv-python-headless 4.11.0.86\n",
            "    Uninstalling opencv-python-headless-4.11.0.86:\n",
            "      Successfully uninstalled opencv-python-headless-4.11.0.86\n",
            "  Attempting uninstall: idna\n",
            "    Found existing installation: idna 3.10\n",
            "    Uninstalling idna-3.10:\n",
            "      Successfully uninstalled idna-3.10\n",
            "Successfully installed filetype-1.2.0 idna-3.7 opencv-python-headless-4.10.0.84 python-dotenv-1.0.1 roboflow-1.1.54\n"
          ]
        }
      ]
    },
    {
      "cell_type": "code",
      "source": [
        "import torch\n",
        "import os\n",
        "\n",
        "if torch.cuda.is_available():\n",
        "    print(\"✅ GPU is enabled:\", torch.cuda.get_device_name(0))\n",
        "elif \"COLAB_TPU_ADDR\" in os.environ:\n",
        "    print(\"✅ TPU is enabled\")\n",
        "else:\n",
        "    print(\"⚠️ No GPU or TPU found. Using CPU.\")"
      ],
      "metadata": {
        "colab": {
          "base_uri": "https://localhost:8080/"
        },
        "id": "Y260JZGrCFwi",
        "outputId": "2f73f527-7901-492c-b37e-f4bac4a572c7"
      },
      "execution_count": 3,
      "outputs": [
        {
          "output_type": "stream",
          "name": "stdout",
          "text": [
            "✅ GPU is enabled: Tesla T4\n"
          ]
        }
      ]
    },
    {
      "cell_type": "code",
      "source": [
        "device = torch.device(\"cuda\" if torch.cuda.is_available() else \"cpu\") # Changed \"Cuda\" to \"cuda\"\n",
        "print(f\"Using device: {device}\")"
      ],
      "metadata": {
        "colab": {
          "base_uri": "https://localhost:8080/"
        },
        "id": "JwVxDDVECLRc",
        "outputId": "677a70cf-84d0-4276-8595-c2c5280a9853"
      },
      "execution_count": 4,
      "outputs": [
        {
          "output_type": "stream",
          "name": "stdout",
          "text": [
            "Using device: cuda\n"
          ]
        }
      ]
    },
    {
      "cell_type": "code",
      "source": [
        "from roboflow import Roboflow\n",
        "rf = Roboflow(api_key=\"4rPASa9uEULBE88IGCxn\")\n",
        "project = rf.workspace(\"weed-detection-a0meg\").project(\"weeds-nxe1w-vuoqe\")\n",
        "version = project.version(1)\n",
        "dataset = version.download(\"yolov8\")"
      ],
      "metadata": {
        "colab": {
          "base_uri": "https://localhost:8080/"
        },
        "id": "puax7q99COmq",
        "outputId": "6fd75866-9064-4c1f-c8a7-d3d24cff0ed9"
      },
      "execution_count": 5,
      "outputs": [
        {
          "output_type": "stream",
          "name": "stdout",
          "text": [
            "loading Roboflow workspace...\n",
            "loading Roboflow project...\n"
          ]
        },
        {
          "output_type": "stream",
          "name": "stderr",
          "text": [
            "Downloading Dataset Version Zip in Weeds-1 to yolov8:: 100%|██████████| 1389071/1389071 [00:22<00:00, 61918.56it/s]"
          ]
        },
        {
          "output_type": "stream",
          "name": "stdout",
          "text": [
            "\n"
          ]
        },
        {
          "output_type": "stream",
          "name": "stderr",
          "text": [
            "\n",
            "Extracting Dataset Version Zip to Weeds-1 in yolov8:: 100%|██████████| 23074/23074 [00:06<00:00, 3337.30it/s]\n"
          ]
        },
        {
          "output_type": "stream",
          "name": "stdout",
          "text": [
            "Creating new Ultralytics Settings v0.0.6 file ✅ \n",
            "View Ultralytics Settings with 'yolo settings' or at '/root/.config/Ultralytics/settings.json'\n",
            "Update Settings with 'yolo settings key=value', i.e. 'yolo settings runs_dir=path/to/dir'. For help see https://docs.ultralytics.com/quickstart/#ultralytics-settings.\n"
          ]
        }
      ]
    },
    {
      "cell_type": "code",
      "source": [
        "import os\n",
        "os.listdir(\"/content\")"
      ],
      "metadata": {
        "colab": {
          "base_uri": "https://localhost:8080/"
        },
        "id": "xPfCgZd-CbiW",
        "outputId": "4b92883c-ce1a-4496-91b6-0ef9a6b60d92"
      },
      "execution_count": 6,
      "outputs": [
        {
          "output_type": "execute_result",
          "data": {
            "text/plain": [
              "['.config', 'Weeds-1', 'sample_data']"
            ]
          },
          "metadata": {},
          "execution_count": 6
        }
      ]
    },
    {
      "cell_type": "code",
      "source": [
        "%cd /content/Weeds-1"
      ],
      "metadata": {
        "colab": {
          "base_uri": "https://localhost:8080/"
        },
        "id": "HTLuOswxCegD",
        "outputId": "69172d1e-b036-4cf1-f854-7043e94a065f"
      },
      "execution_count": 7,
      "outputs": [
        {
          "output_type": "stream",
          "name": "stdout",
          "text": [
            "/content/Weeds-1\n"
          ]
        }
      ]
    },
    {
      "cell_type": "code",
      "source": [
        "import os\n",
        "os.listdir()"
      ],
      "metadata": {
        "colab": {
          "base_uri": "https://localhost:8080/"
        },
        "id": "ezR2p2ODCgrI",
        "outputId": "2ef339e8-75c6-4a4f-e5bd-339f627e7cca"
      },
      "execution_count": 8,
      "outputs": [
        {
          "output_type": "execute_result",
          "data": {
            "text/plain": [
              "['README.dataset.txt',\n",
              " 'train',\n",
              " 'README.roboflow.txt',\n",
              " 'valid',\n",
              " 'test',\n",
              " 'data.yaml']"
            ]
          },
          "metadata": {},
          "execution_count": 8
        }
      ]
    },
    {
      "cell_type": "code",
      "source": [
        "project = rf.workspace(\"weed-detection-a0meg\").project(\"weeds-nxe1w-vuoqe\")\n"
      ],
      "metadata": {
        "colab": {
          "base_uri": "https://localhost:8080/"
        },
        "id": "nwZqQrn5CnQj",
        "outputId": "5885f40e-a732-4f16-8cf3-cf6ff78baa44"
      },
      "execution_count": 9,
      "outputs": [
        {
          "output_type": "stream",
          "name": "stdout",
          "text": [
            "loading Roboflow workspace...\n",
            "loading Roboflow project...\n"
          ]
        }
      ]
    },
    {
      "cell_type": "code",
      "source": [
        "from ultralytics import YOLO\n",
        "\n",
        "YOLO().info()"
      ],
      "metadata": {
        "colab": {
          "base_uri": "https://localhost:8080/"
        },
        "id": "NGWhIBxDCphg",
        "outputId": "7fad177a-10f5-4ea0-a243-fff8437e3c48"
      },
      "execution_count": 10,
      "outputs": [
        {
          "output_type": "stream",
          "name": "stdout",
          "text": [
            "Downloading https://github.com/ultralytics/assets/releases/download/v8.3.0/yolo11n.pt to 'yolo11n.pt'...\n"
          ]
        },
        {
          "output_type": "stream",
          "name": "stderr",
          "text": [
            "100%|██████████| 5.35M/5.35M [00:00<00:00, 84.2MB/s]\n"
          ]
        },
        {
          "output_type": "stream",
          "name": "stdout",
          "text": [
            "YOLO11n summary: 319 layers, 2,624,080 parameters, 0 gradients, 6.6 GFLOPs\n"
          ]
        },
        {
          "output_type": "execute_result",
          "data": {
            "text/plain": [
              "(319, 2624080, 0, 6.614336)"
            ]
          },
          "metadata": {},
          "execution_count": 10
        }
      ]
    },
    {
      "cell_type": "code",
      "source": [
        "import os\n",
        "os.listdir(\"/content\")"
      ],
      "metadata": {
        "colab": {
          "base_uri": "https://localhost:8080/"
        },
        "id": "2OrQ24y4Cr1k",
        "outputId": "58115d5c-6043-4f40-c70a-4681c04ab552"
      },
      "execution_count": 11,
      "outputs": [
        {
          "output_type": "execute_result",
          "data": {
            "text/plain": [
              "['.config', 'Weeds-1', 'sample_data']"
            ]
          },
          "metadata": {},
          "execution_count": 11
        }
      ]
    },
    {
      "cell_type": "code",
      "source": [
        "%cd /content/Weeds-1"
      ],
      "metadata": {
        "colab": {
          "base_uri": "https://localhost:8080/"
        },
        "id": "QeW7qfqKC7I2",
        "outputId": "be62806f-45ad-480e-dc6d-8bab62224a1e"
      },
      "execution_count": 12,
      "outputs": [
        {
          "output_type": "stream",
          "name": "stdout",
          "text": [
            "/content/Weeds-1\n"
          ]
        }
      ]
    },
    {
      "cell_type": "code",
      "source": [
        "os.listdir()"
      ],
      "metadata": {
        "colab": {
          "base_uri": "https://localhost:8080/"
        },
        "id": "hB2vIuPeC9IL",
        "outputId": "6ba3ca07-eb46-401f-88d3-8973364b3393"
      },
      "execution_count": 13,
      "outputs": [
        {
          "output_type": "execute_result",
          "data": {
            "text/plain": [
              "['yolo11n.pt',\n",
              " 'README.dataset.txt',\n",
              " 'train',\n",
              " 'README.roboflow.txt',\n",
              " 'valid',\n",
              " 'test',\n",
              " 'data.yaml']"
            ]
          },
          "metadata": {},
          "execution_count": 13
        }
      ]
    },
    {
      "cell_type": "code",
      "source": [
        "with open(\"data.yaml\", \"r\") as f:\n",
        "  print(f.read())"
      ],
      "metadata": {
        "colab": {
          "base_uri": "https://localhost:8080/"
        },
        "id": "ogc2Z3M6DAKK",
        "outputId": "6c3ed9f9-bc5c-4cf7-85bc-81c17b25c406"
      },
      "execution_count": 14,
      "outputs": [
        {
          "output_type": "stream",
          "name": "stdout",
          "text": [
            "names:\n",
            "- Weeds\n",
            "nc: 1\n",
            "roboflow:\n",
            "  license: CC BY 4.0\n",
            "  project: weeds-nxe1w-vuoqe\n",
            "  url: https://universe.roboflow.com/weed-detection-a0meg/weeds-nxe1w-vuoqe/dataset/1\n",
            "  version: 1\n",
            "  workspace: weed-detection-a0meg\n",
            "test: ../test/images\n",
            "train: ../train/images\n",
            "val: ../valid/images\n",
            "\n"
          ]
        }
      ]
    },
    {
      "cell_type": "code",
      "source": [
        "yaml_content = \"\"\"train: /content/Weeds-1/train/images\n",
        "val: /content/Weeds-1/valid/images\n",
        "test: /content/Weeds-1/test/images\n",
        "\n",
        "nc: 1\n",
        "names: [\"weed\"]\n",
        "\"\"\"\n",
        "\n",
        "with open(\"data.yaml\", \"w\") as f:\n",
        "    f.write(yaml_content)"
      ],
      "metadata": {
        "id": "0emj5OA3DGiO"
      },
      "execution_count": 15,
      "outputs": []
    },
    {
      "cell_type": "code",
      "source": [
        "with open(\"data.yaml\", \"r\") as f:\n",
        "    print(f.read())"
      ],
      "metadata": {
        "colab": {
          "base_uri": "https://localhost:8080/"
        },
        "id": "YMJQNNGHDIke",
        "outputId": "ccb132d8-6fc9-4bed-f957-bc1904fe377d"
      },
      "execution_count": 16,
      "outputs": [
        {
          "output_type": "stream",
          "name": "stdout",
          "text": [
            "train: /content/Weeds-1/train/images\n",
            "val: /content/Weeds-1/valid/images\n",
            "test: /content/Weeds-1/test/images\n",
            "\n",
            "nc: 1\n",
            "names: [\"weed\"]\n",
            "\n"
          ]
        }
      ]
    },
    {
      "cell_type": "code",
      "source": [
        "# Loading YOLOv8 model\n",
        "model = YOLO(\"yolov8n.pt\")\n",
        "\n",
        "# Train the model\n",
        "model.train(data=\"data.yaml\",\n",
        "            epochs=50,\n",
        "            batch=16,\n",
        "            imgsz=640,\n",
        "            device=\"cuda\"\n",
        "            )"
      ],
      "metadata": {
        "colab": {
          "base_uri": "https://localhost:8080/"
        },
        "id": "sC6Gf9fSDPA9",
        "outputId": "40cb1d90-c70f-445c-f6d8-706158f25ea5"
      },
      "execution_count": 17,
      "outputs": [
        {
          "output_type": "stream",
          "name": "stdout",
          "text": [
            "Downloading https://github.com/ultralytics/assets/releases/download/v8.3.0/yolov8n.pt to 'yolov8n.pt'...\n"
          ]
        },
        {
          "output_type": "stream",
          "name": "stderr",
          "text": [
            "100%|██████████| 6.25M/6.25M [00:00<00:00, 111MB/s]"
          ]
        },
        {
          "output_type": "stream",
          "name": "stdout",
          "text": [
            "Ultralytics 8.3.75 🚀 Python-3.11.11 torch-2.5.1+cu124 CUDA:0 (Tesla T4, 15095MiB)\n"
          ]
        },
        {
          "output_type": "stream",
          "name": "stderr",
          "text": [
            "\n"
          ]
        },
        {
          "output_type": "stream",
          "name": "stdout",
          "text": [
            "\u001b[34m\u001b[1mengine/trainer: \u001b[0mtask=detect, mode=train, model=yolov8n.pt, data=data.yaml, epochs=50, time=None, patience=100, batch=16, imgsz=640, save=True, save_period=-1, cache=False, device=cuda, workers=8, project=None, name=train, exist_ok=False, pretrained=True, optimizer=auto, verbose=True, seed=0, deterministic=True, single_cls=False, rect=False, cos_lr=False, close_mosaic=10, resume=False, amp=True, fraction=1.0, profile=False, freeze=None, multi_scale=False, overlap_mask=True, mask_ratio=4, dropout=0.0, val=True, split=val, save_json=False, save_hybrid=False, conf=None, iou=0.7, max_det=300, half=False, dnn=False, plots=True, source=None, vid_stride=1, stream_buffer=False, visualize=False, augment=False, agnostic_nms=False, classes=None, retina_masks=False, embed=None, show=False, save_frames=False, save_txt=False, save_conf=False, save_crop=False, show_labels=True, show_conf=True, show_boxes=True, line_width=None, format=torchscript, keras=False, optimize=False, int8=False, dynamic=False, simplify=True, opset=None, workspace=None, nms=False, lr0=0.01, lrf=0.01, momentum=0.937, weight_decay=0.0005, warmup_epochs=3.0, warmup_momentum=0.8, warmup_bias_lr=0.1, box=7.5, cls=0.5, dfl=1.5, pose=12.0, kobj=1.0, nbs=64, hsv_h=0.015, hsv_s=0.7, hsv_v=0.4, degrees=0.0, translate=0.1, scale=0.5, shear=0.0, perspective=0.0, flipud=0.0, fliplr=0.5, bgr=0.0, mosaic=1.0, mixup=0.0, copy_paste=0.0, copy_paste_mode=flip, auto_augment=randaugment, erasing=0.4, crop_fraction=1.0, cfg=None, tracker=botsort.yaml, save_dir=runs/detect/train\n",
            "Downloading https://ultralytics.com/assets/Arial.ttf to '/root/.config/Ultralytics/Arial.ttf'...\n"
          ]
        },
        {
          "output_type": "stream",
          "name": "stderr",
          "text": [
            "100%|██████████| 755k/755k [00:00<00:00, 27.3MB/s]\n"
          ]
        },
        {
          "output_type": "stream",
          "name": "stdout",
          "text": [
            "Overriding model.yaml nc=80 with nc=1\n",
            "\n",
            "                   from  n    params  module                                       arguments                     \n",
            "  0                  -1  1       464  ultralytics.nn.modules.conv.Conv             [3, 16, 3, 2]                 \n",
            "  1                  -1  1      4672  ultralytics.nn.modules.conv.Conv             [16, 32, 3, 2]                \n",
            "  2                  -1  1      7360  ultralytics.nn.modules.block.C2f             [32, 32, 1, True]             \n",
            "  3                  -1  1     18560  ultralytics.nn.modules.conv.Conv             [32, 64, 3, 2]                \n",
            "  4                  -1  2     49664  ultralytics.nn.modules.block.C2f             [64, 64, 2, True]             \n",
            "  5                  -1  1     73984  ultralytics.nn.modules.conv.Conv             [64, 128, 3, 2]               \n",
            "  6                  -1  2    197632  ultralytics.nn.modules.block.C2f             [128, 128, 2, True]           \n",
            "  7                  -1  1    295424  ultralytics.nn.modules.conv.Conv             [128, 256, 3, 2]              \n",
            "  8                  -1  1    460288  ultralytics.nn.modules.block.C2f             [256, 256, 1, True]           \n",
            "  9                  -1  1    164608  ultralytics.nn.modules.block.SPPF            [256, 256, 5]                 \n",
            " 10                  -1  1         0  torch.nn.modules.upsampling.Upsample         [None, 2, 'nearest']          \n",
            " 11             [-1, 6]  1         0  ultralytics.nn.modules.conv.Concat           [1]                           \n",
            " 12                  -1  1    148224  ultralytics.nn.modules.block.C2f             [384, 128, 1]                 \n",
            " 13                  -1  1         0  torch.nn.modules.upsampling.Upsample         [None, 2, 'nearest']          \n",
            " 14             [-1, 4]  1         0  ultralytics.nn.modules.conv.Concat           [1]                           \n",
            " 15                  -1  1     37248  ultralytics.nn.modules.block.C2f             [192, 64, 1]                  \n",
            " 16                  -1  1     36992  ultralytics.nn.modules.conv.Conv             [64, 64, 3, 2]                \n",
            " 17            [-1, 12]  1         0  ultralytics.nn.modules.conv.Concat           [1]                           \n",
            " 18                  -1  1    123648  ultralytics.nn.modules.block.C2f             [192, 128, 1]                 \n",
            " 19                  -1  1    147712  ultralytics.nn.modules.conv.Conv             [128, 128, 3, 2]              \n",
            " 20             [-1, 9]  1         0  ultralytics.nn.modules.conv.Concat           [1]                           \n",
            " 21                  -1  1    493056  ultralytics.nn.modules.block.C2f             [384, 256, 1]                 \n",
            " 22        [15, 18, 21]  1    751507  ultralytics.nn.modules.head.Detect           [1, [64, 128, 256]]           \n",
            "Model summary: 225 layers, 3,011,043 parameters, 3,011,027 gradients, 8.2 GFLOPs\n",
            "\n",
            "Transferred 319/355 items from pretrained weights\n",
            "\u001b[34m\u001b[1mTensorBoard: \u001b[0mStart with 'tensorboard --logdir runs/detect/train', view at http://localhost:6006/\n",
            "Freezing layer 'model.22.dfl.conv.weight'\n",
            "\u001b[34m\u001b[1mAMP: \u001b[0mrunning Automatic Mixed Precision (AMP) checks...\n",
            "\u001b[34m\u001b[1mAMP: \u001b[0mchecks passed ✅\n"
          ]
        },
        {
          "output_type": "stream",
          "name": "stderr",
          "text": [
            "\u001b[34m\u001b[1mtrain: \u001b[0mScanning /content/Weeds-1/train/labels... 10992 images, 0 backgrounds, 0 corrupt: 100%|██████████| 10992/10992 [00:04<00:00, 2382.73it/s]\n"
          ]
        },
        {
          "output_type": "stream",
          "name": "stdout",
          "text": [
            "\u001b[34m\u001b[1mtrain: \u001b[0mNew cache created: /content/Weeds-1/train/labels.cache\n",
            "\u001b[34m\u001b[1malbumentations: \u001b[0mBlur(p=0.01, blur_limit=(3, 7)), MedianBlur(p=0.01, blur_limit=(3, 7)), ToGray(p=0.01, num_output_channels=3, method='weighted_average'), CLAHE(p=0.01, clip_limit=(1.0, 4.0), tile_grid_size=(8, 8))\n"
          ]
        },
        {
          "output_type": "stream",
          "name": "stderr",
          "text": [
            "A new version of Albumentations is available: '2.0.4' (you have '2.0.3'). Upgrade using: pip install -U albumentations. To disable automatic update checks, set the environment variable NO_ALBUMENTATIONS_UPDATE to 1.\n",
            "\u001b[34m\u001b[1mval: \u001b[0mScanning /content/Weeds-1/valid/labels... 359 images, 0 backgrounds, 0 corrupt: 100%|██████████| 359/359 [00:00<00:00, 1146.09it/s]"
          ]
        },
        {
          "output_type": "stream",
          "name": "stdout",
          "text": [
            "\u001b[34m\u001b[1mval: \u001b[0mNew cache created: /content/Weeds-1/valid/labels.cache\n"
          ]
        },
        {
          "output_type": "stream",
          "name": "stderr",
          "text": [
            "\n"
          ]
        },
        {
          "output_type": "stream",
          "name": "stdout",
          "text": [
            "Plotting labels to runs/detect/train/labels.jpg... \n",
            "\u001b[34m\u001b[1moptimizer:\u001b[0m 'optimizer=auto' found, ignoring 'lr0=0.01' and 'momentum=0.937' and determining best 'optimizer', 'lr0' and 'momentum' automatically... \n",
            "\u001b[34m\u001b[1moptimizer:\u001b[0m AdamW(lr=0.002, momentum=0.9) with parameter groups 57 weight(decay=0.0), 64 weight(decay=0.0005), 63 bias(decay=0.0)\n",
            "\u001b[34m\u001b[1mTensorBoard: \u001b[0mmodel graph visualization added ✅\n",
            "Image sizes 640 train, 640 val\n",
            "Using 2 dataloader workers\n",
            "Logging results to \u001b[1mruns/detect/train\u001b[0m\n",
            "Starting training for 50 epochs...\n",
            "\n",
            "      Epoch    GPU_mem   box_loss   cls_loss   dfl_loss  Instances       Size\n"
          ]
        },
        {
          "output_type": "stream",
          "name": "stderr",
          "text": [
            "       1/50      2.25G      1.548      1.718        1.6         97        640: 100%|██████████| 687/687 [03:26<00:00,  3.32it/s]\n",
            "                 Class     Images  Instances      Box(P          R      mAP50  mAP50-95): 100%|██████████| 12/12 [00:04<00:00,  2.67it/s]\n"
          ]
        },
        {
          "output_type": "stream",
          "name": "stdout",
          "text": [
            "                   all        359        920      0.771      0.701       0.78      0.353\n",
            "\n",
            "      Epoch    GPU_mem   box_loss   cls_loss   dfl_loss  Instances       Size\n"
          ]
        },
        {
          "output_type": "stream",
          "name": "stderr",
          "text": [
            "       2/50       2.2G      1.456      1.265      1.523         72        640: 100%|██████████| 687/687 [03:23<00:00,  3.38it/s]\n",
            "                 Class     Images  Instances      Box(P          R      mAP50  mAP50-95): 100%|██████████| 12/12 [00:03<00:00,  3.43it/s]\n"
          ]
        },
        {
          "output_type": "stream",
          "name": "stdout",
          "text": [
            "                   all        359        920      0.803      0.716       0.79      0.426\n",
            "\n",
            "      Epoch    GPU_mem   box_loss   cls_loss   dfl_loss  Instances       Size\n"
          ]
        },
        {
          "output_type": "stream",
          "name": "stderr",
          "text": [
            "       3/50      2.18G      1.411      1.151      1.488         79        640: 100%|██████████| 687/687 [03:19<00:00,  3.45it/s]\n",
            "                 Class     Images  Instances      Box(P          R      mAP50  mAP50-95): 100%|██████████| 12/12 [00:03<00:00,  3.47it/s]\n"
          ]
        },
        {
          "output_type": "stream",
          "name": "stdout",
          "text": [
            "                   all        359        920      0.846      0.772      0.851      0.488\n",
            "\n",
            "      Epoch    GPU_mem   box_loss   cls_loss   dfl_loss  Instances       Size\n"
          ]
        },
        {
          "output_type": "stream",
          "name": "stderr",
          "text": [
            "       4/50      2.22G      1.354      1.056      1.451         86        640: 100%|██████████| 687/687 [03:17<00:00,  3.48it/s]\n",
            "                 Class     Images  Instances      Box(P          R      mAP50  mAP50-95): 100%|██████████| 12/12 [00:03<00:00,  3.57it/s]"
          ]
        },
        {
          "output_type": "stream",
          "name": "stdout",
          "text": [
            "                   all        359        920      0.905      0.825      0.914      0.524\n"
          ]
        },
        {
          "output_type": "stream",
          "name": "stderr",
          "text": [
            "\n"
          ]
        },
        {
          "output_type": "stream",
          "name": "stdout",
          "text": [
            "\n",
            "      Epoch    GPU_mem   box_loss   cls_loss   dfl_loss  Instances       Size\n"
          ]
        },
        {
          "output_type": "stream",
          "name": "stderr",
          "text": [
            "       5/50      2.17G      1.298      0.972      1.408         53        640: 100%|██████████| 687/687 [03:18<00:00,  3.46it/s]\n",
            "                 Class     Images  Instances      Box(P          R      mAP50  mAP50-95): 100%|██████████| 12/12 [00:04<00:00,  2.93it/s]"
          ]
        },
        {
          "output_type": "stream",
          "name": "stdout",
          "text": [
            "                   all        359        920      0.883      0.866      0.925      0.573\n"
          ]
        },
        {
          "output_type": "stream",
          "name": "stderr",
          "text": [
            "\n"
          ]
        },
        {
          "output_type": "stream",
          "name": "stdout",
          "text": [
            "\n",
            "      Epoch    GPU_mem   box_loss   cls_loss   dfl_loss  Instances       Size\n"
          ]
        },
        {
          "output_type": "stream",
          "name": "stderr",
          "text": [
            "       6/50      2.17G      1.254     0.9083      1.376         80        640: 100%|██████████| 687/687 [03:19<00:00,  3.44it/s]\n",
            "                 Class     Images  Instances      Box(P          R      mAP50  mAP50-95): 100%|██████████| 12/12 [00:04<00:00,  2.76it/s]"
          ]
        },
        {
          "output_type": "stream",
          "name": "stdout",
          "text": [
            "                   all        359        920      0.922      0.879      0.943      0.634\n"
          ]
        },
        {
          "output_type": "stream",
          "name": "stderr",
          "text": [
            "\n"
          ]
        },
        {
          "output_type": "stream",
          "name": "stdout",
          "text": [
            "\n",
            "      Epoch    GPU_mem   box_loss   cls_loss   dfl_loss  Instances       Size\n"
          ]
        },
        {
          "output_type": "stream",
          "name": "stderr",
          "text": [
            "       7/50      2.18G      1.221     0.8575      1.348         78        640: 100%|██████████| 687/687 [03:17<00:00,  3.48it/s]\n",
            "                 Class     Images  Instances      Box(P          R      mAP50  mAP50-95): 100%|██████████| 12/12 [00:03<00:00,  3.66it/s]"
          ]
        },
        {
          "output_type": "stream",
          "name": "stdout",
          "text": [
            "                   all        359        920        0.9      0.873      0.932      0.602\n"
          ]
        },
        {
          "output_type": "stream",
          "name": "stderr",
          "text": [
            "\n"
          ]
        },
        {
          "output_type": "stream",
          "name": "stdout",
          "text": [
            "\n",
            "      Epoch    GPU_mem   box_loss   cls_loss   dfl_loss  Instances       Size\n"
          ]
        },
        {
          "output_type": "stream",
          "name": "stderr",
          "text": [
            "       8/50       2.2G      1.187     0.8227      1.326         56        640: 100%|██████████| 687/687 [03:17<00:00,  3.48it/s]\n",
            "                 Class     Images  Instances      Box(P          R      mAP50  mAP50-95): 100%|██████████| 12/12 [00:03<00:00,  3.89it/s]"
          ]
        },
        {
          "output_type": "stream",
          "name": "stdout",
          "text": [
            "                   all        359        920      0.918      0.882      0.948      0.604\n"
          ]
        },
        {
          "output_type": "stream",
          "name": "stderr",
          "text": [
            "\n"
          ]
        },
        {
          "output_type": "stream",
          "name": "stdout",
          "text": [
            "\n",
            "      Epoch    GPU_mem   box_loss   cls_loss   dfl_loss  Instances       Size\n"
          ]
        },
        {
          "output_type": "stream",
          "name": "stderr",
          "text": [
            "       9/50      2.18G      1.169     0.7911      1.315         80        640: 100%|██████████| 687/687 [03:20<00:00,  3.43it/s]\n",
            "                 Class     Images  Instances      Box(P          R      mAP50  mAP50-95): 100%|██████████| 12/12 [00:03<00:00,  3.71it/s]"
          ]
        },
        {
          "output_type": "stream",
          "name": "stdout",
          "text": [
            "                   all        359        920      0.905      0.903      0.951      0.644\n"
          ]
        },
        {
          "output_type": "stream",
          "name": "stderr",
          "text": [
            "\n"
          ]
        },
        {
          "output_type": "stream",
          "name": "stdout",
          "text": [
            "\n",
            "      Epoch    GPU_mem   box_loss   cls_loss   dfl_loss  Instances       Size\n"
          ]
        },
        {
          "output_type": "stream",
          "name": "stderr",
          "text": [
            "      10/50      2.18G      1.149       0.77      1.297         68        640: 100%|██████████| 687/687 [03:16<00:00,  3.50it/s]\n",
            "                 Class     Images  Instances      Box(P          R      mAP50  mAP50-95): 100%|██████████| 12/12 [00:04<00:00,  2.90it/s]"
          ]
        },
        {
          "output_type": "stream",
          "name": "stdout",
          "text": [
            "                   all        359        920      0.906      0.914      0.956      0.632\n"
          ]
        },
        {
          "output_type": "stream",
          "name": "stderr",
          "text": [
            "\n"
          ]
        },
        {
          "output_type": "stream",
          "name": "stdout",
          "text": [
            "\n",
            "      Epoch    GPU_mem   box_loss   cls_loss   dfl_loss  Instances       Size\n"
          ]
        },
        {
          "output_type": "stream",
          "name": "stderr",
          "text": [
            "      11/50      2.18G       1.13     0.7436      1.282        108        640: 100%|██████████| 687/687 [03:18<00:00,  3.45it/s]\n",
            "                 Class     Images  Instances      Box(P          R      mAP50  mAP50-95): 100%|██████████| 12/12 [00:03<00:00,  3.89it/s]"
          ]
        },
        {
          "output_type": "stream",
          "name": "stdout",
          "text": [
            "                   all        359        920      0.903      0.925      0.949       0.66\n"
          ]
        },
        {
          "output_type": "stream",
          "name": "stderr",
          "text": [
            "\n"
          ]
        },
        {
          "output_type": "stream",
          "name": "stdout",
          "text": [
            "\n",
            "      Epoch    GPU_mem   box_loss   cls_loss   dfl_loss  Instances       Size\n"
          ]
        },
        {
          "output_type": "stream",
          "name": "stderr",
          "text": [
            "      12/50      2.17G      1.111     0.7271      1.272         47        640: 100%|██████████| 687/687 [03:19<00:00,  3.45it/s]\n",
            "                 Class     Images  Instances      Box(P          R      mAP50  mAP50-95): 100%|██████████| 12/12 [00:03<00:00,  3.71it/s]"
          ]
        },
        {
          "output_type": "stream",
          "name": "stdout",
          "text": [
            "                   all        359        920      0.901      0.934      0.957      0.648\n"
          ]
        },
        {
          "output_type": "stream",
          "name": "stderr",
          "text": [
            "\n"
          ]
        },
        {
          "output_type": "stream",
          "name": "stdout",
          "text": [
            "\n",
            "      Epoch    GPU_mem   box_loss   cls_loss   dfl_loss  Instances       Size\n"
          ]
        },
        {
          "output_type": "stream",
          "name": "stderr",
          "text": [
            "      13/50      2.18G        1.1     0.7058      1.259         76        640: 100%|██████████| 687/687 [03:16<00:00,  3.50it/s]\n",
            "                 Class     Images  Instances      Box(P          R      mAP50  mAP50-95): 100%|██████████| 12/12 [00:04<00:00,  2.89it/s]"
          ]
        },
        {
          "output_type": "stream",
          "name": "stdout",
          "text": [
            "                   all        359        920      0.918       0.94      0.959      0.645\n"
          ]
        },
        {
          "output_type": "stream",
          "name": "stderr",
          "text": [
            "\n"
          ]
        },
        {
          "output_type": "stream",
          "name": "stdout",
          "text": [
            "\n",
            "      Epoch    GPU_mem   box_loss   cls_loss   dfl_loss  Instances       Size\n"
          ]
        },
        {
          "output_type": "stream",
          "name": "stderr",
          "text": [
            "      14/50      2.22G      1.087     0.6966      1.255         60        640: 100%|██████████| 687/687 [03:15<00:00,  3.51it/s]\n",
            "                 Class     Images  Instances      Box(P          R      mAP50  mAP50-95): 100%|██████████| 12/12 [00:03<00:00,  3.87it/s]"
          ]
        },
        {
          "output_type": "stream",
          "name": "stdout",
          "text": [
            "                   all        359        920       0.92      0.907      0.952      0.642\n"
          ]
        },
        {
          "output_type": "stream",
          "name": "stderr",
          "text": [
            "\n"
          ]
        },
        {
          "output_type": "stream",
          "name": "stdout",
          "text": [
            "\n",
            "      Epoch    GPU_mem   box_loss   cls_loss   dfl_loss  Instances       Size\n"
          ]
        },
        {
          "output_type": "stream",
          "name": "stderr",
          "text": [
            "      15/50      2.18G      1.076     0.6723      1.241         78        640: 100%|██████████| 687/687 [03:19<00:00,  3.45it/s]\n",
            "                 Class     Images  Instances      Box(P          R      mAP50  mAP50-95): 100%|██████████| 12/12 [00:03<00:00,  3.76it/s]"
          ]
        },
        {
          "output_type": "stream",
          "name": "stdout",
          "text": [
            "                   all        359        920      0.912      0.936       0.95      0.637\n"
          ]
        },
        {
          "output_type": "stream",
          "name": "stderr",
          "text": [
            "\n"
          ]
        },
        {
          "output_type": "stream",
          "name": "stdout",
          "text": [
            "\n",
            "      Epoch    GPU_mem   box_loss   cls_loss   dfl_loss  Instances       Size\n"
          ]
        },
        {
          "output_type": "stream",
          "name": "stderr",
          "text": [
            "      16/50      2.17G      1.063      0.667      1.233         74        640: 100%|██████████| 687/687 [03:18<00:00,  3.47it/s]\n",
            "                 Class     Images  Instances      Box(P          R      mAP50  mAP50-95): 100%|██████████| 12/12 [00:03<00:00,  3.66it/s]"
          ]
        },
        {
          "output_type": "stream",
          "name": "stdout",
          "text": [
            "                   all        359        920      0.918      0.949      0.968      0.688\n"
          ]
        },
        {
          "output_type": "stream",
          "name": "stderr",
          "text": [
            "\n"
          ]
        },
        {
          "output_type": "stream",
          "name": "stdout",
          "text": [
            "\n",
            "      Epoch    GPU_mem   box_loss   cls_loss   dfl_loss  Instances       Size\n"
          ]
        },
        {
          "output_type": "stream",
          "name": "stderr",
          "text": [
            "      17/50      2.17G      1.051     0.6558      1.226         85        640: 100%|██████████| 687/687 [03:15<00:00,  3.51it/s]\n",
            "                 Class     Images  Instances      Box(P          R      mAP50  mAP50-95): 100%|██████████| 12/12 [00:03<00:00,  3.61it/s]"
          ]
        },
        {
          "output_type": "stream",
          "name": "stdout",
          "text": [
            "                   all        359        920      0.923      0.928      0.958      0.703\n"
          ]
        },
        {
          "output_type": "stream",
          "name": "stderr",
          "text": [
            "\n"
          ]
        },
        {
          "output_type": "stream",
          "name": "stdout",
          "text": [
            "\n",
            "      Epoch    GPU_mem   box_loss   cls_loss   dfl_loss  Instances       Size\n"
          ]
        },
        {
          "output_type": "stream",
          "name": "stderr",
          "text": [
            "      18/50      2.21G      1.032     0.6378      1.214         57        640: 100%|██████████| 687/687 [03:17<00:00,  3.47it/s]\n",
            "                 Class     Images  Instances      Box(P          R      mAP50  mAP50-95): 100%|██████████| 12/12 [00:03<00:00,  3.81it/s]"
          ]
        },
        {
          "output_type": "stream",
          "name": "stdout",
          "text": [
            "                   all        359        920      0.917      0.937       0.96      0.683\n"
          ]
        },
        {
          "output_type": "stream",
          "name": "stderr",
          "text": [
            "\n"
          ]
        },
        {
          "output_type": "stream",
          "name": "stdout",
          "text": [
            "\n",
            "      Epoch    GPU_mem   box_loss   cls_loss   dfl_loss  Instances       Size\n"
          ]
        },
        {
          "output_type": "stream",
          "name": "stderr",
          "text": [
            "      19/50      2.17G      1.035     0.6371      1.212         74        640: 100%|██████████| 687/687 [03:14<00:00,  3.53it/s]\n",
            "                 Class     Images  Instances      Box(P          R      mAP50  mAP50-95): 100%|██████████| 12/12 [00:04<00:00,  2.81it/s]"
          ]
        },
        {
          "output_type": "stream",
          "name": "stdout",
          "text": [
            "                   all        359        920      0.924      0.927      0.959       0.69\n"
          ]
        },
        {
          "output_type": "stream",
          "name": "stderr",
          "text": [
            "\n"
          ]
        },
        {
          "output_type": "stream",
          "name": "stdout",
          "text": [
            "\n",
            "      Epoch    GPU_mem   box_loss   cls_loss   dfl_loss  Instances       Size\n"
          ]
        },
        {
          "output_type": "stream",
          "name": "stderr",
          "text": [
            "      20/50      2.19G      1.019     0.6227      1.202         82        640: 100%|██████████| 687/687 [03:16<00:00,  3.50it/s]\n",
            "                 Class     Images  Instances      Box(P          R      mAP50  mAP50-95): 100%|██████████| 12/12 [00:03<00:00,  3.72it/s]"
          ]
        },
        {
          "output_type": "stream",
          "name": "stdout",
          "text": [
            "                   all        359        920      0.933      0.945      0.968      0.686\n"
          ]
        },
        {
          "output_type": "stream",
          "name": "stderr",
          "text": [
            "\n"
          ]
        },
        {
          "output_type": "stream",
          "name": "stdout",
          "text": [
            "\n",
            "      Epoch    GPU_mem   box_loss   cls_loss   dfl_loss  Instances       Size\n"
          ]
        },
        {
          "output_type": "stream",
          "name": "stderr",
          "text": [
            "      21/50      2.18G      1.002     0.6061       1.19         59        640: 100%|██████████| 687/687 [03:18<00:00,  3.45it/s]\n",
            "                 Class     Images  Instances      Box(P          R      mAP50  mAP50-95): 100%|██████████| 12/12 [00:03<00:00,  3.74it/s]"
          ]
        },
        {
          "output_type": "stream",
          "name": "stdout",
          "text": [
            "                   all        359        920      0.924      0.955      0.968      0.709\n"
          ]
        },
        {
          "output_type": "stream",
          "name": "stderr",
          "text": [
            "\n"
          ]
        },
        {
          "output_type": "stream",
          "name": "stdout",
          "text": [
            "\n",
            "      Epoch    GPU_mem   box_loss   cls_loss   dfl_loss  Instances       Size\n"
          ]
        },
        {
          "output_type": "stream",
          "name": "stderr",
          "text": [
            "      22/50       2.2G     0.9946     0.6046      1.188         41        640: 100%|██████████| 687/687 [03:17<00:00,  3.49it/s]\n",
            "                 Class     Images  Instances      Box(P          R      mAP50  mAP50-95): 100%|██████████| 12/12 [00:04<00:00,  2.91it/s]"
          ]
        },
        {
          "output_type": "stream",
          "name": "stdout",
          "text": [
            "                   all        359        920      0.921      0.927      0.957      0.708\n"
          ]
        },
        {
          "output_type": "stream",
          "name": "stderr",
          "text": [
            "\n"
          ]
        },
        {
          "output_type": "stream",
          "name": "stdout",
          "text": [
            "\n",
            "      Epoch    GPU_mem   box_loss   cls_loss   dfl_loss  Instances       Size\n"
          ]
        },
        {
          "output_type": "stream",
          "name": "stderr",
          "text": [
            "      23/50      2.18G     0.9922     0.5959      1.189         59        640: 100%|██████████| 687/687 [03:16<00:00,  3.49it/s]\n",
            "                 Class     Images  Instances      Box(P          R      mAP50  mAP50-95): 100%|██████████| 12/12 [00:03<00:00,  3.61it/s]"
          ]
        },
        {
          "output_type": "stream",
          "name": "stdout",
          "text": [
            "                   all        359        920      0.926      0.936      0.964      0.702\n"
          ]
        },
        {
          "output_type": "stream",
          "name": "stderr",
          "text": [
            "\n"
          ]
        },
        {
          "output_type": "stream",
          "name": "stdout",
          "text": [
            "\n",
            "      Epoch    GPU_mem   box_loss   cls_loss   dfl_loss  Instances       Size\n"
          ]
        },
        {
          "output_type": "stream",
          "name": "stderr",
          "text": [
            "      24/50       2.2G     0.9829     0.5816      1.179         56        640: 100%|██████████| 687/687 [03:19<00:00,  3.44it/s]\n",
            "                 Class     Images  Instances      Box(P          R      mAP50  mAP50-95): 100%|██████████| 12/12 [00:03<00:00,  3.77it/s]"
          ]
        },
        {
          "output_type": "stream",
          "name": "stdout",
          "text": [
            "                   all        359        920      0.929      0.942      0.969      0.706\n"
          ]
        },
        {
          "output_type": "stream",
          "name": "stderr",
          "text": [
            "\n"
          ]
        },
        {
          "output_type": "stream",
          "name": "stdout",
          "text": [
            "\n",
            "      Epoch    GPU_mem   box_loss   cls_loss   dfl_loss  Instances       Size\n"
          ]
        },
        {
          "output_type": "stream",
          "name": "stderr",
          "text": [
            "      25/50      2.19G      0.979     0.5783      1.173        102        640: 100%|██████████| 687/687 [03:18<00:00,  3.47it/s]\n",
            "                 Class     Images  Instances      Box(P          R      mAP50  mAP50-95): 100%|██████████| 12/12 [00:04<00:00,  2.87it/s]"
          ]
        },
        {
          "output_type": "stream",
          "name": "stdout",
          "text": [
            "                   all        359        920      0.923      0.959      0.969      0.708\n"
          ]
        },
        {
          "output_type": "stream",
          "name": "stderr",
          "text": [
            "\n"
          ]
        },
        {
          "output_type": "stream",
          "name": "stdout",
          "text": [
            "\n",
            "      Epoch    GPU_mem   box_loss   cls_loss   dfl_loss  Instances       Size\n"
          ]
        },
        {
          "output_type": "stream",
          "name": "stderr",
          "text": [
            "      26/50      2.17G      0.967     0.5709      1.166         77        640: 100%|██████████| 687/687 [03:16<00:00,  3.49it/s]\n",
            "                 Class     Images  Instances      Box(P          R      mAP50  mAP50-95): 100%|██████████| 12/12 [00:03<00:00,  3.92it/s]"
          ]
        },
        {
          "output_type": "stream",
          "name": "stdout",
          "text": [
            "                   all        359        920      0.927      0.954      0.966      0.714\n"
          ]
        },
        {
          "output_type": "stream",
          "name": "stderr",
          "text": [
            "\n"
          ]
        },
        {
          "output_type": "stream",
          "name": "stdout",
          "text": [
            "\n",
            "      Epoch    GPU_mem   box_loss   cls_loss   dfl_loss  Instances       Size\n"
          ]
        },
        {
          "output_type": "stream",
          "name": "stderr",
          "text": [
            "      27/50      2.21G     0.9606     0.5646      1.162         74        640: 100%|██████████| 687/687 [03:18<00:00,  3.46it/s]\n",
            "                 Class     Images  Instances      Box(P          R      mAP50  mAP50-95): 100%|██████████| 12/12 [00:03<00:00,  3.75it/s]"
          ]
        },
        {
          "output_type": "stream",
          "name": "stdout",
          "text": [
            "                   all        359        920      0.931      0.949      0.971      0.737\n"
          ]
        },
        {
          "output_type": "stream",
          "name": "stderr",
          "text": [
            "\n"
          ]
        },
        {
          "output_type": "stream",
          "name": "stdout",
          "text": [
            "\n",
            "      Epoch    GPU_mem   box_loss   cls_loss   dfl_loss  Instances       Size\n"
          ]
        },
        {
          "output_type": "stream",
          "name": "stderr",
          "text": [
            "      28/50      2.22G     0.9618     0.5624      1.163         93        640: 100%|██████████| 687/687 [03:21<00:00,  3.41it/s]\n",
            "                 Class     Images  Instances      Box(P          R      mAP50  mAP50-95): 100%|██████████| 12/12 [00:03<00:00,  3.68it/s]"
          ]
        },
        {
          "output_type": "stream",
          "name": "stdout",
          "text": [
            "                   all        359        920      0.929      0.953      0.969      0.737\n"
          ]
        },
        {
          "output_type": "stream",
          "name": "stderr",
          "text": [
            "\n"
          ]
        },
        {
          "output_type": "stream",
          "name": "stdout",
          "text": [
            "\n",
            "      Epoch    GPU_mem   box_loss   cls_loss   dfl_loss  Instances       Size\n"
          ]
        },
        {
          "output_type": "stream",
          "name": "stderr",
          "text": [
            "      29/50      2.18G     0.9412     0.5458      1.153         97        640: 100%|██████████| 687/687 [03:20<00:00,  3.42it/s]\n",
            "                 Class     Images  Instances      Box(P          R      mAP50  mAP50-95): 100%|██████████| 12/12 [00:03<00:00,  3.44it/s]"
          ]
        },
        {
          "output_type": "stream",
          "name": "stdout",
          "text": [
            "                   all        359        920       0.92      0.954      0.966      0.729\n"
          ]
        },
        {
          "output_type": "stream",
          "name": "stderr",
          "text": [
            "\n"
          ]
        },
        {
          "output_type": "stream",
          "name": "stdout",
          "text": [
            "\n",
            "      Epoch    GPU_mem   box_loss   cls_loss   dfl_loss  Instances       Size\n"
          ]
        },
        {
          "output_type": "stream",
          "name": "stderr",
          "text": [
            "      30/50      2.18G     0.9362      0.544      1.146         68        640: 100%|██████████| 687/687 [03:19<00:00,  3.44it/s]\n",
            "                 Class     Images  Instances      Box(P          R      mAP50  mAP50-95): 100%|██████████| 12/12 [00:04<00:00,  2.88it/s]"
          ]
        },
        {
          "output_type": "stream",
          "name": "stdout",
          "text": [
            "                   all        359        920      0.925      0.947      0.966      0.732\n"
          ]
        },
        {
          "output_type": "stream",
          "name": "stderr",
          "text": [
            "\n"
          ]
        },
        {
          "output_type": "stream",
          "name": "stdout",
          "text": [
            "\n",
            "      Epoch    GPU_mem   box_loss   cls_loss   dfl_loss  Instances       Size\n"
          ]
        },
        {
          "output_type": "stream",
          "name": "stderr",
          "text": [
            "      31/50      2.18G     0.9338      0.534       1.14         89        640: 100%|██████████| 687/687 [03:18<00:00,  3.46it/s]\n",
            "                 Class     Images  Instances      Box(P          R      mAP50  mAP50-95): 100%|██████████| 12/12 [00:03<00:00,  3.67it/s]"
          ]
        },
        {
          "output_type": "stream",
          "name": "stdout",
          "text": [
            "                   all        359        920      0.936      0.948      0.968      0.734\n"
          ]
        },
        {
          "output_type": "stream",
          "name": "stderr",
          "text": [
            "\n"
          ]
        },
        {
          "output_type": "stream",
          "name": "stdout",
          "text": [
            "\n",
            "      Epoch    GPU_mem   box_loss   cls_loss   dfl_loss  Instances       Size\n"
          ]
        },
        {
          "output_type": "stream",
          "name": "stderr",
          "text": [
            "      32/50      2.21G     0.9255     0.5355      1.146         68        640: 100%|██████████| 687/687 [03:18<00:00,  3.45it/s]\n",
            "                 Class     Images  Instances      Box(P          R      mAP50  mAP50-95): 100%|██████████| 12/12 [00:03<00:00,  3.64it/s]"
          ]
        },
        {
          "output_type": "stream",
          "name": "stdout",
          "text": [
            "                   all        359        920      0.933      0.947      0.966      0.726\n"
          ]
        },
        {
          "output_type": "stream",
          "name": "stderr",
          "text": [
            "\n"
          ]
        },
        {
          "output_type": "stream",
          "name": "stdout",
          "text": [
            "\n",
            "      Epoch    GPU_mem   box_loss   cls_loss   dfl_loss  Instances       Size\n"
          ]
        },
        {
          "output_type": "stream",
          "name": "stderr",
          "text": [
            "      33/50       2.2G      0.916     0.5261      1.136         77        640: 100%|██████████| 687/687 [03:19<00:00,  3.45it/s]\n",
            "                 Class     Images  Instances      Box(P          R      mAP50  mAP50-95): 100%|██████████| 12/12 [00:03<00:00,  3.99it/s]"
          ]
        },
        {
          "output_type": "stream",
          "name": "stdout",
          "text": [
            "                   all        359        920       0.94      0.943      0.968      0.728\n"
          ]
        },
        {
          "output_type": "stream",
          "name": "stderr",
          "text": [
            "\n"
          ]
        },
        {
          "output_type": "stream",
          "name": "stdout",
          "text": [
            "\n",
            "      Epoch    GPU_mem   box_loss   cls_loss   dfl_loss  Instances       Size\n"
          ]
        },
        {
          "output_type": "stream",
          "name": "stderr",
          "text": [
            "      34/50       2.2G     0.9128     0.5198      1.131         73        640: 100%|██████████| 687/687 [03:16<00:00,  3.50it/s]\n",
            "                 Class     Images  Instances      Box(P          R      mAP50  mAP50-95): 100%|██████████| 12/12 [00:03<00:00,  3.27it/s]\n"
          ]
        },
        {
          "output_type": "stream",
          "name": "stdout",
          "text": [
            "                   all        359        920      0.932      0.948      0.971      0.726\n",
            "\n",
            "      Epoch    GPU_mem   box_loss   cls_loss   dfl_loss  Instances       Size\n"
          ]
        },
        {
          "output_type": "stream",
          "name": "stderr",
          "text": [
            "      35/50      2.18G     0.9046     0.5173      1.127         68        640: 100%|██████████| 687/687 [03:14<00:00,  3.53it/s]\n",
            "                 Class     Images  Instances      Box(P          R      mAP50  mAP50-95): 100%|██████████| 12/12 [00:03<00:00,  3.87it/s]"
          ]
        },
        {
          "output_type": "stream",
          "name": "stdout",
          "text": [
            "                   all        359        920      0.936      0.951       0.97      0.729\n"
          ]
        },
        {
          "output_type": "stream",
          "name": "stderr",
          "text": [
            "\n"
          ]
        },
        {
          "output_type": "stream",
          "name": "stdout",
          "text": [
            "\n",
            "      Epoch    GPU_mem   box_loss   cls_loss   dfl_loss  Instances       Size\n"
          ]
        },
        {
          "output_type": "stream",
          "name": "stderr",
          "text": [
            "      36/50      2.17G     0.8942     0.5093      1.119         63        640: 100%|██████████| 687/687 [03:15<00:00,  3.51it/s]\n",
            "                 Class     Images  Instances      Box(P          R      mAP50  mAP50-95): 100%|██████████| 12/12 [00:04<00:00,  2.93it/s]"
          ]
        },
        {
          "output_type": "stream",
          "name": "stdout",
          "text": [
            "                   all        359        920      0.934       0.95      0.971      0.732\n"
          ]
        },
        {
          "output_type": "stream",
          "name": "stderr",
          "text": [
            "\n"
          ]
        },
        {
          "output_type": "stream",
          "name": "stdout",
          "text": [
            "\n",
            "      Epoch    GPU_mem   box_loss   cls_loss   dfl_loss  Instances       Size\n"
          ]
        },
        {
          "output_type": "stream",
          "name": "stderr",
          "text": [
            "      37/50      2.18G     0.8883     0.5045      1.119         85        640: 100%|██████████| 687/687 [03:16<00:00,  3.49it/s]\n",
            "                 Class     Images  Instances      Box(P          R      mAP50  mAP50-95): 100%|██████████| 12/12 [00:03<00:00,  3.62it/s]"
          ]
        },
        {
          "output_type": "stream",
          "name": "stdout",
          "text": [
            "                   all        359        920       0.93      0.952      0.971      0.737\n"
          ]
        },
        {
          "output_type": "stream",
          "name": "stderr",
          "text": [
            "\n"
          ]
        },
        {
          "output_type": "stream",
          "name": "stdout",
          "text": [
            "\n",
            "      Epoch    GPU_mem   box_loss   cls_loss   dfl_loss  Instances       Size\n"
          ]
        },
        {
          "output_type": "stream",
          "name": "stderr",
          "text": [
            "      38/50       2.2G     0.8831     0.4989      1.114         78        640: 100%|██████████| 687/687 [03:15<00:00,  3.51it/s]\n",
            "                 Class     Images  Instances      Box(P          R      mAP50  mAP50-95): 100%|██████████| 12/12 [00:03<00:00,  3.20it/s]"
          ]
        },
        {
          "output_type": "stream",
          "name": "stdout",
          "text": [
            "                   all        359        920      0.929      0.953      0.967      0.735\n"
          ]
        },
        {
          "output_type": "stream",
          "name": "stderr",
          "text": [
            "\n"
          ]
        },
        {
          "output_type": "stream",
          "name": "stdout",
          "text": [
            "\n",
            "      Epoch    GPU_mem   box_loss   cls_loss   dfl_loss  Instances       Size\n"
          ]
        },
        {
          "output_type": "stream",
          "name": "stderr",
          "text": [
            "      39/50      2.19G     0.8711     0.4907      1.107         68        640: 100%|██████████| 687/687 [03:14<00:00,  3.53it/s]\n",
            "                 Class     Images  Instances      Box(P          R      mAP50  mAP50-95): 100%|██████████| 12/12 [00:03<00:00,  3.94it/s]"
          ]
        },
        {
          "output_type": "stream",
          "name": "stdout",
          "text": [
            "                   all        359        920       0.93      0.951      0.971      0.738\n"
          ]
        },
        {
          "output_type": "stream",
          "name": "stderr",
          "text": [
            "\n"
          ]
        },
        {
          "output_type": "stream",
          "name": "stdout",
          "text": [
            "\n",
            "      Epoch    GPU_mem   box_loss   cls_loss   dfl_loss  Instances       Size\n"
          ]
        },
        {
          "output_type": "stream",
          "name": "stderr",
          "text": [
            "      40/50       2.2G     0.8647     0.4845      1.105         58        640: 100%|██████████| 687/687 [03:15<00:00,  3.51it/s]\n",
            "                 Class     Images  Instances      Box(P          R      mAP50  mAP50-95): 100%|██████████| 12/12 [00:03<00:00,  3.61it/s]"
          ]
        },
        {
          "output_type": "stream",
          "name": "stdout",
          "text": [
            "                   all        359        920      0.932      0.956       0.97      0.735\n"
          ]
        },
        {
          "output_type": "stream",
          "name": "stderr",
          "text": [
            "\n"
          ]
        },
        {
          "output_type": "stream",
          "name": "stdout",
          "text": [
            "Closing dataloader mosaic\n",
            "\u001b[34m\u001b[1malbumentations: \u001b[0mBlur(p=0.01, blur_limit=(3, 7)), MedianBlur(p=0.01, blur_limit=(3, 7)), ToGray(p=0.01, num_output_channels=3, method='weighted_average'), CLAHE(p=0.01, clip_limit=(1.0, 4.0), tile_grid_size=(8, 8))\n",
            "\n",
            "      Epoch    GPU_mem   box_loss   cls_loss   dfl_loss  Instances       Size\n"
          ]
        },
        {
          "output_type": "stream",
          "name": "stderr",
          "text": [
            "      41/50      2.16G     0.8447     0.3976      1.081         43        640: 100%|██████████| 687/687 [03:08<00:00,  3.65it/s]\n",
            "                 Class     Images  Instances      Box(P          R      mAP50  mAP50-95): 100%|██████████| 12/12 [00:03<00:00,  3.55it/s]"
          ]
        },
        {
          "output_type": "stream",
          "name": "stdout",
          "text": [
            "                   all        359        920      0.926      0.957      0.971       0.75\n"
          ]
        },
        {
          "output_type": "stream",
          "name": "stderr",
          "text": [
            "\n"
          ]
        },
        {
          "output_type": "stream",
          "name": "stdout",
          "text": [
            "\n",
            "      Epoch    GPU_mem   box_loss   cls_loss   dfl_loss  Instances       Size\n"
          ]
        },
        {
          "output_type": "stream",
          "name": "stderr",
          "text": [
            "      42/50      2.17G     0.8272     0.3871      1.073         32        640: 100%|██████████| 687/687 [03:05<00:00,  3.71it/s]\n",
            "                 Class     Images  Instances      Box(P          R      mAP50  mAP50-95): 100%|██████████| 12/12 [00:04<00:00,  2.82it/s]"
          ]
        },
        {
          "output_type": "stream",
          "name": "stdout",
          "text": [
            "                   all        359        920      0.931      0.959       0.97      0.759\n"
          ]
        },
        {
          "output_type": "stream",
          "name": "stderr",
          "text": [
            "\n"
          ]
        },
        {
          "output_type": "stream",
          "name": "stdout",
          "text": [
            "\n",
            "      Epoch    GPU_mem   box_loss   cls_loss   dfl_loss  Instances       Size\n"
          ]
        },
        {
          "output_type": "stream",
          "name": "stderr",
          "text": [
            "      43/50      2.18G     0.8112     0.3771      1.065         57        640: 100%|██████████| 687/687 [03:05<00:00,  3.71it/s]\n",
            "                 Class     Images  Instances      Box(P          R      mAP50  mAP50-95): 100%|██████████| 12/12 [00:03<00:00,  3.65it/s]"
          ]
        },
        {
          "output_type": "stream",
          "name": "stdout",
          "text": [
            "                   all        359        920      0.935      0.961       0.97      0.766\n"
          ]
        },
        {
          "output_type": "stream",
          "name": "stderr",
          "text": [
            "\n"
          ]
        },
        {
          "output_type": "stream",
          "name": "stdout",
          "text": [
            "\n",
            "      Epoch    GPU_mem   box_loss   cls_loss   dfl_loss  Instances       Size\n"
          ]
        },
        {
          "output_type": "stream",
          "name": "stderr",
          "text": [
            "      44/50      2.17G     0.8046     0.3744      1.061         31        640: 100%|██████████| 687/687 [03:04<00:00,  3.72it/s]\n",
            "                 Class     Images  Instances      Box(P          R      mAP50  mAP50-95): 100%|██████████| 12/12 [00:03<00:00,  3.83it/s]"
          ]
        },
        {
          "output_type": "stream",
          "name": "stdout",
          "text": [
            "                   all        359        920      0.936      0.959      0.972      0.763\n"
          ]
        },
        {
          "output_type": "stream",
          "name": "stderr",
          "text": [
            "\n"
          ]
        },
        {
          "output_type": "stream",
          "name": "stdout",
          "text": [
            "\n",
            "      Epoch    GPU_mem   box_loss   cls_loss   dfl_loss  Instances       Size\n"
          ]
        },
        {
          "output_type": "stream",
          "name": "stderr",
          "text": [
            "      45/50      2.17G     0.7951     0.3698      1.053         24        640: 100%|██████████| 687/687 [03:06<00:00,  3.69it/s]\n",
            "                 Class     Images  Instances      Box(P          R      mAP50  mAP50-95): 100%|██████████| 12/12 [00:03<00:00,  3.83it/s]"
          ]
        },
        {
          "output_type": "stream",
          "name": "stdout",
          "text": [
            "                   all        359        920      0.936      0.958      0.972      0.765\n"
          ]
        },
        {
          "output_type": "stream",
          "name": "stderr",
          "text": [
            "\n"
          ]
        },
        {
          "output_type": "stream",
          "name": "stdout",
          "text": [
            "\n",
            "      Epoch    GPU_mem   box_loss   cls_loss   dfl_loss  Instances       Size\n"
          ]
        },
        {
          "output_type": "stream",
          "name": "stderr",
          "text": [
            "      46/50      2.18G     0.7906     0.3658      1.049         36        640: 100%|██████████| 687/687 [03:05<00:00,  3.70it/s]\n",
            "                 Class     Images  Instances      Box(P          R      mAP50  mAP50-95): 100%|██████████| 12/12 [00:03<00:00,  3.40it/s]"
          ]
        },
        {
          "output_type": "stream",
          "name": "stdout",
          "text": [
            "                   all        359        920      0.936      0.959      0.971      0.765\n"
          ]
        },
        {
          "output_type": "stream",
          "name": "stderr",
          "text": [
            "\n"
          ]
        },
        {
          "output_type": "stream",
          "name": "stdout",
          "text": [
            "\n",
            "      Epoch    GPU_mem   box_loss   cls_loss   dfl_loss  Instances       Size\n"
          ]
        },
        {
          "output_type": "stream",
          "name": "stderr",
          "text": [
            "      47/50      2.15G     0.7798     0.3608      1.039         41        640: 100%|██████████| 687/687 [03:05<00:00,  3.70it/s]\n",
            "                 Class     Images  Instances      Box(P          R      mAP50  mAP50-95): 100%|██████████| 12/12 [00:04<00:00,  2.88it/s]"
          ]
        },
        {
          "output_type": "stream",
          "name": "stdout",
          "text": [
            "                   all        359        920      0.938      0.959      0.973      0.766\n"
          ]
        },
        {
          "output_type": "stream",
          "name": "stderr",
          "text": [
            "\n"
          ]
        },
        {
          "output_type": "stream",
          "name": "stdout",
          "text": [
            "\n",
            "      Epoch    GPU_mem   box_loss   cls_loss   dfl_loss  Instances       Size\n"
          ]
        },
        {
          "output_type": "stream",
          "name": "stderr",
          "text": [
            "      48/50      2.15G     0.7703     0.3563      1.038         46        640: 100%|██████████| 687/687 [03:04<00:00,  3.72it/s]\n",
            "                 Class     Images  Instances      Box(P          R      mAP50  mAP50-95): 100%|██████████| 12/12 [00:03<00:00,  3.64it/s]"
          ]
        },
        {
          "output_type": "stream",
          "name": "stdout",
          "text": [
            "                   all        359        920      0.937       0.96       0.97      0.763\n"
          ]
        },
        {
          "output_type": "stream",
          "name": "stderr",
          "text": [
            "\n"
          ]
        },
        {
          "output_type": "stream",
          "name": "stdout",
          "text": [
            "\n",
            "      Epoch    GPU_mem   box_loss   cls_loss   dfl_loss  Instances       Size\n"
          ]
        },
        {
          "output_type": "stream",
          "name": "stderr",
          "text": [
            "      49/50      2.16G     0.7664     0.3531      1.035         40        640: 100%|██████████| 687/687 [03:06<00:00,  3.69it/s]\n",
            "                 Class     Images  Instances      Box(P          R      mAP50  mAP50-95): 100%|██████████| 12/12 [00:03<00:00,  3.70it/s]"
          ]
        },
        {
          "output_type": "stream",
          "name": "stdout",
          "text": [
            "                   all        359        920      0.936       0.96      0.969      0.766\n"
          ]
        },
        {
          "output_type": "stream",
          "name": "stderr",
          "text": [
            "\n"
          ]
        },
        {
          "output_type": "stream",
          "name": "stdout",
          "text": [
            "\n",
            "      Epoch    GPU_mem   box_loss   cls_loss   dfl_loss  Instances       Size\n"
          ]
        },
        {
          "output_type": "stream",
          "name": "stderr",
          "text": [
            "      50/50      2.17G     0.7617     0.3492      1.033         48        640: 100%|██████████| 687/687 [03:07<00:00,  3.66it/s]\n",
            "                 Class     Images  Instances      Box(P          R      mAP50  mAP50-95): 100%|██████████| 12/12 [00:03<00:00,  3.96it/s]"
          ]
        },
        {
          "output_type": "stream",
          "name": "stdout",
          "text": [
            "                   all        359        920      0.933      0.966       0.97      0.765\n"
          ]
        },
        {
          "output_type": "stream",
          "name": "stderr",
          "text": [
            "\n"
          ]
        },
        {
          "output_type": "stream",
          "name": "stdout",
          "text": [
            "\n",
            "50 epochs completed in 2.780 hours.\n",
            "Optimizer stripped from runs/detect/train/weights/last.pt, 6.2MB\n",
            "Optimizer stripped from runs/detect/train/weights/best.pt, 6.2MB\n",
            "\n",
            "Validating runs/detect/train/weights/best.pt...\n",
            "Ultralytics 8.3.75 🚀 Python-3.11.11 torch-2.5.1+cu124 CUDA:0 (Tesla T4, 15095MiB)\n",
            "Model summary (fused): 168 layers, 3,005,843 parameters, 0 gradients, 8.1 GFLOPs\n"
          ]
        },
        {
          "output_type": "stream",
          "name": "stderr",
          "text": [
            "                 Class     Images  Instances      Box(P          R      mAP50  mAP50-95): 100%|██████████| 12/12 [00:06<00:00,  1.99it/s]\n"
          ]
        },
        {
          "output_type": "stream",
          "name": "stdout",
          "text": [
            "                   all        359        920      0.937      0.959      0.973      0.766\n",
            "Speed: 0.4ms preprocess, 2.6ms inference, 0.0ms loss, 3.5ms postprocess per image\n",
            "Results saved to \u001b[1mruns/detect/train\u001b[0m\n"
          ]
        },
        {
          "output_type": "execute_result",
          "data": {
            "text/plain": [
              "ultralytics.utils.metrics.DetMetrics object with attributes:\n",
              "\n",
              "ap_class_index: array([0])\n",
              "box: ultralytics.utils.metrics.Metric object\n",
              "confusion_matrix: <ultralytics.utils.metrics.ConfusionMatrix object at 0x7eeaa5c96ad0>\n",
              "curves: ['Precision-Recall(B)', 'F1-Confidence(B)', 'Precision-Confidence(B)', 'Recall-Confidence(B)']\n",
              "curves_results: [[array([          0,    0.001001,    0.002002,    0.003003,    0.004004,    0.005005,    0.006006,    0.007007,    0.008008,    0.009009,     0.01001,    0.011011,    0.012012,    0.013013,    0.014014,    0.015015,    0.016016,    0.017017,    0.018018,    0.019019,     0.02002,    0.021021,    0.022022,    0.023023,\n",
              "          0.024024,    0.025025,    0.026026,    0.027027,    0.028028,    0.029029,     0.03003,    0.031031,    0.032032,    0.033033,    0.034034,    0.035035,    0.036036,    0.037037,    0.038038,    0.039039,     0.04004,    0.041041,    0.042042,    0.043043,    0.044044,    0.045045,    0.046046,    0.047047,\n",
              "          0.048048,    0.049049,     0.05005,    0.051051,    0.052052,    0.053053,    0.054054,    0.055055,    0.056056,    0.057057,    0.058058,    0.059059,     0.06006,    0.061061,    0.062062,    0.063063,    0.064064,    0.065065,    0.066066,    0.067067,    0.068068,    0.069069,     0.07007,    0.071071,\n",
              "          0.072072,    0.073073,    0.074074,    0.075075,    0.076076,    0.077077,    0.078078,    0.079079,     0.08008,    0.081081,    0.082082,    0.083083,    0.084084,    0.085085,    0.086086,    0.087087,    0.088088,    0.089089,     0.09009,    0.091091,    0.092092,    0.093093,    0.094094,    0.095095,\n",
              "          0.096096,    0.097097,    0.098098,    0.099099,      0.1001,      0.1011,      0.1021,      0.1031,      0.1041,     0.10511,     0.10611,     0.10711,     0.10811,     0.10911,     0.11011,     0.11111,     0.11211,     0.11311,     0.11411,     0.11512,     0.11612,     0.11712,     0.11812,     0.11912,\n",
              "           0.12012,     0.12112,     0.12212,     0.12312,     0.12412,     0.12513,     0.12613,     0.12713,     0.12813,     0.12913,     0.13013,     0.13113,     0.13213,     0.13313,     0.13413,     0.13514,     0.13614,     0.13714,     0.13814,     0.13914,     0.14014,     0.14114,     0.14214,     0.14314,\n",
              "           0.14414,     0.14515,     0.14615,     0.14715,     0.14815,     0.14915,     0.15015,     0.15115,     0.15215,     0.15315,     0.15415,     0.15516,     0.15616,     0.15716,     0.15816,     0.15916,     0.16016,     0.16116,     0.16216,     0.16316,     0.16416,     0.16517,     0.16617,     0.16717,\n",
              "           0.16817,     0.16917,     0.17017,     0.17117,     0.17217,     0.17317,     0.17417,     0.17518,     0.17618,     0.17718,     0.17818,     0.17918,     0.18018,     0.18118,     0.18218,     0.18318,     0.18418,     0.18519,     0.18619,     0.18719,     0.18819,     0.18919,     0.19019,     0.19119,\n",
              "           0.19219,     0.19319,     0.19419,      0.1952,      0.1962,      0.1972,      0.1982,      0.1992,      0.2002,      0.2012,      0.2022,      0.2032,      0.2042,     0.20521,     0.20621,     0.20721,     0.20821,     0.20921,     0.21021,     0.21121,     0.21221,     0.21321,     0.21421,     0.21522,\n",
              "           0.21622,     0.21722,     0.21822,     0.21922,     0.22022,     0.22122,     0.22222,     0.22322,     0.22422,     0.22523,     0.22623,     0.22723,     0.22823,     0.22923,     0.23023,     0.23123,     0.23223,     0.23323,     0.23423,     0.23524,     0.23624,     0.23724,     0.23824,     0.23924,\n",
              "           0.24024,     0.24124,     0.24224,     0.24324,     0.24424,     0.24525,     0.24625,     0.24725,     0.24825,     0.24925,     0.25025,     0.25125,     0.25225,     0.25325,     0.25425,     0.25526,     0.25626,     0.25726,     0.25826,     0.25926,     0.26026,     0.26126,     0.26226,     0.26326,\n",
              "           0.26426,     0.26527,     0.26627,     0.26727,     0.26827,     0.26927,     0.27027,     0.27127,     0.27227,     0.27327,     0.27427,     0.27528,     0.27628,     0.27728,     0.27828,     0.27928,     0.28028,     0.28128,     0.28228,     0.28328,     0.28428,     0.28529,     0.28629,     0.28729,\n",
              "           0.28829,     0.28929,     0.29029,     0.29129,     0.29229,     0.29329,     0.29429,      0.2953,      0.2963,      0.2973,      0.2983,      0.2993,      0.3003,      0.3013,      0.3023,      0.3033,      0.3043,     0.30531,     0.30631,     0.30731,     0.30831,     0.30931,     0.31031,     0.31131,\n",
              "           0.31231,     0.31331,     0.31431,     0.31532,     0.31632,     0.31732,     0.31832,     0.31932,     0.32032,     0.32132,     0.32232,     0.32332,     0.32432,     0.32533,     0.32633,     0.32733,     0.32833,     0.32933,     0.33033,     0.33133,     0.33233,     0.33333,     0.33433,     0.33534,\n",
              "           0.33634,     0.33734,     0.33834,     0.33934,     0.34034,     0.34134,     0.34234,     0.34334,     0.34434,     0.34535,     0.34635,     0.34735,     0.34835,     0.34935,     0.35035,     0.35135,     0.35235,     0.35335,     0.35435,     0.35536,     0.35636,     0.35736,     0.35836,     0.35936,\n",
              "           0.36036,     0.36136,     0.36236,     0.36336,     0.36436,     0.36537,     0.36637,     0.36737,     0.36837,     0.36937,     0.37037,     0.37137,     0.37237,     0.37337,     0.37437,     0.37538,     0.37638,     0.37738,     0.37838,     0.37938,     0.38038,     0.38138,     0.38238,     0.38338,\n",
              "           0.38438,     0.38539,     0.38639,     0.38739,     0.38839,     0.38939,     0.39039,     0.39139,     0.39239,     0.39339,     0.39439,      0.3954,      0.3964,      0.3974,      0.3984,      0.3994,      0.4004,      0.4014,      0.4024,      0.4034,      0.4044,     0.40541,     0.40641,     0.40741,\n",
              "           0.40841,     0.40941,     0.41041,     0.41141,     0.41241,     0.41341,     0.41441,     0.41542,     0.41642,     0.41742,     0.41842,     0.41942,     0.42042,     0.42142,     0.42242,     0.42342,     0.42442,     0.42543,     0.42643,     0.42743,     0.42843,     0.42943,     0.43043,     0.43143,\n",
              "           0.43243,     0.43343,     0.43443,     0.43544,     0.43644,     0.43744,     0.43844,     0.43944,     0.44044,     0.44144,     0.44244,     0.44344,     0.44444,     0.44545,     0.44645,     0.44745,     0.44845,     0.44945,     0.45045,     0.45145,     0.45245,     0.45345,     0.45445,     0.45546,\n",
              "           0.45646,     0.45746,     0.45846,     0.45946,     0.46046,     0.46146,     0.46246,     0.46346,     0.46446,     0.46547,     0.46647,     0.46747,     0.46847,     0.46947,     0.47047,     0.47147,     0.47247,     0.47347,     0.47447,     0.47548,     0.47648,     0.47748,     0.47848,     0.47948,\n",
              "           0.48048,     0.48148,     0.48248,     0.48348,     0.48448,     0.48549,     0.48649,     0.48749,     0.48849,     0.48949,     0.49049,     0.49149,     0.49249,     0.49349,     0.49449,      0.4955,      0.4965,      0.4975,      0.4985,      0.4995,      0.5005,      0.5015,      0.5025,      0.5035,\n",
              "            0.5045,     0.50551,     0.50651,     0.50751,     0.50851,     0.50951,     0.51051,     0.51151,     0.51251,     0.51351,     0.51451,     0.51552,     0.51652,     0.51752,     0.51852,     0.51952,     0.52052,     0.52152,     0.52252,     0.52352,     0.52452,     0.52553,     0.52653,     0.52753,\n",
              "           0.52853,     0.52953,     0.53053,     0.53153,     0.53253,     0.53353,     0.53453,     0.53554,     0.53654,     0.53754,     0.53854,     0.53954,     0.54054,     0.54154,     0.54254,     0.54354,     0.54454,     0.54555,     0.54655,     0.54755,     0.54855,     0.54955,     0.55055,     0.55155,\n",
              "           0.55255,     0.55355,     0.55455,     0.55556,     0.55656,     0.55756,     0.55856,     0.55956,     0.56056,     0.56156,     0.56256,     0.56356,     0.56456,     0.56557,     0.56657,     0.56757,     0.56857,     0.56957,     0.57057,     0.57157,     0.57257,     0.57357,     0.57457,     0.57558,\n",
              "           0.57658,     0.57758,     0.57858,     0.57958,     0.58058,     0.58158,     0.58258,     0.58358,     0.58458,     0.58559,     0.58659,     0.58759,     0.58859,     0.58959,     0.59059,     0.59159,     0.59259,     0.59359,     0.59459,      0.5956,      0.5966,      0.5976,      0.5986,      0.5996,\n",
              "            0.6006,      0.6016,      0.6026,      0.6036,      0.6046,     0.60561,     0.60661,     0.60761,     0.60861,     0.60961,     0.61061,     0.61161,     0.61261,     0.61361,     0.61461,     0.61562,     0.61662,     0.61762,     0.61862,     0.61962,     0.62062,     0.62162,     0.62262,     0.62362,\n",
              "           0.62462,     0.62563,     0.62663,     0.62763,     0.62863,     0.62963,     0.63063,     0.63163,     0.63263,     0.63363,     0.63463,     0.63564,     0.63664,     0.63764,     0.63864,     0.63964,     0.64064,     0.64164,     0.64264,     0.64364,     0.64464,     0.64565,     0.64665,     0.64765,\n",
              "           0.64865,     0.64965,     0.65065,     0.65165,     0.65265,     0.65365,     0.65465,     0.65566,     0.65666,     0.65766,     0.65866,     0.65966,     0.66066,     0.66166,     0.66266,     0.66366,     0.66466,     0.66567,     0.66667,     0.66767,     0.66867,     0.66967,     0.67067,     0.67167,\n",
              "           0.67267,     0.67367,     0.67467,     0.67568,     0.67668,     0.67768,     0.67868,     0.67968,     0.68068,     0.68168,     0.68268,     0.68368,     0.68468,     0.68569,     0.68669,     0.68769,     0.68869,     0.68969,     0.69069,     0.69169,     0.69269,     0.69369,     0.69469,      0.6957,\n",
              "            0.6967,      0.6977,      0.6987,      0.6997,      0.7007,      0.7017,      0.7027,      0.7037,      0.7047,     0.70571,     0.70671,     0.70771,     0.70871,     0.70971,     0.71071,     0.71171,     0.71271,     0.71371,     0.71471,     0.71572,     0.71672,     0.71772,     0.71872,     0.71972,\n",
              "           0.72072,     0.72172,     0.72272,     0.72372,     0.72472,     0.72573,     0.72673,     0.72773,     0.72873,     0.72973,     0.73073,     0.73173,     0.73273,     0.73373,     0.73473,     0.73574,     0.73674,     0.73774,     0.73874,     0.73974,     0.74074,     0.74174,     0.74274,     0.74374,\n",
              "           0.74474,     0.74575,     0.74675,     0.74775,     0.74875,     0.74975,     0.75075,     0.75175,     0.75275,     0.75375,     0.75475,     0.75576,     0.75676,     0.75776,     0.75876,     0.75976,     0.76076,     0.76176,     0.76276,     0.76376,     0.76476,     0.76577,     0.76677,     0.76777,\n",
              "           0.76877,     0.76977,     0.77077,     0.77177,     0.77277,     0.77377,     0.77477,     0.77578,     0.77678,     0.77778,     0.77878,     0.77978,     0.78078,     0.78178,     0.78278,     0.78378,     0.78478,     0.78579,     0.78679,     0.78779,     0.78879,     0.78979,     0.79079,     0.79179,\n",
              "           0.79279,     0.79379,     0.79479,      0.7958,      0.7968,      0.7978,      0.7988,      0.7998,      0.8008,      0.8018,      0.8028,      0.8038,      0.8048,     0.80581,     0.80681,     0.80781,     0.80881,     0.80981,     0.81081,     0.81181,     0.81281,     0.81381,     0.81481,     0.81582,\n",
              "           0.81682,     0.81782,     0.81882,     0.81982,     0.82082,     0.82182,     0.82282,     0.82382,     0.82482,     0.82583,     0.82683,     0.82783,     0.82883,     0.82983,     0.83083,     0.83183,     0.83283,     0.83383,     0.83483,     0.83584,     0.83684,     0.83784,     0.83884,     0.83984,\n",
              "           0.84084,     0.84184,     0.84284,     0.84384,     0.84484,     0.84585,     0.84685,     0.84785,     0.84885,     0.84985,     0.85085,     0.85185,     0.85285,     0.85385,     0.85485,     0.85586,     0.85686,     0.85786,     0.85886,     0.85986,     0.86086,     0.86186,     0.86286,     0.86386,\n",
              "           0.86486,     0.86587,     0.86687,     0.86787,     0.86887,     0.86987,     0.87087,     0.87187,     0.87287,     0.87387,     0.87487,     0.87588,     0.87688,     0.87788,     0.87888,     0.87988,     0.88088,     0.88188,     0.88288,     0.88388,     0.88488,     0.88589,     0.88689,     0.88789,\n",
              "           0.88889,     0.88989,     0.89089,     0.89189,     0.89289,     0.89389,     0.89489,      0.8959,      0.8969,      0.8979,      0.8989,      0.8999,      0.9009,      0.9019,      0.9029,      0.9039,      0.9049,     0.90591,     0.90691,     0.90791,     0.90891,     0.90991,     0.91091,     0.91191,\n",
              "           0.91291,     0.91391,     0.91491,     0.91592,     0.91692,     0.91792,     0.91892,     0.91992,     0.92092,     0.92192,     0.92292,     0.92392,     0.92492,     0.92593,     0.92693,     0.92793,     0.92893,     0.92993,     0.93093,     0.93193,     0.93293,     0.93393,     0.93493,     0.93594,\n",
              "           0.93694,     0.93794,     0.93894,     0.93994,     0.94094,     0.94194,     0.94294,     0.94394,     0.94494,     0.94595,     0.94695,     0.94795,     0.94895,     0.94995,     0.95095,     0.95195,     0.95295,     0.95395,     0.95495,     0.95596,     0.95696,     0.95796,     0.95896,     0.95996,\n",
              "           0.96096,     0.96196,     0.96296,     0.96396,     0.96496,     0.96597,     0.96697,     0.96797,     0.96897,     0.96997,     0.97097,     0.97197,     0.97297,     0.97397,     0.97497,     0.97598,     0.97698,     0.97798,     0.97898,     0.97998,     0.98098,     0.98198,     0.98298,     0.98398,\n",
              "           0.98498,     0.98599,     0.98699,     0.98799,     0.98899,     0.98999,     0.99099,     0.99199,     0.99299,     0.99399,     0.99499,       0.996,       0.997,       0.998,       0.999,           1]), array([[          1,           1,           1,           1,           1,           1,           1,           1,           1,           1,           1,           1,           1,           1,           1,           1,           1,           1,           1,           1,           1,           1,           1,\n",
              "                  1,           1,           1,           1,           1,           1,           1,           1,           1,           1,           1,           1,           1,           1,           1,           1,           1,           1,           1,           1,           1,           1,           1,\n",
              "                  1,           1,           1,           1,           1,           1,           1,           1,           1,           1,           1,           1,           1,           1,           1,           1,           1,           1,           1,           1,           1,           1,           1,\n",
              "                  1,           1,           1,           1,           1,           1,           1,           1,           1,           1,           1,           1,           1,           1,           1,           1,           1,           1,           1,           1,           1,           1,           1,\n",
              "                  1,           1,           1,           1,           1,           1,           1,           1,           1,           1,           1,           1,           1,           1,           1,           1,           1,           1,           1,           1,           1,           1,           1,\n",
              "                  1,           1,           1,           1,           1,           1,           1,           1,           1,           1,           1,           1,           1,           1,           1,           1,           1,           1,           1,           1,      0.9958,      0.9958,      0.9958,\n",
              "             0.9958,      0.9958,      0.9958,      0.9958,      0.9958,      0.9958,      0.9958,      0.9958,      0.9958,      0.9958,      0.9958,      0.9958,      0.9958,      0.9958,      0.9958,      0.9958,      0.9958,      0.9958,      0.9958,      0.9958,      0.9958,      0.9958,      0.9958,\n",
              "             0.9958,      0.9958,      0.9958,      0.9958,      0.9958,      0.9958,      0.9958,      0.9958,      0.9958,      0.9958,      0.9958,      0.9958,      0.9958,      0.9958,      0.9958,      0.9958,      0.9958,      0.9958,      0.9958,      0.9958,      0.9958,      0.9958,      0.9958,\n",
              "             0.9958,      0.9958,      0.9958,      0.9958,      0.9958,      0.9958,      0.9958,      0.9958,      0.9958,      0.9958,      0.9958,      0.9958,      0.9958,      0.9958,      0.9958,      0.9958,      0.9958,      0.9958,      0.9958,      0.9958,      0.9958,      0.9958,      0.9958,\n",
              "             0.9958,      0.9958,      0.9958,      0.9958,      0.9958,      0.9958,      0.9958,      0.9958,      0.9958,      0.9958,      0.9958,      0.9958,      0.9958,      0.9958,      0.9958,      0.9958,      0.9958,      0.9958,      0.9958,      0.9958,      0.9958,      0.9958,      0.9958,\n",
              "             0.9958,      0.9958,      0.9958,      0.9958,      0.9958,      0.9958,      0.9958,      0.9958,      0.9958,      0.9958,      0.9958,      0.9958,      0.9958,      0.9958,      0.9958,      0.9958,      0.9958,      0.9958,      0.9958,      0.9958,      0.9958,      0.9958,      0.9958,\n",
              "             0.9958,      0.9958,      0.9958,      0.9958,      0.9958,     0.99336,     0.99336,     0.99336,     0.99336,     0.99336,     0.99336,     0.99336,     0.99336,     0.99336,     0.99336,     0.99336,     0.99336,     0.99336,     0.99336,     0.99336,     0.99336,     0.99336,     0.99336,\n",
              "            0.99336,     0.99336,     0.99336,     0.99336,     0.99336,     0.99336,     0.99336,     0.99336,     0.99336,     0.99336,     0.99336,     0.99336,     0.99336,     0.99336,     0.99336,     0.99336,     0.99336,     0.99336,     0.99336,     0.99336,     0.99336,     0.99336,     0.99336,\n",
              "            0.99336,     0.99336,     0.99336,     0.99336,     0.99336,     0.99336,     0.99336,     0.99336,     0.99336,     0.99336,     0.99336,     0.99336,     0.99336,     0.99336,     0.99336,     0.99336,     0.99336,     0.99336,     0.99336,     0.99336,     0.99336,     0.99336,     0.99336,\n",
              "            0.99336,     0.99336,     0.99336,     0.99157,     0.99157,     0.99157,     0.99157,     0.99157,     0.99157,     0.99157,     0.99157,     0.99157,     0.99157,     0.99157,     0.99157,     0.99157,     0.99157,     0.99157,     0.99157,     0.99157,     0.99157,     0.99157,     0.99157,\n",
              "            0.99157,     0.99157,     0.99157,     0.99157,     0.99157,     0.99157,     0.99157,     0.99157,     0.99157,     0.99157,     0.99157,     0.99157,     0.99157,     0.99157,     0.99157,     0.99157,     0.99157,     0.99157,     0.99157,     0.99157,     0.99157,     0.99157,     0.99157,\n",
              "            0.99157,     0.99157,     0.99157,     0.99157,     0.99157,     0.99157,     0.99157,     0.99157,     0.99157,     0.99157,     0.99157,     0.99157,     0.99157,     0.99157,     0.99157,     0.99157,     0.99022,     0.99022,     0.99022,     0.99022,     0.99022,     0.99022,     0.99022,\n",
              "            0.99022,     0.99022,     0.99022,     0.99022,     0.99022,     0.99022,     0.99022,     0.99022,     0.99022,     0.99022,     0.99022,     0.99022,     0.99022,     0.99022,     0.99022,     0.99022,     0.99022,     0.99022,     0.99022,     0.99022,     0.99022,     0.99022,     0.99022,\n",
              "            0.99022,     0.99022,     0.99022,     0.99022,     0.99022,     0.99022,     0.99022,     0.99022,     0.99022,     0.99022,     0.99022,     0.99022,     0.99022,     0.99022,     0.99022,     0.99022,     0.99022,     0.99022,     0.99022,     0.99022,     0.99022,     0.99022,     0.99022,\n",
              "            0.99022,     0.99022,     0.99022,     0.98904,     0.98904,     0.98904,     0.98904,     0.98904,     0.98904,     0.98904,     0.98904,     0.98904,     0.98904,     0.98904,     0.98904,     0.98904,     0.98904,     0.98904,     0.98904,     0.98904,     0.98904,     0.98904,     0.98904,\n",
              "            0.98904,     0.98904,     0.98904,     0.98904,     0.98904,     0.98904,     0.98904,     0.98904,     0.98904,     0.98904,     0.98904,     0.98904,     0.98904,     0.98904,     0.98904,     0.98904,     0.98904,     0.98904,     0.98904,     0.98904,     0.98904,     0.98904,     0.98904,\n",
              "            0.98904,     0.98904,     0.98904,     0.98904,     0.98904,     0.98904,     0.98904,     0.98807,     0.98807,     0.98807,     0.98807,     0.98807,     0.98807,     0.98807,     0.98807,     0.98807,     0.98807,     0.98807,     0.98807,     0.98807,     0.98807,     0.98807,     0.98807,\n",
              "            0.98807,     0.98807,     0.98807,     0.98807,     0.98807,     0.98807,     0.98807,     0.98807,     0.98807,     0.98807,     0.98807,     0.98807,     0.98807,     0.98807,     0.98807,     0.98807,     0.98807,     0.98807,     0.98807,     0.98807,     0.98807,     0.98807,     0.98807,\n",
              "            0.98807,     0.98807,     0.98807,     0.98807,     0.98807,     0.98807,     0.98807,     0.98807,     0.98807,     0.98807,     0.98807,     0.98706,     0.98706,     0.98706,     0.98706,     0.98706,     0.98706,     0.98706,     0.98706,     0.98706,     0.98706,     0.98706,     0.98706,\n",
              "            0.98706,     0.98706,     0.98706,     0.98706,     0.98706,     0.98706,     0.98706,     0.98706,     0.98706,     0.98706,     0.98706,     0.98706,     0.98706,     0.98706,     0.98706,     0.98706,     0.98706,     0.98706,     0.98706,     0.98706,     0.98706,     0.98706,     0.98706,\n",
              "            0.98706,     0.98706,     0.98706,     0.98706,     0.98706,     0.98587,     0.98587,     0.98587,     0.98587,     0.98587,     0.98587,     0.98587,     0.98587,     0.98587,     0.98587,     0.98587,     0.98587,     0.98587,     0.98587,     0.98587,     0.98587,     0.98587,     0.98587,\n",
              "            0.98587,     0.98587,     0.98587,     0.98587,     0.98587,     0.98587,     0.98587,     0.98587,     0.98539,     0.98539,     0.98539,     0.98539,     0.98539,     0.98539,     0.98539,     0.98539,     0.98539,     0.98539,     0.98539,     0.98539,     0.98539,     0.98539,     0.98539,\n",
              "            0.98539,     0.98539,     0.98539,     0.98539,     0.98539,     0.98539,     0.98539,     0.98539,     0.98539,     0.98539,     0.98539,     0.98539,     0.98539,     0.98539,     0.98539,     0.98539,     0.98539,     0.98539,     0.98539,     0.98539,     0.98539,     0.98539,     0.98539,\n",
              "            0.98539,     0.98539,     0.98539,     0.98539,     0.98539,     0.98539,     0.98539,     0.98539,     0.98539,     0.98539,     0.98539,     0.98539,     0.98539,     0.98539,     0.98539,     0.98539,     0.98423,     0.98423,     0.98423,     0.98423,     0.98423,     0.98423,     0.98423,\n",
              "            0.98423,     0.98423,     0.98423,     0.98423,     0.98423,     0.98423,     0.98423,     0.98423,     0.98423,     0.98423,     0.98423,     0.98287,     0.98287,     0.98287,     0.98287,     0.98287,     0.98287,     0.98287,     0.98287,     0.98168,     0.98168,     0.98168,     0.98168,\n",
              "            0.98168,     0.98168,     0.98168,     0.98168,     0.98168,     0.98168,     0.98168,     0.98168,     0.98168,     0.98027,     0.98027,     0.98027,     0.97885,     0.97885,     0.97741,     0.97619,     0.97619,     0.97619,     0.97619,     0.97619,     0.97619,     0.97619,     0.97619,\n",
              "            0.97518,     0.97518,     0.97518,     0.97518,     0.97518,     0.97518,     0.97518,     0.97518,     0.97518,     0.97518,     0.97518,     0.97518,     0.97518,     0.97414,     0.97414,     0.97414,     0.97414,     0.97414,     0.97414,     0.97414,     0.97414,     0.97414,     0.97414,\n",
              "            0.97414,     0.97286,     0.97286,     0.97286,     0.97207,     0.97207,     0.97207,     0.97207,     0.97207,     0.97207,     0.97207,     0.97207,     0.97207,     0.97207,     0.97207,     0.97207,     0.97207,     0.97207,     0.97207,     0.97207,     0.97123,     0.97123,     0.97123,\n",
              "            0.97123,     0.97123,     0.97123,     0.97123,     0.97123,     0.97123,     0.97123,     0.97123,     0.97123,     0.97123,     0.97123,     0.97011,     0.97011,     0.97011,     0.97011,     0.97011,     0.97011,     0.96896,     0.96896,     0.96896,     0.96896,     0.96796,     0.96796,\n",
              "            0.96796,     0.96796,     0.96796,     0.96796,     0.96796,     0.96796,     0.96471,     0.96471,     0.96471,     0.96471,     0.96471,     0.96471,     0.96471,     0.96471,     0.96471,     0.96471,     0.96471,     0.96471,     0.96471,     0.96471,     0.96368,     0.96368,     0.96368,\n",
              "            0.96368,     0.96368,     0.96196,     0.96196,     0.96196,     0.96196,     0.96196,     0.96196,     0.96196,     0.96196,     0.96196,     0.96196,     0.96196,     0.96196,     0.96196,     0.96196,     0.96196,     0.96196,     0.96196,     0.96196,     0.96196,     0.96196,     0.96196,\n",
              "            0.96196,     0.96196,     0.96196,     0.96196,     0.96196,     0.96196,     0.96196,     0.96196,     0.96196,     0.96196,     0.96196,     0.96196,     0.96196,     0.96196,     0.96196,     0.96196,     0.96196,     0.96196,     0.96196,     0.96196,     0.96196,     0.96196,     0.96196,\n",
              "            0.96196,     0.96163,     0.96163,     0.96163,     0.96163,     0.96163,     0.96163,     0.96163,     0.96163,     0.96163,     0.96163,     0.96163,     0.96163,     0.96163,     0.96163,     0.96163,     0.96163,     0.96163,     0.96163,     0.96163,     0.96057,     0.96057,     0.96057,\n",
              "            0.95952,     0.95952,     0.95916,     0.95916,     0.95916,     0.95916,     0.95916,     0.95916,     0.95916,     0.95916,     0.95916,     0.95916,     0.95916,     0.95916,     0.95916,     0.95916,     0.95916,     0.95916,     0.95916,     0.95876,     0.95876,     0.95876,     0.95876,\n",
              "            0.95876,     0.95876,     0.95876,     0.95876,     0.95876,     0.95876,     0.95876,     0.95876,     0.95876,     0.95876,     0.95876,     0.95876,     0.95776,     0.95776,     0.95776,     0.95677,     0.95677,     0.95623,     0.95623,     0.95623,     0.95623,     0.95623,     0.95623,\n",
              "            0.95623,     0.95623,     0.95623,     0.95623,     0.95623,     0.95623,     0.95526,     0.95526,     0.95424,     0.95339,     0.95339,     0.95339,     0.95339,     0.95149,     0.95149,     0.95149,     0.95149,     0.95149,      0.9505,     0.94962,     0.94962,     0.94962,      0.9476,\n",
              "            0.94559,     0.94372,     0.94372,     0.94372,     0.94295,     0.94295,     0.94295,     0.94295,     0.94295,     0.94225,     0.94225,     0.94225,     0.94225,     0.94225,      0.9383,     0.93538,     0.93446,     0.92962,     0.92872,     0.92872,     0.92782,     0.92604,     0.92604,\n",
              "            0.92133,     0.91667,      0.9159,      0.9159,      0.9142,      0.9142,     0.91335,     0.90974,     0.90974,     0.89275,     0.89275,     0.88757,     0.87391,     0.87234,     0.86994,     0.83626,     0.82951,     0.82289,     0.80838,     0.65845,     0.65774,     0.65774,     0.55556,\n",
              "            0.54682,     0.41398,      0.2903,     0.26015,     0.22298,     0.18582,     0.14866,     0.11149,    0.074328,    0.037164,           0]]), 'Recall', 'Precision'], [array([          0,    0.001001,    0.002002,    0.003003,    0.004004,    0.005005,    0.006006,    0.007007,    0.008008,    0.009009,     0.01001,    0.011011,    0.012012,    0.013013,    0.014014,    0.015015,    0.016016,    0.017017,    0.018018,    0.019019,     0.02002,    0.021021,    0.022022,    0.023023,\n",
              "          0.024024,    0.025025,    0.026026,    0.027027,    0.028028,    0.029029,     0.03003,    0.031031,    0.032032,    0.033033,    0.034034,    0.035035,    0.036036,    0.037037,    0.038038,    0.039039,     0.04004,    0.041041,    0.042042,    0.043043,    0.044044,    0.045045,    0.046046,    0.047047,\n",
              "          0.048048,    0.049049,     0.05005,    0.051051,    0.052052,    0.053053,    0.054054,    0.055055,    0.056056,    0.057057,    0.058058,    0.059059,     0.06006,    0.061061,    0.062062,    0.063063,    0.064064,    0.065065,    0.066066,    0.067067,    0.068068,    0.069069,     0.07007,    0.071071,\n",
              "          0.072072,    0.073073,    0.074074,    0.075075,    0.076076,    0.077077,    0.078078,    0.079079,     0.08008,    0.081081,    0.082082,    0.083083,    0.084084,    0.085085,    0.086086,    0.087087,    0.088088,    0.089089,     0.09009,    0.091091,    0.092092,    0.093093,    0.094094,    0.095095,\n",
              "          0.096096,    0.097097,    0.098098,    0.099099,      0.1001,      0.1011,      0.1021,      0.1031,      0.1041,     0.10511,     0.10611,     0.10711,     0.10811,     0.10911,     0.11011,     0.11111,     0.11211,     0.11311,     0.11411,     0.11512,     0.11612,     0.11712,     0.11812,     0.11912,\n",
              "           0.12012,     0.12112,     0.12212,     0.12312,     0.12412,     0.12513,     0.12613,     0.12713,     0.12813,     0.12913,     0.13013,     0.13113,     0.13213,     0.13313,     0.13413,     0.13514,     0.13614,     0.13714,     0.13814,     0.13914,     0.14014,     0.14114,     0.14214,     0.14314,\n",
              "           0.14414,     0.14515,     0.14615,     0.14715,     0.14815,     0.14915,     0.15015,     0.15115,     0.15215,     0.15315,     0.15415,     0.15516,     0.15616,     0.15716,     0.15816,     0.15916,     0.16016,     0.16116,     0.16216,     0.16316,     0.16416,     0.16517,     0.16617,     0.16717,\n",
              "           0.16817,     0.16917,     0.17017,     0.17117,     0.17217,     0.17317,     0.17417,     0.17518,     0.17618,     0.17718,     0.17818,     0.17918,     0.18018,     0.18118,     0.18218,     0.18318,     0.18418,     0.18519,     0.18619,     0.18719,     0.18819,     0.18919,     0.19019,     0.19119,\n",
              "           0.19219,     0.19319,     0.19419,      0.1952,      0.1962,      0.1972,      0.1982,      0.1992,      0.2002,      0.2012,      0.2022,      0.2032,      0.2042,     0.20521,     0.20621,     0.20721,     0.20821,     0.20921,     0.21021,     0.21121,     0.21221,     0.21321,     0.21421,     0.21522,\n",
              "           0.21622,     0.21722,     0.21822,     0.21922,     0.22022,     0.22122,     0.22222,     0.22322,     0.22422,     0.22523,     0.22623,     0.22723,     0.22823,     0.22923,     0.23023,     0.23123,     0.23223,     0.23323,     0.23423,     0.23524,     0.23624,     0.23724,     0.23824,     0.23924,\n",
              "           0.24024,     0.24124,     0.24224,     0.24324,     0.24424,     0.24525,     0.24625,     0.24725,     0.24825,     0.24925,     0.25025,     0.25125,     0.25225,     0.25325,     0.25425,     0.25526,     0.25626,     0.25726,     0.25826,     0.25926,     0.26026,     0.26126,     0.26226,     0.26326,\n",
              "           0.26426,     0.26527,     0.26627,     0.26727,     0.26827,     0.26927,     0.27027,     0.27127,     0.27227,     0.27327,     0.27427,     0.27528,     0.27628,     0.27728,     0.27828,     0.27928,     0.28028,     0.28128,     0.28228,     0.28328,     0.28428,     0.28529,     0.28629,     0.28729,\n",
              "           0.28829,     0.28929,     0.29029,     0.29129,     0.29229,     0.29329,     0.29429,      0.2953,      0.2963,      0.2973,      0.2983,      0.2993,      0.3003,      0.3013,      0.3023,      0.3033,      0.3043,     0.30531,     0.30631,     0.30731,     0.30831,     0.30931,     0.31031,     0.31131,\n",
              "           0.31231,     0.31331,     0.31431,     0.31532,     0.31632,     0.31732,     0.31832,     0.31932,     0.32032,     0.32132,     0.32232,     0.32332,     0.32432,     0.32533,     0.32633,     0.32733,     0.32833,     0.32933,     0.33033,     0.33133,     0.33233,     0.33333,     0.33433,     0.33534,\n",
              "           0.33634,     0.33734,     0.33834,     0.33934,     0.34034,     0.34134,     0.34234,     0.34334,     0.34434,     0.34535,     0.34635,     0.34735,     0.34835,     0.34935,     0.35035,     0.35135,     0.35235,     0.35335,     0.35435,     0.35536,     0.35636,     0.35736,     0.35836,     0.35936,\n",
              "           0.36036,     0.36136,     0.36236,     0.36336,     0.36436,     0.36537,     0.36637,     0.36737,     0.36837,     0.36937,     0.37037,     0.37137,     0.37237,     0.37337,     0.37437,     0.37538,     0.37638,     0.37738,     0.37838,     0.37938,     0.38038,     0.38138,     0.38238,     0.38338,\n",
              "           0.38438,     0.38539,     0.38639,     0.38739,     0.38839,     0.38939,     0.39039,     0.39139,     0.39239,     0.39339,     0.39439,      0.3954,      0.3964,      0.3974,      0.3984,      0.3994,      0.4004,      0.4014,      0.4024,      0.4034,      0.4044,     0.40541,     0.40641,     0.40741,\n",
              "           0.40841,     0.40941,     0.41041,     0.41141,     0.41241,     0.41341,     0.41441,     0.41542,     0.41642,     0.41742,     0.41842,     0.41942,     0.42042,     0.42142,     0.42242,     0.42342,     0.42442,     0.42543,     0.42643,     0.42743,     0.42843,     0.42943,     0.43043,     0.43143,\n",
              "           0.43243,     0.43343,     0.43443,     0.43544,     0.43644,     0.43744,     0.43844,     0.43944,     0.44044,     0.44144,     0.44244,     0.44344,     0.44444,     0.44545,     0.44645,     0.44745,     0.44845,     0.44945,     0.45045,     0.45145,     0.45245,     0.45345,     0.45445,     0.45546,\n",
              "           0.45646,     0.45746,     0.45846,     0.45946,     0.46046,     0.46146,     0.46246,     0.46346,     0.46446,     0.46547,     0.46647,     0.46747,     0.46847,     0.46947,     0.47047,     0.47147,     0.47247,     0.47347,     0.47447,     0.47548,     0.47648,     0.47748,     0.47848,     0.47948,\n",
              "           0.48048,     0.48148,     0.48248,     0.48348,     0.48448,     0.48549,     0.48649,     0.48749,     0.48849,     0.48949,     0.49049,     0.49149,     0.49249,     0.49349,     0.49449,      0.4955,      0.4965,      0.4975,      0.4985,      0.4995,      0.5005,      0.5015,      0.5025,      0.5035,\n",
              "            0.5045,     0.50551,     0.50651,     0.50751,     0.50851,     0.50951,     0.51051,     0.51151,     0.51251,     0.51351,     0.51451,     0.51552,     0.51652,     0.51752,     0.51852,     0.51952,     0.52052,     0.52152,     0.52252,     0.52352,     0.52452,     0.52553,     0.52653,     0.52753,\n",
              "           0.52853,     0.52953,     0.53053,     0.53153,     0.53253,     0.53353,     0.53453,     0.53554,     0.53654,     0.53754,     0.53854,     0.53954,     0.54054,     0.54154,     0.54254,     0.54354,     0.54454,     0.54555,     0.54655,     0.54755,     0.54855,     0.54955,     0.55055,     0.55155,\n",
              "           0.55255,     0.55355,     0.55455,     0.55556,     0.55656,     0.55756,     0.55856,     0.55956,     0.56056,     0.56156,     0.56256,     0.56356,     0.56456,     0.56557,     0.56657,     0.56757,     0.56857,     0.56957,     0.57057,     0.57157,     0.57257,     0.57357,     0.57457,     0.57558,\n",
              "           0.57658,     0.57758,     0.57858,     0.57958,     0.58058,     0.58158,     0.58258,     0.58358,     0.58458,     0.58559,     0.58659,     0.58759,     0.58859,     0.58959,     0.59059,     0.59159,     0.59259,     0.59359,     0.59459,      0.5956,      0.5966,      0.5976,      0.5986,      0.5996,\n",
              "            0.6006,      0.6016,      0.6026,      0.6036,      0.6046,     0.60561,     0.60661,     0.60761,     0.60861,     0.60961,     0.61061,     0.61161,     0.61261,     0.61361,     0.61461,     0.61562,     0.61662,     0.61762,     0.61862,     0.61962,     0.62062,     0.62162,     0.62262,     0.62362,\n",
              "           0.62462,     0.62563,     0.62663,     0.62763,     0.62863,     0.62963,     0.63063,     0.63163,     0.63263,     0.63363,     0.63463,     0.63564,     0.63664,     0.63764,     0.63864,     0.63964,     0.64064,     0.64164,     0.64264,     0.64364,     0.64464,     0.64565,     0.64665,     0.64765,\n",
              "           0.64865,     0.64965,     0.65065,     0.65165,     0.65265,     0.65365,     0.65465,     0.65566,     0.65666,     0.65766,     0.65866,     0.65966,     0.66066,     0.66166,     0.66266,     0.66366,     0.66466,     0.66567,     0.66667,     0.66767,     0.66867,     0.66967,     0.67067,     0.67167,\n",
              "           0.67267,     0.67367,     0.67467,     0.67568,     0.67668,     0.67768,     0.67868,     0.67968,     0.68068,     0.68168,     0.68268,     0.68368,     0.68468,     0.68569,     0.68669,     0.68769,     0.68869,     0.68969,     0.69069,     0.69169,     0.69269,     0.69369,     0.69469,      0.6957,\n",
              "            0.6967,      0.6977,      0.6987,      0.6997,      0.7007,      0.7017,      0.7027,      0.7037,      0.7047,     0.70571,     0.70671,     0.70771,     0.70871,     0.70971,     0.71071,     0.71171,     0.71271,     0.71371,     0.71471,     0.71572,     0.71672,     0.71772,     0.71872,     0.71972,\n",
              "           0.72072,     0.72172,     0.72272,     0.72372,     0.72472,     0.72573,     0.72673,     0.72773,     0.72873,     0.72973,     0.73073,     0.73173,     0.73273,     0.73373,     0.73473,     0.73574,     0.73674,     0.73774,     0.73874,     0.73974,     0.74074,     0.74174,     0.74274,     0.74374,\n",
              "           0.74474,     0.74575,     0.74675,     0.74775,     0.74875,     0.74975,     0.75075,     0.75175,     0.75275,     0.75375,     0.75475,     0.75576,     0.75676,     0.75776,     0.75876,     0.75976,     0.76076,     0.76176,     0.76276,     0.76376,     0.76476,     0.76577,     0.76677,     0.76777,\n",
              "           0.76877,     0.76977,     0.77077,     0.77177,     0.77277,     0.77377,     0.77477,     0.77578,     0.77678,     0.77778,     0.77878,     0.77978,     0.78078,     0.78178,     0.78278,     0.78378,     0.78478,     0.78579,     0.78679,     0.78779,     0.78879,     0.78979,     0.79079,     0.79179,\n",
              "           0.79279,     0.79379,     0.79479,      0.7958,      0.7968,      0.7978,      0.7988,      0.7998,      0.8008,      0.8018,      0.8028,      0.8038,      0.8048,     0.80581,     0.80681,     0.80781,     0.80881,     0.80981,     0.81081,     0.81181,     0.81281,     0.81381,     0.81481,     0.81582,\n",
              "           0.81682,     0.81782,     0.81882,     0.81982,     0.82082,     0.82182,     0.82282,     0.82382,     0.82482,     0.82583,     0.82683,     0.82783,     0.82883,     0.82983,     0.83083,     0.83183,     0.83283,     0.83383,     0.83483,     0.83584,     0.83684,     0.83784,     0.83884,     0.83984,\n",
              "           0.84084,     0.84184,     0.84284,     0.84384,     0.84484,     0.84585,     0.84685,     0.84785,     0.84885,     0.84985,     0.85085,     0.85185,     0.85285,     0.85385,     0.85485,     0.85586,     0.85686,     0.85786,     0.85886,     0.85986,     0.86086,     0.86186,     0.86286,     0.86386,\n",
              "           0.86486,     0.86587,     0.86687,     0.86787,     0.86887,     0.86987,     0.87087,     0.87187,     0.87287,     0.87387,     0.87487,     0.87588,     0.87688,     0.87788,     0.87888,     0.87988,     0.88088,     0.88188,     0.88288,     0.88388,     0.88488,     0.88589,     0.88689,     0.88789,\n",
              "           0.88889,     0.88989,     0.89089,     0.89189,     0.89289,     0.89389,     0.89489,      0.8959,      0.8969,      0.8979,      0.8989,      0.8999,      0.9009,      0.9019,      0.9029,      0.9039,      0.9049,     0.90591,     0.90691,     0.90791,     0.90891,     0.90991,     0.91091,     0.91191,\n",
              "           0.91291,     0.91391,     0.91491,     0.91592,     0.91692,     0.91792,     0.91892,     0.91992,     0.92092,     0.92192,     0.92292,     0.92392,     0.92492,     0.92593,     0.92693,     0.92793,     0.92893,     0.92993,     0.93093,     0.93193,     0.93293,     0.93393,     0.93493,     0.93594,\n",
              "           0.93694,     0.93794,     0.93894,     0.93994,     0.94094,     0.94194,     0.94294,     0.94394,     0.94494,     0.94595,     0.94695,     0.94795,     0.94895,     0.94995,     0.95095,     0.95195,     0.95295,     0.95395,     0.95495,     0.95596,     0.95696,     0.95796,     0.95896,     0.95996,\n",
              "           0.96096,     0.96196,     0.96296,     0.96396,     0.96496,     0.96597,     0.96697,     0.96797,     0.96897,     0.96997,     0.97097,     0.97197,     0.97297,     0.97397,     0.97497,     0.97598,     0.97698,     0.97798,     0.97898,     0.97998,     0.98098,     0.98198,     0.98298,     0.98398,\n",
              "           0.98498,     0.98599,     0.98699,     0.98799,     0.98899,     0.98999,     0.99099,     0.99199,     0.99299,     0.99399,     0.99499,       0.996,       0.997,       0.998,       0.999,           1]), array([[    0.43979,     0.43979,     0.54922,     0.61552,     0.65502,     0.68293,     0.70516,     0.72339,     0.74085,     0.75571,     0.76547,     0.77306,     0.78077,     0.78766,     0.79115,     0.79789,     0.80369,      0.8093,     0.81339,     0.81667,     0.82049,     0.82346,     0.82622,\n",
              "            0.82841,     0.83036,     0.83278,     0.83559,     0.83836,     0.84024,     0.84136,     0.84324,     0.84551,     0.84682,     0.84915,     0.85073,      0.8517,     0.85297,     0.85603,     0.85714,     0.85777,     0.85838,     0.86027,     0.86157,     0.86284,      0.8648,      0.8656,\n",
              "            0.86759,     0.86793,     0.86931,     0.87045,      0.8718,     0.87268,     0.87341,     0.87441,     0.87513,     0.87582,     0.87695,     0.87844,     0.88008,     0.88243,     0.88338,     0.88453,     0.88547,     0.88637,     0.88722,     0.88803,     0.88826,     0.88785,     0.88825,\n",
              "             0.8892,     0.88998,     0.89023,     0.89084,     0.89287,     0.89355,     0.89399,     0.89419,     0.89502,     0.89543,     0.89562,     0.89585,      0.8961,     0.89622,     0.89702,     0.89727,      0.8976,     0.89791,     0.89815,     0.89863,     0.89892,     0.89916,     0.89961,\n",
              "            0.89951,     0.89966,     0.89981,     0.90049,     0.90118,     0.90224,     0.90244,     0.90264,     0.90285,     0.90306,     0.90329,     0.90311,     0.90325,     0.90339,     0.90361,     0.90391,     0.90409,     0.90426,      0.9049,     0.90531,     0.90549,     0.90567,     0.90605,\n",
              "            0.90638,     0.90666,     0.90686,     0.90707,     0.90758,     0.90772,     0.90786,     0.90799,     0.90859,      0.9091,     0.90939,     0.90947,     0.90956,     0.90964,     0.90973,     0.90981,     0.91024,     0.91041,     0.91055,     0.91069,     0.91088,      0.9111,     0.91139,\n",
              "            0.91171,     0.91194,     0.91235,     0.91311,     0.91336,     0.91355,     0.91366,     0.91376,     0.91387,     0.91402,     0.91456,      0.9148,      0.9155,     0.91574,      0.9161,     0.91678,     0.91709,     0.91748,     0.91815,     0.91834,     0.91852,     0.91906,     0.91915,\n",
              "            0.91923,      0.9193,     0.91937,     0.91944,     0.91952,      0.9198,     0.92032,     0.92099,     0.92105,     0.92111,     0.92117,     0.92123,     0.92129,     0.92135,     0.92141,     0.92154,      0.9217,     0.92187,     0.92207,     0.92188,     0.92198,     0.92209,     0.92219,\n",
              "            0.92229,     0.92249,     0.92269,      0.9227,     0.92296,     0.92319,     0.92333,     0.92348,     0.92362,     0.92328,      0.9232,     0.92346,     0.92358,     0.92362,     0.92367,     0.92371,     0.92376,      0.9238,     0.92384,     0.92389,     0.92393,     0.92398,     0.92402,\n",
              "            0.92426,     0.92453,     0.92488,     0.92559,     0.92577,     0.92599,     0.92634,      0.9265,     0.92663,     0.92675,     0.92687,     0.92788,     0.92813,     0.92837,      0.9286,     0.92928,     0.92933,     0.92938,     0.92943,     0.92948,     0.92953,     0.92958,     0.92963,\n",
              "            0.92968,     0.92974,     0.92979,     0.92984,     0.92989,     0.92994,        0.93,     0.93005,      0.9301,     0.93015,     0.93021,     0.93035,     0.93057,     0.93066,     0.93051,     0.93036,     0.93021,      0.9306,     0.93068,     0.93072,     0.93076,      0.9308,     0.93084,\n",
              "            0.93089,     0.93093,     0.93097,     0.93101,     0.93105,     0.93109,      0.9312,     0.93153,     0.93169,     0.93179,     0.93189,       0.932,      0.9321,     0.93215,      0.9322,     0.93225,      0.9323,     0.93236,     0.93241,     0.93246,     0.93251,     0.93257,     0.93264,\n",
              "            0.93272,      0.9328,     0.93288,     0.93296,     0.93304,     0.93292,     0.93275,     0.93257,     0.93237,     0.93214,     0.93199,     0.93228,     0.93258,     0.93291,     0.93307,     0.93322,     0.93337,     0.93381,     0.93422,     0.93505,     0.93543,     0.93563,     0.93583,\n",
              "            0.93603,     0.93623,     0.93643,     0.93663,     0.93683,     0.93697,     0.93711,     0.93726,     0.93753,     0.93781,     0.93791,     0.93801,      0.9381,      0.9382,     0.93831,      0.9386,     0.93881,     0.93889,     0.93897,     0.93906,     0.93914,     0.93923,     0.93934,\n",
              "            0.93949,     0.93963,     0.93977,     0.93987,     0.93996,     0.94006,     0.94015,     0.94025,     0.94043,     0.94062,     0.94076,      0.9408,     0.94085,     0.94089,     0.94093,     0.94098,     0.94102,     0.94107,     0.94111,     0.94115,      0.9412,     0.94115,     0.94073,\n",
              "            0.94082,      0.9409,     0.94099,     0.94107,     0.94115,     0.94123,      0.9413,     0.94137,     0.94144,     0.94151,     0.94158,     0.94165,     0.94179,     0.94198,     0.94216,     0.94245,     0.94265,     0.94263,      0.9426,     0.94257,     0.94255,     0.94252,      0.9425,\n",
              "            0.94247,     0.94244,     0.94242,     0.94239,     0.94236,     0.94234,     0.94231,     0.94228,     0.94226,     0.94223,      0.9422,     0.94218,     0.94215,     0.94212,     0.94213,     0.94222,     0.94231,      0.9424,     0.94249,     0.94257,     0.94252,      0.9424,     0.94228,\n",
              "            0.94216,     0.94204,     0.94194,     0.94184,     0.94174,     0.94164,     0.94154,     0.94153,     0.94164,     0.94175,     0.94186,     0.94196,     0.94219,     0.94245,     0.94199,     0.94181,     0.94169,     0.94157,     0.94145,     0.94143,     0.94168,     0.94185,      0.9418,\n",
              "            0.94175,      0.9417,     0.94165,      0.9416,     0.94155,      0.9415,     0.94145,      0.9414,     0.94135,     0.94131,     0.94144,     0.94157,     0.94169,     0.94232,     0.94245,     0.94258,      0.9427,      0.9433,     0.94333,     0.94336,     0.94339,     0.94342,     0.94345,\n",
              "            0.94348,     0.94351,     0.94354,     0.94356,     0.94359,     0.94362,     0.94365,     0.94368,     0.94371,     0.94374,     0.94377,      0.9438,     0.94324,     0.94329,     0.94334,     0.94339,     0.94345,      0.9435,     0.94355,      0.9436,     0.94366,     0.94371,     0.94376,\n",
              "            0.94381,     0.94385,      0.9439,     0.94395,     0.94399,     0.94404,     0.94409,     0.94413,     0.94418,     0.94423,     0.94462,     0.94476,     0.94478,     0.94481,     0.94483,     0.94486,     0.94488,     0.94491,     0.94493,     0.94495,     0.94498,       0.945,     0.94503,\n",
              "            0.94505,     0.94508,      0.9451,     0.94513,     0.94515,     0.94518,      0.9452,     0.94522,     0.94527,     0.94537,     0.94548,     0.94558,     0.94568,     0.94573,     0.94568,     0.94564,     0.94559,     0.94555,     0.94551,     0.94546,     0.94542,     0.94537,     0.94533,\n",
              "            0.94528,     0.94524,      0.9452,     0.94477,     0.94468,     0.94475,     0.94482,      0.9449,     0.94497,     0.94505,     0.94512,      0.9452,     0.94529,     0.94538,     0.94546,     0.94555,     0.94561,     0.94532,     0.94556,     0.94549,     0.94542,     0.94535,     0.94527,\n",
              "             0.9452,     0.94513,     0.94506,     0.94504,     0.94514,     0.94525,     0.94535,     0.94545,     0.94527,     0.94518,     0.94552,     0.94565,     0.94578,     0.94591,     0.94601,      0.9461,     0.94618,     0.94627,     0.94636,     0.94644,     0.94684,     0.94701,     0.94706,\n",
              "            0.94711,     0.94716,     0.94721,     0.94726,     0.94731,     0.94736,     0.94741,     0.94746,     0.94741,     0.94726,     0.94712,     0.94697,     0.94723,     0.94706,     0.94692,       0.947,     0.94709,     0.94718,     0.94726,     0.94735,      0.9474,     0.94744,     0.94748,\n",
              "            0.94752,     0.94755,     0.94759,     0.94763,     0.94767,     0.94771,     0.94775,     0.94779,     0.94782,     0.94786,     0.94789,     0.94791,     0.94793,     0.94795,     0.94797,     0.94799,     0.94801,     0.94803,     0.94804,     0.94806,     0.94808,      0.9481,     0.94812,\n",
              "            0.94814,     0.94816,     0.94818,      0.9482,     0.94822,     0.94824,     0.94826,     0.94828,      0.9483,     0.94832,     0.94833,     0.94835,     0.94837,     0.94822,     0.94788,     0.94805,     0.94822,     0.94838,     0.94849,     0.94861,     0.94872,     0.94884,     0.94936,\n",
              "            0.94986,     0.94966,     0.94947,      0.9486,     0.94798,     0.94769,     0.94714,     0.94732,     0.94749,     0.94736,     0.94713,     0.94637,     0.94626,     0.94615,     0.94605,     0.94594,     0.94583,     0.94555,     0.94526,     0.94543,     0.94561,     0.94576,     0.94567,\n",
              "            0.94558,     0.94549,      0.9454,     0.94531,     0.94522,     0.94411,     0.94438,     0.94464,      0.9449,     0.94469,     0.94462,     0.94475,     0.94488,     0.94501,     0.94535,     0.94521,     0.94561,     0.94587,     0.94528,     0.94505,     0.94432,     0.94475,     0.94451,\n",
              "            0.94427,     0.94439,     0.94465,     0.94341,     0.94255,     0.94299,      0.9432,     0.94341,     0.94292,     0.94232,     0.94206,     0.94182,     0.94134,     0.94156,     0.94096,      0.9404,     0.94051,     0.94062,     0.94072,     0.94083,     0.94031,     0.94017,     0.94004,\n",
              "            0.93991,     0.93977,     0.93927,     0.93883,     0.93784,     0.93744,     0.93654,     0.93623,     0.93584,     0.93543,     0.93503,     0.93473,     0.93434,     0.93394,     0.93405,     0.93362,      0.9332,     0.93355,     0.93315,     0.93214,      0.9312,     0.93103,     0.93085,\n",
              "            0.93068,      0.9303,     0.92929,     0.92888,     0.92857,     0.92826,     0.92785,     0.92755,     0.92734,     0.92713,      0.9251,     0.92485,     0.92446,     0.92192,     0.92109,     0.92016,     0.91958,     0.91917,     0.91814,     0.91656,     0.91638,      0.9162,     0.91602,\n",
              "            0.91548,     0.91569,      0.9159,     0.91499,     0.91469,     0.91519,     0.91505,     0.91491,     0.91477,     0.91463,     0.91408,     0.91425,     0.91443,     0.91402,     0.91313,     0.91271,     0.91087,     0.90936,     0.90894,     0.90788,     0.90333,     0.90372,     0.90271,\n",
              "            0.90164,     0.89928,     0.89789,     0.89763,     0.89669,     0.89413,      0.8937,     0.89182,     0.89023,     0.88979,     0.88896,     0.88869,     0.88842,     0.88801,     0.88619,     0.88568,     0.88546,     0.88524,     0.88453,     0.88382,     0.88315,     0.88204,     0.88202,\n",
              "            0.88232,     0.88187,     0.87786,     0.87782,     0.87562,      0.8755,     0.87482,     0.87296,     0.87115,     0.87069,     0.86938,      0.8682,     0.86787,     0.86823,     0.86821,       0.867,     0.86643,     0.86598,     0.86581,     0.86563,     0.86546,     0.86433,     0.86206,\n",
              "            0.86222,     0.85896,     0.85926,     0.85791,     0.85743,     0.85504,     0.85293,     0.85199,      0.8507,     0.84919,     0.84847,     0.84532,     0.84418,     0.84241,     0.84074,      0.8386,     0.83904,     0.83798,     0.83464,     0.83231,     0.83156,     0.83082,     0.82787,\n",
              "            0.82475,     0.82228,     0.81927,       0.819,     0.81815,     0.81632,     0.81369,     0.80986,      0.8083,     0.80624,     0.80585,     0.80412,     0.80294,      0.8007,     0.79956,     0.79519,      0.7928,     0.78867,     0.78535,     0.78212,     0.77728,      0.7732,     0.76909,\n",
              "            0.76414,     0.76171,     0.75993,     0.75657,     0.75185,     0.74946,     0.74434,     0.74089,     0.73828,      0.7348,     0.73303,     0.72833,      0.7256,     0.72116,     0.71224,      0.7095,     0.70586,     0.70128,     0.69807,     0.69251,     0.68876,     0.68125,     0.67649,\n",
              "            0.66883,      0.6659,     0.65999,      0.6571,      0.6555,     0.64964,     0.64464,     0.62852,     0.61925,     0.61195,     0.60186,     0.59543,     0.58535,     0.58022,     0.56806,     0.56243,     0.55154,     0.54003,      0.5295,     0.51644,     0.50678,     0.49208,      0.4825,\n",
              "             0.4609,     0.45309,     0.44126,     0.42387,     0.40789,     0.39106,     0.36674,     0.35353,      0.3401,       0.331,     0.32333,      0.3125,     0.29682,     0.28724,      0.2748,     0.26284,     0.24789,      0.2312,     0.22085,      0.2069,     0.19803,     0.18192,     0.17461,\n",
              "            0.15438,     0.13558,     0.12518,     0.11631,     0.10457,    0.094654,    0.086629,    0.081938,    0.072325,    0.068249,    0.065656,    0.061941,    0.053274,    0.047338,    0.040733,    0.033351,     0.02978,    0.029299,    0.028819,    0.028337,    0.027817,    0.025648,    0.023474,\n",
              "           0.021421,    0.020549,    0.019675,    0.018897,    0.018168,    0.017438,     0.01495,    0.014323,    0.013695,    0.013067,   0.0093093,    0.006081,   0.0055887,   0.0050962,   0.0046034,   0.0040452,   0.0034109,   0.0027763,           0,           0,           0,           0,           0,\n",
              "                  0,           0,           0,           0,           0,           0,           0,           0,           0,           0,           0,           0,           0,           0,           0,           0,           0,           0,           0,           0,           0,           0,           0,\n",
              "                  0,           0,           0,           0,           0,           0,           0,           0,           0,           0,           0]]), 'Confidence', 'F1'], [array([          0,    0.001001,    0.002002,    0.003003,    0.004004,    0.005005,    0.006006,    0.007007,    0.008008,    0.009009,     0.01001,    0.011011,    0.012012,    0.013013,    0.014014,    0.015015,    0.016016,    0.017017,    0.018018,    0.019019,     0.02002,    0.021021,    0.022022,    0.023023,\n",
              "          0.024024,    0.025025,    0.026026,    0.027027,    0.028028,    0.029029,     0.03003,    0.031031,    0.032032,    0.033033,    0.034034,    0.035035,    0.036036,    0.037037,    0.038038,    0.039039,     0.04004,    0.041041,    0.042042,    0.043043,    0.044044,    0.045045,    0.046046,    0.047047,\n",
              "          0.048048,    0.049049,     0.05005,    0.051051,    0.052052,    0.053053,    0.054054,    0.055055,    0.056056,    0.057057,    0.058058,    0.059059,     0.06006,    0.061061,    0.062062,    0.063063,    0.064064,    0.065065,    0.066066,    0.067067,    0.068068,    0.069069,     0.07007,    0.071071,\n",
              "          0.072072,    0.073073,    0.074074,    0.075075,    0.076076,    0.077077,    0.078078,    0.079079,     0.08008,    0.081081,    0.082082,    0.083083,    0.084084,    0.085085,    0.086086,    0.087087,    0.088088,    0.089089,     0.09009,    0.091091,    0.092092,    0.093093,    0.094094,    0.095095,\n",
              "          0.096096,    0.097097,    0.098098,    0.099099,      0.1001,      0.1011,      0.1021,      0.1031,      0.1041,     0.10511,     0.10611,     0.10711,     0.10811,     0.10911,     0.11011,     0.11111,     0.11211,     0.11311,     0.11411,     0.11512,     0.11612,     0.11712,     0.11812,     0.11912,\n",
              "           0.12012,     0.12112,     0.12212,     0.12312,     0.12412,     0.12513,     0.12613,     0.12713,     0.12813,     0.12913,     0.13013,     0.13113,     0.13213,     0.13313,     0.13413,     0.13514,     0.13614,     0.13714,     0.13814,     0.13914,     0.14014,     0.14114,     0.14214,     0.14314,\n",
              "           0.14414,     0.14515,     0.14615,     0.14715,     0.14815,     0.14915,     0.15015,     0.15115,     0.15215,     0.15315,     0.15415,     0.15516,     0.15616,     0.15716,     0.15816,     0.15916,     0.16016,     0.16116,     0.16216,     0.16316,     0.16416,     0.16517,     0.16617,     0.16717,\n",
              "           0.16817,     0.16917,     0.17017,     0.17117,     0.17217,     0.17317,     0.17417,     0.17518,     0.17618,     0.17718,     0.17818,     0.17918,     0.18018,     0.18118,     0.18218,     0.18318,     0.18418,     0.18519,     0.18619,     0.18719,     0.18819,     0.18919,     0.19019,     0.19119,\n",
              "           0.19219,     0.19319,     0.19419,      0.1952,      0.1962,      0.1972,      0.1982,      0.1992,      0.2002,      0.2012,      0.2022,      0.2032,      0.2042,     0.20521,     0.20621,     0.20721,     0.20821,     0.20921,     0.21021,     0.21121,     0.21221,     0.21321,     0.21421,     0.21522,\n",
              "           0.21622,     0.21722,     0.21822,     0.21922,     0.22022,     0.22122,     0.22222,     0.22322,     0.22422,     0.22523,     0.22623,     0.22723,     0.22823,     0.22923,     0.23023,     0.23123,     0.23223,     0.23323,     0.23423,     0.23524,     0.23624,     0.23724,     0.23824,     0.23924,\n",
              "           0.24024,     0.24124,     0.24224,     0.24324,     0.24424,     0.24525,     0.24625,     0.24725,     0.24825,     0.24925,     0.25025,     0.25125,     0.25225,     0.25325,     0.25425,     0.25526,     0.25626,     0.25726,     0.25826,     0.25926,     0.26026,     0.26126,     0.26226,     0.26326,\n",
              "           0.26426,     0.26527,     0.26627,     0.26727,     0.26827,     0.26927,     0.27027,     0.27127,     0.27227,     0.27327,     0.27427,     0.27528,     0.27628,     0.27728,     0.27828,     0.27928,     0.28028,     0.28128,     0.28228,     0.28328,     0.28428,     0.28529,     0.28629,     0.28729,\n",
              "           0.28829,     0.28929,     0.29029,     0.29129,     0.29229,     0.29329,     0.29429,      0.2953,      0.2963,      0.2973,      0.2983,      0.2993,      0.3003,      0.3013,      0.3023,      0.3033,      0.3043,     0.30531,     0.30631,     0.30731,     0.30831,     0.30931,     0.31031,     0.31131,\n",
              "           0.31231,     0.31331,     0.31431,     0.31532,     0.31632,     0.31732,     0.31832,     0.31932,     0.32032,     0.32132,     0.32232,     0.32332,     0.32432,     0.32533,     0.32633,     0.32733,     0.32833,     0.32933,     0.33033,     0.33133,     0.33233,     0.33333,     0.33433,     0.33534,\n",
              "           0.33634,     0.33734,     0.33834,     0.33934,     0.34034,     0.34134,     0.34234,     0.34334,     0.34434,     0.34535,     0.34635,     0.34735,     0.34835,     0.34935,     0.35035,     0.35135,     0.35235,     0.35335,     0.35435,     0.35536,     0.35636,     0.35736,     0.35836,     0.35936,\n",
              "           0.36036,     0.36136,     0.36236,     0.36336,     0.36436,     0.36537,     0.36637,     0.36737,     0.36837,     0.36937,     0.37037,     0.37137,     0.37237,     0.37337,     0.37437,     0.37538,     0.37638,     0.37738,     0.37838,     0.37938,     0.38038,     0.38138,     0.38238,     0.38338,\n",
              "           0.38438,     0.38539,     0.38639,     0.38739,     0.38839,     0.38939,     0.39039,     0.39139,     0.39239,     0.39339,     0.39439,      0.3954,      0.3964,      0.3974,      0.3984,      0.3994,      0.4004,      0.4014,      0.4024,      0.4034,      0.4044,     0.40541,     0.40641,     0.40741,\n",
              "           0.40841,     0.40941,     0.41041,     0.41141,     0.41241,     0.41341,     0.41441,     0.41542,     0.41642,     0.41742,     0.41842,     0.41942,     0.42042,     0.42142,     0.42242,     0.42342,     0.42442,     0.42543,     0.42643,     0.42743,     0.42843,     0.42943,     0.43043,     0.43143,\n",
              "           0.43243,     0.43343,     0.43443,     0.43544,     0.43644,     0.43744,     0.43844,     0.43944,     0.44044,     0.44144,     0.44244,     0.44344,     0.44444,     0.44545,     0.44645,     0.44745,     0.44845,     0.44945,     0.45045,     0.45145,     0.45245,     0.45345,     0.45445,     0.45546,\n",
              "           0.45646,     0.45746,     0.45846,     0.45946,     0.46046,     0.46146,     0.46246,     0.46346,     0.46446,     0.46547,     0.46647,     0.46747,     0.46847,     0.46947,     0.47047,     0.47147,     0.47247,     0.47347,     0.47447,     0.47548,     0.47648,     0.47748,     0.47848,     0.47948,\n",
              "           0.48048,     0.48148,     0.48248,     0.48348,     0.48448,     0.48549,     0.48649,     0.48749,     0.48849,     0.48949,     0.49049,     0.49149,     0.49249,     0.49349,     0.49449,      0.4955,      0.4965,      0.4975,      0.4985,      0.4995,      0.5005,      0.5015,      0.5025,      0.5035,\n",
              "            0.5045,     0.50551,     0.50651,     0.50751,     0.50851,     0.50951,     0.51051,     0.51151,     0.51251,     0.51351,     0.51451,     0.51552,     0.51652,     0.51752,     0.51852,     0.51952,     0.52052,     0.52152,     0.52252,     0.52352,     0.52452,     0.52553,     0.52653,     0.52753,\n",
              "           0.52853,     0.52953,     0.53053,     0.53153,     0.53253,     0.53353,     0.53453,     0.53554,     0.53654,     0.53754,     0.53854,     0.53954,     0.54054,     0.54154,     0.54254,     0.54354,     0.54454,     0.54555,     0.54655,     0.54755,     0.54855,     0.54955,     0.55055,     0.55155,\n",
              "           0.55255,     0.55355,     0.55455,     0.55556,     0.55656,     0.55756,     0.55856,     0.55956,     0.56056,     0.56156,     0.56256,     0.56356,     0.56456,     0.56557,     0.56657,     0.56757,     0.56857,     0.56957,     0.57057,     0.57157,     0.57257,     0.57357,     0.57457,     0.57558,\n",
              "           0.57658,     0.57758,     0.57858,     0.57958,     0.58058,     0.58158,     0.58258,     0.58358,     0.58458,     0.58559,     0.58659,     0.58759,     0.58859,     0.58959,     0.59059,     0.59159,     0.59259,     0.59359,     0.59459,      0.5956,      0.5966,      0.5976,      0.5986,      0.5996,\n",
              "            0.6006,      0.6016,      0.6026,      0.6036,      0.6046,     0.60561,     0.60661,     0.60761,     0.60861,     0.60961,     0.61061,     0.61161,     0.61261,     0.61361,     0.61461,     0.61562,     0.61662,     0.61762,     0.61862,     0.61962,     0.62062,     0.62162,     0.62262,     0.62362,\n",
              "           0.62462,     0.62563,     0.62663,     0.62763,     0.62863,     0.62963,     0.63063,     0.63163,     0.63263,     0.63363,     0.63463,     0.63564,     0.63664,     0.63764,     0.63864,     0.63964,     0.64064,     0.64164,     0.64264,     0.64364,     0.64464,     0.64565,     0.64665,     0.64765,\n",
              "           0.64865,     0.64965,     0.65065,     0.65165,     0.65265,     0.65365,     0.65465,     0.65566,     0.65666,     0.65766,     0.65866,     0.65966,     0.66066,     0.66166,     0.66266,     0.66366,     0.66466,     0.66567,     0.66667,     0.66767,     0.66867,     0.66967,     0.67067,     0.67167,\n",
              "           0.67267,     0.67367,     0.67467,     0.67568,     0.67668,     0.67768,     0.67868,     0.67968,     0.68068,     0.68168,     0.68268,     0.68368,     0.68468,     0.68569,     0.68669,     0.68769,     0.68869,     0.68969,     0.69069,     0.69169,     0.69269,     0.69369,     0.69469,      0.6957,\n",
              "            0.6967,      0.6977,      0.6987,      0.6997,      0.7007,      0.7017,      0.7027,      0.7037,      0.7047,     0.70571,     0.70671,     0.70771,     0.70871,     0.70971,     0.71071,     0.71171,     0.71271,     0.71371,     0.71471,     0.71572,     0.71672,     0.71772,     0.71872,     0.71972,\n",
              "           0.72072,     0.72172,     0.72272,     0.72372,     0.72472,     0.72573,     0.72673,     0.72773,     0.72873,     0.72973,     0.73073,     0.73173,     0.73273,     0.73373,     0.73473,     0.73574,     0.73674,     0.73774,     0.73874,     0.73974,     0.74074,     0.74174,     0.74274,     0.74374,\n",
              "           0.74474,     0.74575,     0.74675,     0.74775,     0.74875,     0.74975,     0.75075,     0.75175,     0.75275,     0.75375,     0.75475,     0.75576,     0.75676,     0.75776,     0.75876,     0.75976,     0.76076,     0.76176,     0.76276,     0.76376,     0.76476,     0.76577,     0.76677,     0.76777,\n",
              "           0.76877,     0.76977,     0.77077,     0.77177,     0.77277,     0.77377,     0.77477,     0.77578,     0.77678,     0.77778,     0.77878,     0.77978,     0.78078,     0.78178,     0.78278,     0.78378,     0.78478,     0.78579,     0.78679,     0.78779,     0.78879,     0.78979,     0.79079,     0.79179,\n",
              "           0.79279,     0.79379,     0.79479,      0.7958,      0.7968,      0.7978,      0.7988,      0.7998,      0.8008,      0.8018,      0.8028,      0.8038,      0.8048,     0.80581,     0.80681,     0.80781,     0.80881,     0.80981,     0.81081,     0.81181,     0.81281,     0.81381,     0.81481,     0.81582,\n",
              "           0.81682,     0.81782,     0.81882,     0.81982,     0.82082,     0.82182,     0.82282,     0.82382,     0.82482,     0.82583,     0.82683,     0.82783,     0.82883,     0.82983,     0.83083,     0.83183,     0.83283,     0.83383,     0.83483,     0.83584,     0.83684,     0.83784,     0.83884,     0.83984,\n",
              "           0.84084,     0.84184,     0.84284,     0.84384,     0.84484,     0.84585,     0.84685,     0.84785,     0.84885,     0.84985,     0.85085,     0.85185,     0.85285,     0.85385,     0.85485,     0.85586,     0.85686,     0.85786,     0.85886,     0.85986,     0.86086,     0.86186,     0.86286,     0.86386,\n",
              "           0.86486,     0.86587,     0.86687,     0.86787,     0.86887,     0.86987,     0.87087,     0.87187,     0.87287,     0.87387,     0.87487,     0.87588,     0.87688,     0.87788,     0.87888,     0.87988,     0.88088,     0.88188,     0.88288,     0.88388,     0.88488,     0.88589,     0.88689,     0.88789,\n",
              "           0.88889,     0.88989,     0.89089,     0.89189,     0.89289,     0.89389,     0.89489,      0.8959,      0.8969,      0.8979,      0.8989,      0.8999,      0.9009,      0.9019,      0.9029,      0.9039,      0.9049,     0.90591,     0.90691,     0.90791,     0.90891,     0.90991,     0.91091,     0.91191,\n",
              "           0.91291,     0.91391,     0.91491,     0.91592,     0.91692,     0.91792,     0.91892,     0.91992,     0.92092,     0.92192,     0.92292,     0.92392,     0.92492,     0.92593,     0.92693,     0.92793,     0.92893,     0.92993,     0.93093,     0.93193,     0.93293,     0.93393,     0.93493,     0.93594,\n",
              "           0.93694,     0.93794,     0.93894,     0.93994,     0.94094,     0.94194,     0.94294,     0.94394,     0.94494,     0.94595,     0.94695,     0.94795,     0.94895,     0.94995,     0.95095,     0.95195,     0.95295,     0.95395,     0.95495,     0.95596,     0.95696,     0.95796,     0.95896,     0.95996,\n",
              "           0.96096,     0.96196,     0.96296,     0.96396,     0.96496,     0.96597,     0.96697,     0.96797,     0.96897,     0.96997,     0.97097,     0.97197,     0.97297,     0.97397,     0.97497,     0.97598,     0.97698,     0.97798,     0.97898,     0.97998,     0.98098,     0.98198,     0.98298,     0.98398,\n",
              "           0.98498,     0.98599,     0.98699,     0.98799,     0.98899,     0.98999,     0.99099,     0.99199,     0.99299,     0.99399,     0.99499,       0.996,       0.997,       0.998,       0.999,           1]), array([[    0.28249,     0.28249,     0.37983,     0.44655,     0.48936,      0.5212,     0.54787,     0.57056,      0.5926,     0.61184,     0.62474,     0.63491,     0.64538,     0.65485,     0.66066,     0.67012,     0.67834,     0.68637,     0.69228,     0.69704,     0.70262,     0.70699,     0.71107,\n",
              "            0.71432,     0.71723,     0.72084,     0.72506,     0.72924,      0.7321,      0.7338,     0.73666,     0.74013,     0.74215,     0.74573,     0.74817,     0.74967,     0.75165,     0.75642,     0.75814,     0.75914,     0.76009,     0.76306,     0.76511,     0.76712,     0.77022,     0.77149,\n",
              "            0.77465,     0.77519,      0.7774,     0.77922,     0.78139,     0.78281,     0.78399,     0.78559,     0.78675,     0.78788,      0.7897,     0.79212,     0.79479,     0.79864,     0.80019,     0.80208,     0.80362,     0.80511,     0.80651,     0.80786,     0.80835,     0.80822,     0.80896,\n",
              "            0.81054,     0.81183,     0.81224,     0.81325,     0.81664,     0.81778,     0.81853,     0.81887,     0.82025,     0.82094,     0.82127,     0.82165,     0.82208,     0.82303,     0.82439,     0.82481,     0.82535,     0.82589,     0.82629,     0.82711,      0.8276,       0.828,     0.82878,\n",
              "            0.82937,     0.82963,     0.82988,     0.83104,     0.83221,     0.83403,     0.83437,     0.83471,     0.83507,     0.83543,     0.83619,      0.8363,     0.83654,     0.83677,     0.83716,     0.83768,     0.83797,     0.83827,     0.83938,     0.84008,     0.84039,     0.84069,     0.84135,\n",
              "            0.84193,      0.8424,     0.84276,     0.84312,     0.84401,     0.84424,     0.84448,     0.84471,     0.84574,     0.84663,     0.84713,     0.84728,     0.84743,     0.84757,     0.84772,     0.84787,     0.84861,      0.8489,     0.84915,     0.84939,     0.84972,      0.8501,     0.85061,\n",
              "            0.85117,     0.85158,     0.85229,     0.85362,     0.85406,     0.85439,     0.85457,     0.85475,     0.85494,      0.8552,     0.85616,     0.85658,     0.85781,     0.85822,     0.85886,     0.86004,      0.8606,     0.86128,     0.86247,      0.8628,     0.86312,     0.86408,     0.86424,\n",
              "            0.86437,      0.8645,     0.86462,     0.86475,     0.86488,     0.86538,      0.8663,     0.86748,     0.86759,      0.8677,      0.8678,     0.86791,     0.86802,     0.86812,     0.86823,     0.86846,     0.86876,     0.86906,     0.86987,     0.86993,     0.87011,     0.87029,     0.87047,\n",
              "            0.87065,     0.87101,     0.87138,     0.87224,      0.8727,     0.87312,     0.87338,     0.87363,     0.87389,     0.87383,       0.874,     0.87447,     0.87469,     0.87477,     0.87484,     0.87492,       0.875,     0.87508,     0.87516,     0.87524,     0.87532,      0.8754,     0.87548,\n",
              "            0.87591,     0.87639,     0.87703,      0.8783,     0.87863,     0.87902,     0.87966,     0.87995,     0.88017,     0.88039,     0.88061,     0.88244,     0.88289,     0.88332,     0.88374,     0.88497,     0.88506,     0.88516,     0.88525,     0.88534,     0.88543,     0.88552,     0.88561,\n",
              "             0.8857,      0.8858,     0.88589,     0.88599,     0.88608,     0.88618,     0.88627,     0.88637,     0.88646,     0.88656,     0.88665,     0.88691,      0.8873,     0.88756,     0.88753,      0.8875,     0.88747,     0.88826,     0.88841,     0.88848,     0.88856,     0.88864,     0.88871,\n",
              "            0.88879,     0.88886,     0.88894,     0.88901,     0.88909,     0.88916,     0.88935,     0.88996,     0.89024,     0.89043,     0.89062,     0.89082,     0.89099,     0.89109,     0.89118,     0.89128,     0.89137,     0.89147,     0.89157,     0.89166,     0.89176,     0.89185,     0.89199,\n",
              "            0.89214,     0.89228,     0.89243,     0.89257,     0.89272,     0.89273,     0.89269,     0.89266,     0.89262,     0.89257,     0.89262,     0.89314,      0.8937,     0.89431,     0.89459,     0.89488,     0.89516,     0.89595,     0.89672,     0.89824,     0.89894,     0.89931,     0.89968,\n",
              "            0.90005,     0.90042,      0.9008,     0.90117,     0.90153,     0.90179,     0.90206,     0.90233,     0.90283,     0.90336,     0.90354,     0.90371,     0.90389,     0.90407,     0.90428,     0.90481,      0.9052,     0.90536,     0.90552,     0.90567,     0.90583,     0.90599,      0.9062,\n",
              "            0.90647,     0.90674,       0.907,     0.90717,     0.90735,     0.90753,     0.90771,     0.90789,     0.90823,     0.90857,     0.90884,     0.90892,       0.909,     0.90909,     0.90917,     0.90925,     0.90933,     0.90941,      0.9095,     0.90958,     0.90966,     0.90972,     0.90974,\n",
              "             0.9099,     0.91005,     0.91021,     0.91037,     0.91053,     0.91067,      0.9108,     0.91093,     0.91106,     0.91119,     0.91132,     0.91145,     0.91173,     0.91207,     0.91242,     0.91296,     0.91335,     0.91335,     0.91334,     0.91334,     0.91334,     0.91333,     0.91333,\n",
              "            0.91332,     0.91332,     0.91331,     0.91331,     0.91331,      0.9133,      0.9133,     0.91329,     0.91329,     0.91329,     0.91328,     0.91328,     0.91327,     0.91327,     0.91332,     0.91348,     0.91365,     0.91381,     0.91398,     0.91415,     0.91419,     0.91417,     0.91415,\n",
              "            0.91413,     0.91411,     0.91409,     0.91408,     0.91406,     0.91405,     0.91403,     0.91411,     0.91432,     0.91452,     0.91472,     0.91492,     0.91535,     0.91583,     0.91582,     0.91579,     0.91578,     0.91576,     0.91574,     0.91585,     0.91633,     0.91666,     0.91666,\n",
              "            0.91665,     0.91664,     0.91663,     0.91663,     0.91662,     0.91661,      0.9166,      0.9166,     0.91659,      0.9166,     0.91684,     0.91709,     0.91733,     0.91852,     0.91876,       0.919,     0.91925,     0.92039,     0.92044,      0.9205,     0.92055,     0.92061,     0.92066,\n",
              "            0.92072,     0.92077,     0.92083,     0.92088,     0.92094,     0.92099,     0.92105,      0.9211,     0.92116,     0.92121,     0.92127,     0.92132,     0.92124,     0.92134,     0.92144,     0.92154,     0.92164,     0.92174,     0.92184,     0.92195,     0.92205,     0.92215,     0.92224,\n",
              "            0.92233,     0.92242,     0.92251,      0.9226,     0.92269,     0.92278,     0.92287,     0.92296,     0.92304,     0.92313,     0.92389,     0.92415,      0.9242,     0.92425,     0.92429,     0.92434,     0.92439,     0.92443,     0.92448,     0.92453,     0.92457,     0.92462,     0.92467,\n",
              "            0.92472,     0.92476,     0.92481,     0.92486,      0.9249,     0.92495,       0.925,     0.92504,     0.92513,     0.92533,     0.92553,     0.92573,     0.92592,     0.92604,     0.92603,     0.92603,     0.92602,     0.92601,     0.92601,       0.926,       0.926,     0.92599,     0.92598,\n",
              "            0.92598,     0.92597,     0.92597,     0.92591,     0.92599,     0.92613,     0.92628,     0.92642,     0.92656,      0.9267,     0.92684,     0.92701,     0.92717,     0.92734,      0.9275,     0.92767,     0.92782,     0.92778,     0.92872,     0.92871,      0.9287,     0.92869,     0.92868,\n",
              "            0.92867,     0.92866,     0.92865,     0.92871,     0.92891,     0.92911,     0.92931,     0.92951,     0.92959,        0.93,     0.93065,      0.9309,     0.93115,      0.9314,      0.9316,     0.93177,     0.93194,     0.93211,     0.93227,     0.93244,     0.93322,     0.93355,     0.93364,\n",
              "            0.93374,     0.93383,     0.93393,     0.93403,     0.93412,     0.93422,     0.93432,     0.93441,     0.93445,     0.93443,     0.93442,      0.9344,       0.935,     0.93534,     0.93542,     0.93559,     0.93576,     0.93593,      0.9361,     0.93627,     0.93637,     0.93644,     0.93652,\n",
              "            0.93659,     0.93667,     0.93674,     0.93682,     0.93689,     0.93697,     0.93705,     0.93712,      0.9372,     0.93727,     0.93732,     0.93736,      0.9374,     0.93744,     0.93748,     0.93751,     0.93755,     0.93759,     0.93763,     0.93767,      0.9377,     0.93774,     0.93778,\n",
              "            0.93782,     0.93785,     0.93789,     0.93793,     0.93797,     0.93801,     0.93804,     0.93808,     0.93812,     0.93816,      0.9382,     0.93823,     0.93827,     0.93828,     0.93834,     0.93868,     0.93902,     0.93932,     0.93955,     0.93978,        0.94,     0.94023,     0.94125,\n",
              "            0.94225,     0.94222,      0.9422,     0.94211,     0.94204,     0.94201,     0.94217,     0.94252,     0.94286,     0.94293,     0.94291,     0.94282,     0.94281,      0.9428,     0.94279,     0.94278,     0.94277,     0.94273,      0.9427,     0.94305,      0.9434,     0.94372,     0.94371,\n",
              "             0.9437,     0.94369,     0.94368,     0.94367,     0.94366,     0.94366,     0.94419,     0.94471,     0.94524,     0.94555,     0.94576,     0.94602,     0.94629,     0.94655,     0.94723,     0.94805,     0.94885,     0.94938,     0.94955,     0.94953,     0.94957,     0.95049,     0.95047,\n",
              "            0.95045,     0.95082,     0.95135,     0.95137,     0.95158,     0.95246,      0.9529,     0.95333,     0.95334,     0.95329,     0.95326,     0.95324,     0.95422,     0.95526,     0.95521,     0.95517,     0.95539,     0.95561,     0.95583,     0.95605,     0.95618,     0.95617,     0.95616,\n",
              "            0.95614,     0.95613,     0.95609,     0.95605,     0.95597,     0.95594,     0.95586,     0.95583,      0.9558,     0.95577,     0.95573,     0.95571,     0.95672,     0.95668,     0.95774,     0.95771,     0.95785,     0.95876,     0.95872,     0.95864,     0.95857,     0.95856,     0.95854,\n",
              "            0.95853,      0.9585,     0.95842,     0.95838,     0.95836,     0.95833,      0.9583,     0.95828,     0.95826,     0.95824,     0.95808,     0.95806,     0.95911,      0.9589,     0.95884,     0.95876,     0.95872,     0.95869,      0.9586,     0.95848,     0.95846,     0.95845,     0.95843,\n",
              "            0.95857,     0.95904,     0.95951,     0.95945,     0.95945,     0.96057,     0.96056,     0.96055,     0.96054,     0.96053,     0.96074,     0.96113,     0.96152,      0.9616,     0.96153,      0.9615,     0.96136,     0.96125,     0.96122,     0.96114,     0.96079,      0.9619,     0.96189,\n",
              "            0.96181,     0.96163,     0.96153,     0.96151,     0.96144,     0.96125,     0.96121,     0.96107,     0.96095,     0.96092,     0.96085,     0.96083,     0.96081,     0.96078,     0.96064,      0.9606,     0.96059,     0.96057,     0.96052,     0.96046,     0.96041,     0.96032,     0.96075,\n",
              "            0.96154,      0.9615,     0.96149,     0.96362,     0.96387,     0.96467,     0.96463,      0.9645,     0.96437,     0.96434,     0.96425,     0.96416,      0.9657,     0.96658,     0.96792,     0.96784,     0.96781,     0.96778,     0.96777,     0.96776,     0.96775,     0.96843,     0.96881,\n",
              "             0.9701,     0.97013,     0.97123,     0.97115,     0.97112,     0.97098,     0.97086,     0.97081,     0.97165,     0.97197,     0.97193,     0.97176,     0.97169,     0.97159,     0.97284,     0.97277,     0.97413,     0.97408,     0.97391,     0.97378,     0.97514,      0.9751,     0.97496,\n",
              "             0.9748,      0.9761,     0.97596,     0.97825,     0.98001,      0.9802,     0.98157,     0.98143,     0.98137,     0.98281,     0.98279,     0.98273,     0.98269,     0.98415,     0.98411,     0.98397,     0.98389,     0.98534,     0.98524,     0.98514,     0.98499,     0.98486,     0.98473,\n",
              "            0.98457,     0.98449,     0.98444,     0.98433,     0.98417,     0.98582,     0.98567,     0.98556,     0.98548,     0.98537,     0.98532,     0.98699,     0.98691,     0.98679,     0.98653,     0.98645,     0.98634,     0.98621,     0.98806,     0.98791,     0.98781,     0.98761,     0.98748,\n",
              "            0.98727,     0.98719,     0.98702,     0.98693,     0.98891,     0.98889,     0.98876,     0.98834,     0.98809,     0.98789,     0.99004,     0.98989,     0.98965,     0.98952,     0.98921,     0.98906,     0.99154,     0.99129,     0.99105,     0.99075,     0.99051,     0.99014,     0.99322,\n",
              "            0.99281,     0.99265,      0.9924,       0.992,     0.99578,     0.99555,     0.99519,     0.99497,     0.99473,     0.99455,      0.9944,     0.99417,     0.99381,     0.99357,     0.99323,     0.99288,     0.99238,           1,           1,           1,           1,           1,           1,\n",
              "                  1,           1,           1,           1,           1,           1,           1,           1,           1,           1,           1,           1,           1,           1,           1,           1,           1,           1,           1,           1,           1,           1,           1,\n",
              "                  1,           1,           1,           1,           1,           1,           1,           1,           1,           1,           1,           1,           1,           1,           1,           1,           1,           1,           1,           1,           1,           1,           1,\n",
              "                  1,           1,           1,           1,           1,           1,           1,           1,           1,           1,           1,           1,           1,           1,           1,           1,           1,           1,           1,           1,           1,           1,           1,\n",
              "                  1,           1,           1,           1,           1,           1,           1,           1,           1,           1,           1]]), 'Confidence', 'Precision'], [array([          0,    0.001001,    0.002002,    0.003003,    0.004004,    0.005005,    0.006006,    0.007007,    0.008008,    0.009009,     0.01001,    0.011011,    0.012012,    0.013013,    0.014014,    0.015015,    0.016016,    0.017017,    0.018018,    0.019019,     0.02002,    0.021021,    0.022022,    0.023023,\n",
              "          0.024024,    0.025025,    0.026026,    0.027027,    0.028028,    0.029029,     0.03003,    0.031031,    0.032032,    0.033033,    0.034034,    0.035035,    0.036036,    0.037037,    0.038038,    0.039039,     0.04004,    0.041041,    0.042042,    0.043043,    0.044044,    0.045045,    0.046046,    0.047047,\n",
              "          0.048048,    0.049049,     0.05005,    0.051051,    0.052052,    0.053053,    0.054054,    0.055055,    0.056056,    0.057057,    0.058058,    0.059059,     0.06006,    0.061061,    0.062062,    0.063063,    0.064064,    0.065065,    0.066066,    0.067067,    0.068068,    0.069069,     0.07007,    0.071071,\n",
              "          0.072072,    0.073073,    0.074074,    0.075075,    0.076076,    0.077077,    0.078078,    0.079079,     0.08008,    0.081081,    0.082082,    0.083083,    0.084084,    0.085085,    0.086086,    0.087087,    0.088088,    0.089089,     0.09009,    0.091091,    0.092092,    0.093093,    0.094094,    0.095095,\n",
              "          0.096096,    0.097097,    0.098098,    0.099099,      0.1001,      0.1011,      0.1021,      0.1031,      0.1041,     0.10511,     0.10611,     0.10711,     0.10811,     0.10911,     0.11011,     0.11111,     0.11211,     0.11311,     0.11411,     0.11512,     0.11612,     0.11712,     0.11812,     0.11912,\n",
              "           0.12012,     0.12112,     0.12212,     0.12312,     0.12412,     0.12513,     0.12613,     0.12713,     0.12813,     0.12913,     0.13013,     0.13113,     0.13213,     0.13313,     0.13413,     0.13514,     0.13614,     0.13714,     0.13814,     0.13914,     0.14014,     0.14114,     0.14214,     0.14314,\n",
              "           0.14414,     0.14515,     0.14615,     0.14715,     0.14815,     0.14915,     0.15015,     0.15115,     0.15215,     0.15315,     0.15415,     0.15516,     0.15616,     0.15716,     0.15816,     0.15916,     0.16016,     0.16116,     0.16216,     0.16316,     0.16416,     0.16517,     0.16617,     0.16717,\n",
              "           0.16817,     0.16917,     0.17017,     0.17117,     0.17217,     0.17317,     0.17417,     0.17518,     0.17618,     0.17718,     0.17818,     0.17918,     0.18018,     0.18118,     0.18218,     0.18318,     0.18418,     0.18519,     0.18619,     0.18719,     0.18819,     0.18919,     0.19019,     0.19119,\n",
              "           0.19219,     0.19319,     0.19419,      0.1952,      0.1962,      0.1972,      0.1982,      0.1992,      0.2002,      0.2012,      0.2022,      0.2032,      0.2042,     0.20521,     0.20621,     0.20721,     0.20821,     0.20921,     0.21021,     0.21121,     0.21221,     0.21321,     0.21421,     0.21522,\n",
              "           0.21622,     0.21722,     0.21822,     0.21922,     0.22022,     0.22122,     0.22222,     0.22322,     0.22422,     0.22523,     0.22623,     0.22723,     0.22823,     0.22923,     0.23023,     0.23123,     0.23223,     0.23323,     0.23423,     0.23524,     0.23624,     0.23724,     0.23824,     0.23924,\n",
              "           0.24024,     0.24124,     0.24224,     0.24324,     0.24424,     0.24525,     0.24625,     0.24725,     0.24825,     0.24925,     0.25025,     0.25125,     0.25225,     0.25325,     0.25425,     0.25526,     0.25626,     0.25726,     0.25826,     0.25926,     0.26026,     0.26126,     0.26226,     0.26326,\n",
              "           0.26426,     0.26527,     0.26627,     0.26727,     0.26827,     0.26927,     0.27027,     0.27127,     0.27227,     0.27327,     0.27427,     0.27528,     0.27628,     0.27728,     0.27828,     0.27928,     0.28028,     0.28128,     0.28228,     0.28328,     0.28428,     0.28529,     0.28629,     0.28729,\n",
              "           0.28829,     0.28929,     0.29029,     0.29129,     0.29229,     0.29329,     0.29429,      0.2953,      0.2963,      0.2973,      0.2983,      0.2993,      0.3003,      0.3013,      0.3023,      0.3033,      0.3043,     0.30531,     0.30631,     0.30731,     0.30831,     0.30931,     0.31031,     0.31131,\n",
              "           0.31231,     0.31331,     0.31431,     0.31532,     0.31632,     0.31732,     0.31832,     0.31932,     0.32032,     0.32132,     0.32232,     0.32332,     0.32432,     0.32533,     0.32633,     0.32733,     0.32833,     0.32933,     0.33033,     0.33133,     0.33233,     0.33333,     0.33433,     0.33534,\n",
              "           0.33634,     0.33734,     0.33834,     0.33934,     0.34034,     0.34134,     0.34234,     0.34334,     0.34434,     0.34535,     0.34635,     0.34735,     0.34835,     0.34935,     0.35035,     0.35135,     0.35235,     0.35335,     0.35435,     0.35536,     0.35636,     0.35736,     0.35836,     0.35936,\n",
              "           0.36036,     0.36136,     0.36236,     0.36336,     0.36436,     0.36537,     0.36637,     0.36737,     0.36837,     0.36937,     0.37037,     0.37137,     0.37237,     0.37337,     0.37437,     0.37538,     0.37638,     0.37738,     0.37838,     0.37938,     0.38038,     0.38138,     0.38238,     0.38338,\n",
              "           0.38438,     0.38539,     0.38639,     0.38739,     0.38839,     0.38939,     0.39039,     0.39139,     0.39239,     0.39339,     0.39439,      0.3954,      0.3964,      0.3974,      0.3984,      0.3994,      0.4004,      0.4014,      0.4024,      0.4034,      0.4044,     0.40541,     0.40641,     0.40741,\n",
              "           0.40841,     0.40941,     0.41041,     0.41141,     0.41241,     0.41341,     0.41441,     0.41542,     0.41642,     0.41742,     0.41842,     0.41942,     0.42042,     0.42142,     0.42242,     0.42342,     0.42442,     0.42543,     0.42643,     0.42743,     0.42843,     0.42943,     0.43043,     0.43143,\n",
              "           0.43243,     0.43343,     0.43443,     0.43544,     0.43644,     0.43744,     0.43844,     0.43944,     0.44044,     0.44144,     0.44244,     0.44344,     0.44444,     0.44545,     0.44645,     0.44745,     0.44845,     0.44945,     0.45045,     0.45145,     0.45245,     0.45345,     0.45445,     0.45546,\n",
              "           0.45646,     0.45746,     0.45846,     0.45946,     0.46046,     0.46146,     0.46246,     0.46346,     0.46446,     0.46547,     0.46647,     0.46747,     0.46847,     0.46947,     0.47047,     0.47147,     0.47247,     0.47347,     0.47447,     0.47548,     0.47648,     0.47748,     0.47848,     0.47948,\n",
              "           0.48048,     0.48148,     0.48248,     0.48348,     0.48448,     0.48549,     0.48649,     0.48749,     0.48849,     0.48949,     0.49049,     0.49149,     0.49249,     0.49349,     0.49449,      0.4955,      0.4965,      0.4975,      0.4985,      0.4995,      0.5005,      0.5015,      0.5025,      0.5035,\n",
              "            0.5045,     0.50551,     0.50651,     0.50751,     0.50851,     0.50951,     0.51051,     0.51151,     0.51251,     0.51351,     0.51451,     0.51552,     0.51652,     0.51752,     0.51852,     0.51952,     0.52052,     0.52152,     0.52252,     0.52352,     0.52452,     0.52553,     0.52653,     0.52753,\n",
              "           0.52853,     0.52953,     0.53053,     0.53153,     0.53253,     0.53353,     0.53453,     0.53554,     0.53654,     0.53754,     0.53854,     0.53954,     0.54054,     0.54154,     0.54254,     0.54354,     0.54454,     0.54555,     0.54655,     0.54755,     0.54855,     0.54955,     0.55055,     0.55155,\n",
              "           0.55255,     0.55355,     0.55455,     0.55556,     0.55656,     0.55756,     0.55856,     0.55956,     0.56056,     0.56156,     0.56256,     0.56356,     0.56456,     0.56557,     0.56657,     0.56757,     0.56857,     0.56957,     0.57057,     0.57157,     0.57257,     0.57357,     0.57457,     0.57558,\n",
              "           0.57658,     0.57758,     0.57858,     0.57958,     0.58058,     0.58158,     0.58258,     0.58358,     0.58458,     0.58559,     0.58659,     0.58759,     0.58859,     0.58959,     0.59059,     0.59159,     0.59259,     0.59359,     0.59459,      0.5956,      0.5966,      0.5976,      0.5986,      0.5996,\n",
              "            0.6006,      0.6016,      0.6026,      0.6036,      0.6046,     0.60561,     0.60661,     0.60761,     0.60861,     0.60961,     0.61061,     0.61161,     0.61261,     0.61361,     0.61461,     0.61562,     0.61662,     0.61762,     0.61862,     0.61962,     0.62062,     0.62162,     0.62262,     0.62362,\n",
              "           0.62462,     0.62563,     0.62663,     0.62763,     0.62863,     0.62963,     0.63063,     0.63163,     0.63263,     0.63363,     0.63463,     0.63564,     0.63664,     0.63764,     0.63864,     0.63964,     0.64064,     0.64164,     0.64264,     0.64364,     0.64464,     0.64565,     0.64665,     0.64765,\n",
              "           0.64865,     0.64965,     0.65065,     0.65165,     0.65265,     0.65365,     0.65465,     0.65566,     0.65666,     0.65766,     0.65866,     0.65966,     0.66066,     0.66166,     0.66266,     0.66366,     0.66466,     0.66567,     0.66667,     0.66767,     0.66867,     0.66967,     0.67067,     0.67167,\n",
              "           0.67267,     0.67367,     0.67467,     0.67568,     0.67668,     0.67768,     0.67868,     0.67968,     0.68068,     0.68168,     0.68268,     0.68368,     0.68468,     0.68569,     0.68669,     0.68769,     0.68869,     0.68969,     0.69069,     0.69169,     0.69269,     0.69369,     0.69469,      0.6957,\n",
              "            0.6967,      0.6977,      0.6987,      0.6997,      0.7007,      0.7017,      0.7027,      0.7037,      0.7047,     0.70571,     0.70671,     0.70771,     0.70871,     0.70971,     0.71071,     0.71171,     0.71271,     0.71371,     0.71471,     0.71572,     0.71672,     0.71772,     0.71872,     0.71972,\n",
              "           0.72072,     0.72172,     0.72272,     0.72372,     0.72472,     0.72573,     0.72673,     0.72773,     0.72873,     0.72973,     0.73073,     0.73173,     0.73273,     0.73373,     0.73473,     0.73574,     0.73674,     0.73774,     0.73874,     0.73974,     0.74074,     0.74174,     0.74274,     0.74374,\n",
              "           0.74474,     0.74575,     0.74675,     0.74775,     0.74875,     0.74975,     0.75075,     0.75175,     0.75275,     0.75375,     0.75475,     0.75576,     0.75676,     0.75776,     0.75876,     0.75976,     0.76076,     0.76176,     0.76276,     0.76376,     0.76476,     0.76577,     0.76677,     0.76777,\n",
              "           0.76877,     0.76977,     0.77077,     0.77177,     0.77277,     0.77377,     0.77477,     0.77578,     0.77678,     0.77778,     0.77878,     0.77978,     0.78078,     0.78178,     0.78278,     0.78378,     0.78478,     0.78579,     0.78679,     0.78779,     0.78879,     0.78979,     0.79079,     0.79179,\n",
              "           0.79279,     0.79379,     0.79479,      0.7958,      0.7968,      0.7978,      0.7988,      0.7998,      0.8008,      0.8018,      0.8028,      0.8038,      0.8048,     0.80581,     0.80681,     0.80781,     0.80881,     0.80981,     0.81081,     0.81181,     0.81281,     0.81381,     0.81481,     0.81582,\n",
              "           0.81682,     0.81782,     0.81882,     0.81982,     0.82082,     0.82182,     0.82282,     0.82382,     0.82482,     0.82583,     0.82683,     0.82783,     0.82883,     0.82983,     0.83083,     0.83183,     0.83283,     0.83383,     0.83483,     0.83584,     0.83684,     0.83784,     0.83884,     0.83984,\n",
              "           0.84084,     0.84184,     0.84284,     0.84384,     0.84484,     0.84585,     0.84685,     0.84785,     0.84885,     0.84985,     0.85085,     0.85185,     0.85285,     0.85385,     0.85485,     0.85586,     0.85686,     0.85786,     0.85886,     0.85986,     0.86086,     0.86186,     0.86286,     0.86386,\n",
              "           0.86486,     0.86587,     0.86687,     0.86787,     0.86887,     0.86987,     0.87087,     0.87187,     0.87287,     0.87387,     0.87487,     0.87588,     0.87688,     0.87788,     0.87888,     0.87988,     0.88088,     0.88188,     0.88288,     0.88388,     0.88488,     0.88589,     0.88689,     0.88789,\n",
              "           0.88889,     0.88989,     0.89089,     0.89189,     0.89289,     0.89389,     0.89489,      0.8959,      0.8969,      0.8979,      0.8989,      0.8999,      0.9009,      0.9019,      0.9029,      0.9039,      0.9049,     0.90591,     0.90691,     0.90791,     0.90891,     0.90991,     0.91091,     0.91191,\n",
              "           0.91291,     0.91391,     0.91491,     0.91592,     0.91692,     0.91792,     0.91892,     0.91992,     0.92092,     0.92192,     0.92292,     0.92392,     0.92492,     0.92593,     0.92693,     0.92793,     0.92893,     0.92993,     0.93093,     0.93193,     0.93293,     0.93393,     0.93493,     0.93594,\n",
              "           0.93694,     0.93794,     0.93894,     0.93994,     0.94094,     0.94194,     0.94294,     0.94394,     0.94494,     0.94595,     0.94695,     0.94795,     0.94895,     0.94995,     0.95095,     0.95195,     0.95295,     0.95395,     0.95495,     0.95596,     0.95696,     0.95796,     0.95896,     0.95996,\n",
              "           0.96096,     0.96196,     0.96296,     0.96396,     0.96496,     0.96597,     0.96697,     0.96797,     0.96897,     0.96997,     0.97097,     0.97197,     0.97297,     0.97397,     0.97497,     0.97598,     0.97698,     0.97798,     0.97898,     0.97998,     0.98098,     0.98198,     0.98298,     0.98398,\n",
              "           0.98498,     0.98599,     0.98699,     0.98799,     0.98899,     0.98999,     0.99099,     0.99199,     0.99299,     0.99399,     0.99499,       0.996,       0.997,       0.998,       0.999,           1]), array([[    0.99239,     0.99239,      0.9913,     0.99022,     0.99022,     0.99022,     0.98913,     0.98804,     0.98804,     0.98804,     0.98804,     0.98804,     0.98804,     0.98804,     0.98587,     0.98587,     0.98587,     0.98587,     0.98587,     0.98587,     0.98587,     0.98587,     0.98587,\n",
              "            0.98587,     0.98587,     0.98587,     0.98587,     0.98587,     0.98587,     0.98587,     0.98587,     0.98587,     0.98587,     0.98587,     0.98587,     0.98587,     0.98587,     0.98587,     0.98587,     0.98587,     0.98587,     0.98587,     0.98587,     0.98587,     0.98587,     0.98587,\n",
              "            0.98587,     0.98587,     0.98587,     0.98587,     0.98587,     0.98587,     0.98587,     0.98587,     0.98587,     0.98587,     0.98587,     0.98587,     0.98587,     0.98587,     0.98587,     0.98587,     0.98587,     0.98587,     0.98587,     0.98587,      0.9857,     0.98489,     0.98478,\n",
              "            0.98478,     0.98478,     0.98478,     0.98478,     0.98478,     0.98478,     0.98478,     0.98478,     0.98478,     0.98478,     0.98478,     0.98478,     0.98478,      0.9837,      0.9837,      0.9837,      0.9837,      0.9837,      0.9837,      0.9837,      0.9837,      0.9837,      0.9837,\n",
              "            0.98261,     0.98261,     0.98261,     0.98261,     0.98261,     0.98261,     0.98261,     0.98261,     0.98261,     0.98261,     0.98209,     0.98152,     0.98152,     0.98152,     0.98152,     0.98152,     0.98152,     0.98152,     0.98152,     0.98152,     0.98152,     0.98152,     0.98152,\n",
              "            0.98152,     0.98152,     0.98152,     0.98152,     0.98152,     0.98152,     0.98152,     0.98152,     0.98152,     0.98152,     0.98152,     0.98152,     0.98152,     0.98152,     0.98152,     0.98152,     0.98152,     0.98152,     0.98152,     0.98152,     0.98152,     0.98152,     0.98152,\n",
              "            0.98152,     0.98152,     0.98152,     0.98152,     0.98152,     0.98152,     0.98152,     0.98152,     0.98152,     0.98152,     0.98152,     0.98152,     0.98152,     0.98152,     0.98152,     0.98152,     0.98152,     0.98152,     0.98152,     0.98152,     0.98152,     0.98152,     0.98152,\n",
              "            0.98152,     0.98152,     0.98152,     0.98152,     0.98152,     0.98152,     0.98152,     0.98152,     0.98152,     0.98152,     0.98152,     0.98152,     0.98152,     0.98152,     0.98152,     0.98152,     0.98152,     0.98152,     0.98093,     0.98043,     0.98043,     0.98043,     0.98043,\n",
              "            0.98043,     0.98043,     0.98043,     0.97935,     0.97935,     0.97935,     0.97935,     0.97935,     0.97935,     0.97866,     0.97826,     0.97826,     0.97826,     0.97826,     0.97826,     0.97826,     0.97826,     0.97826,     0.97826,     0.97826,     0.97826,     0.97826,     0.97826,\n",
              "            0.97826,     0.97826,     0.97826,     0.97826,     0.97826,     0.97826,     0.97826,     0.97826,     0.97826,     0.97826,     0.97826,     0.97826,     0.97826,     0.97826,     0.97826,     0.97826,     0.97826,     0.97826,     0.97826,     0.97826,     0.97826,     0.97826,     0.97826,\n",
              "            0.97826,     0.97826,     0.97826,     0.97826,     0.97826,     0.97826,     0.97826,     0.97826,     0.97826,     0.97826,     0.97826,     0.97826,     0.97826,     0.97816,     0.97787,     0.97757,     0.97727,     0.97717,     0.97717,     0.97717,     0.97717,     0.97717,     0.97717,\n",
              "            0.97717,     0.97717,     0.97717,     0.97717,     0.97717,     0.97717,     0.97717,     0.97717,     0.97717,     0.97717,     0.97717,     0.97717,     0.97717,     0.97717,     0.97717,     0.97717,     0.97717,     0.97717,     0.97717,     0.97717,     0.97717,     0.97717,     0.97717,\n",
              "            0.97717,     0.97717,     0.97717,     0.97717,     0.97717,     0.97691,     0.97657,     0.97623,     0.97582,     0.97538,       0.975,       0.975,       0.975,       0.975,       0.975,       0.975,       0.975,       0.975,       0.975,       0.975,       0.975,       0.975,       0.975,\n",
              "              0.975,       0.975,       0.975,       0.975,       0.975,       0.975,       0.975,       0.975,       0.975,       0.975,       0.975,       0.975,       0.975,       0.975,       0.975,       0.975,       0.975,       0.975,       0.975,       0.975,       0.975,       0.975,       0.975,\n",
              "              0.975,       0.975,       0.975,       0.975,       0.975,       0.975,       0.975,       0.975,       0.975,       0.975,       0.975,       0.975,       0.975,       0.975,       0.975,       0.975,       0.975,       0.975,       0.975,       0.975,       0.975,     0.97482,     0.97391,\n",
              "            0.97391,     0.97391,     0.97391,     0.97391,     0.97391,     0.97391,     0.97391,     0.97391,     0.97391,     0.97391,     0.97391,     0.97391,     0.97391,     0.97391,     0.97391,     0.97391,      0.9739,     0.97385,      0.9738,     0.97374,     0.97369,     0.97364,     0.97359,\n",
              "            0.97354,     0.97348,     0.97343,     0.97338,     0.97333,     0.97328,     0.97323,     0.97317,     0.97312,     0.97307,     0.97302,     0.97297,     0.97291,     0.97286,     0.97283,     0.97283,     0.97283,     0.97283,     0.97283,     0.97283,     0.97266,     0.97243,     0.97219,\n",
              "            0.97196,     0.97173,     0.97153,     0.97134,     0.97115,     0.97095,     0.97076,     0.97065,     0.97065,     0.97065,     0.97065,     0.97065,     0.97065,     0.97065,     0.96969,     0.96936,     0.96912,     0.96889,     0.96865,     0.96848,     0.96848,     0.96845,     0.96835,\n",
              "            0.96826,     0.96816,     0.96806,     0.96796,     0.96787,     0.96777,     0.96767,     0.96758,     0.96748,     0.96739,     0.96739,     0.96739,     0.96739,     0.96739,     0.96739,     0.96739,     0.96739,     0.96739,     0.96739,     0.96739,     0.96739,     0.96739,     0.96739,\n",
              "            0.96739,     0.96739,     0.96739,     0.96739,     0.96739,     0.96739,     0.96739,     0.96739,     0.96739,     0.96739,     0.96739,     0.96739,     0.96632,      0.9663,      0.9663,      0.9663,      0.9663,      0.9663,      0.9663,      0.9663,      0.9663,      0.9663,      0.9663,\n",
              "             0.9663,      0.9663,      0.9663,      0.9663,      0.9663,      0.9663,      0.9663,      0.9663,      0.9663,      0.9663,      0.9663,      0.9663,      0.9663,      0.9663,      0.9663,      0.9663,      0.9663,      0.9663,      0.9663,      0.9663,      0.9663,      0.9663,      0.9663,\n",
              "             0.9663,      0.9663,      0.9663,      0.9663,      0.9663,      0.9663,      0.9663,      0.9663,      0.9663,      0.9663,      0.9663,      0.9663,      0.9663,     0.96627,     0.96618,      0.9661,     0.96601,     0.96593,     0.96584,     0.96576,     0.96567,     0.96558,      0.9655,\n",
              "            0.96541,     0.96533,     0.96524,     0.96442,     0.96413,     0.96413,     0.96413,     0.96413,     0.96413,     0.96413,     0.96413,     0.96413,     0.96413,     0.96413,     0.96413,     0.96413,      0.9641,     0.96354,     0.96303,     0.96289,     0.96275,     0.96261,     0.96247,\n",
              "            0.96233,     0.96219,     0.96205,     0.96196,     0.96196,     0.96196,     0.96196,     0.96196,     0.96148,     0.96087,     0.96087,     0.96087,     0.96087,     0.96087,     0.96087,     0.96087,     0.96087,     0.96087,     0.96087,     0.96087,     0.96087,     0.96087,     0.96087,\n",
              "            0.96087,     0.96087,     0.96087,     0.96087,     0.96087,     0.96087,     0.96087,     0.96087,     0.96073,     0.96045,     0.96017,     0.95989,     0.95978,     0.95909,      0.9587,      0.9587,      0.9587,      0.9587,      0.9587,      0.9587,      0.9587,      0.9587,      0.9587,\n",
              "             0.9587,      0.9587,      0.9587,      0.9587,      0.9587,      0.9587,      0.9587,      0.9587,      0.9587,      0.9587,      0.9587,      0.9587,      0.9587,      0.9587,      0.9587,      0.9587,      0.9587,      0.9587,      0.9587,      0.9587,      0.9587,      0.9587,      0.9587,\n",
              "             0.9587,      0.9587,      0.9587,      0.9587,      0.9587,      0.9587,      0.9587,      0.9587,      0.9587,      0.9587,      0.9587,      0.9587,      0.9587,     0.95838,     0.95761,     0.95761,     0.95761,     0.95761,     0.95761,     0.95761,     0.95761,     0.95761,     0.95761,\n",
              "            0.95759,     0.95722,     0.95685,     0.95518,       0.954,     0.95344,     0.95217,     0.95217,     0.95217,     0.95184,      0.9514,     0.94994,     0.94974,     0.94953,     0.94933,     0.94913,     0.94892,     0.94839,     0.94783,     0.94783,     0.94783,     0.94782,     0.94764,\n",
              "            0.94747,      0.9473,     0.94713,     0.94696,     0.94679,     0.94457,     0.94457,     0.94457,     0.94457,     0.94382,     0.94348,     0.94348,     0.94348,     0.94348,     0.94348,     0.94239,     0.94239,     0.94239,     0.94106,     0.94061,     0.93913,     0.93907,     0.93862,\n",
              "            0.93818,     0.93804,     0.93804,     0.93558,      0.9337,      0.9337,      0.9337,      0.9337,     0.93273,     0.93161,     0.93111,     0.93067,     0.92881,     0.92824,     0.92713,     0.92609,     0.92609,     0.92609,     0.92609,     0.92609,     0.92495,     0.92471,     0.92446,\n",
              "            0.92421,     0.92396,     0.92302,     0.92222,     0.92039,     0.91964,     0.91798,     0.91742,     0.91669,     0.91595,     0.91521,     0.91465,     0.91299,     0.91225,     0.91151,     0.91071,     0.90978,     0.90964,      0.9089,     0.90707,     0.90535,     0.90503,     0.90471,\n",
              "             0.9044,     0.90372,     0.90189,     0.90115,     0.90057,     0.90002,     0.89928,     0.89873,     0.89835,     0.89798,     0.89431,     0.89386,     0.89224,     0.88768,      0.8862,     0.88455,     0.88352,     0.88278,     0.88095,     0.87816,     0.87784,     0.87753,     0.87721,\n",
              "            0.87609,     0.87609,     0.87609,     0.87446,     0.87391,      0.8739,     0.87365,     0.87341,     0.87316,     0.87291,     0.87174,     0.87174,     0.87174,     0.87093,     0.86937,     0.86863,     0.86541,     0.86279,     0.86205,     0.86022,     0.85235,     0.85217,     0.85038,\n",
              "            0.84856,     0.84452,     0.84215,     0.84171,     0.84012,     0.83578,     0.83504,     0.83188,     0.82921,     0.82846,     0.82707,     0.82662,     0.82618,     0.82549,     0.82245,     0.82161,     0.82123,     0.82086,     0.81969,     0.81851,      0.8174,     0.81557,     0.81522,\n",
              "            0.81517,     0.81442,     0.80761,     0.80605,     0.80217,     0.80142,      0.8003,     0.79729,     0.79437,     0.79363,      0.7915,     0.78961,     0.78804,     0.78804,     0.78713,     0.78518,     0.78427,     0.78356,     0.78328,       0.783,     0.78273,     0.78043,      0.7765,\n",
              "            0.77593,     0.77065,     0.77044,     0.76832,     0.76758,     0.76384,     0.76055,     0.75909,     0.75652,     0.75395,     0.75283,       0.748,     0.74625,     0.74354,     0.74022,     0.73696,     0.73686,     0.73525,     0.73023,     0.72672,     0.72484,     0.72373,     0.71935,\n",
              "            0.71474,     0.71034,     0.70593,     0.70435,     0.70217,     0.69939,     0.69485,     0.68936,     0.68713,     0.68345,      0.6829,     0.68044,     0.67878,      0.6749,     0.67329,     0.66718,     0.66387,     0.65745,     0.65289,     0.64849,     0.64191,     0.63642,     0.63093,\n",
              "            0.62436,     0.62114,     0.61881,     0.61441,     0.60826,     0.60452,     0.59794,     0.59354,     0.59023,     0.58582,     0.58359,      0.5771,      0.5737,     0.56821,     0.55729,     0.55397,     0.54957,     0.54408,     0.53968,      0.5331,      0.5287,     0.51995,     0.51446,\n",
              "            0.50571,      0.5024,     0.49574,     0.49251,     0.49022,      0.4837,     0.47821,     0.46077,     0.45093,     0.44327,     0.43234,     0.42577,     0.41557,     0.41044,     0.39843,     0.39294,     0.38202,     0.37109,     0.36126,     0.34924,     0.34049,      0.3274,     0.31865,\n",
              "            0.30011,     0.29354,      0.2837,     0.26952,     0.25647,     0.24332,     0.22479,     0.21495,     0.20511,     0.19854,     0.19305,     0.18539,     0.17446,     0.16789,     0.15946,     0.15147,     0.14164,     0.13071,     0.12414,     0.11538,      0.1099,     0.10006,    0.095657,\n",
              "           0.083646,    0.072722,    0.066768,    0.061743,    0.055167,    0.049678,    0.045276,    0.042719,    0.037519,     0.03533,    0.033942,     0.03196,    0.027366,    0.024243,     0.02079,    0.016958,    0.015115,    0.014868,     0.01462,    0.014372,    0.014105,    0.012991,    0.011877,\n",
              "           0.010827,    0.010381,   0.0099354,   0.0095385,   0.0091671,   0.0087958,   0.0075314,   0.0072131,   0.0068948,   0.0065765,   0.0046764,   0.0030498,   0.0028022,   0.0025546,    0.002307,   0.0020267,   0.0017084,   0.0013901,           0,           0,           0,           0,           0,\n",
              "                  0,           0,           0,           0,           0,           0,           0,           0,           0,           0,           0,           0,           0,           0,           0,           0,           0,           0,           0,           0,           0,           0,           0,\n",
              "                  0,           0,           0,           0,           0,           0,           0,           0,           0,           0,           0]]), 'Confidence', 'Recall']]\n",
              "fitness: 0.7867096813539145\n",
              "keys: ['metrics/precision(B)', 'metrics/recall(B)', 'metrics/mAP50(B)', 'metrics/mAP50-95(B)']\n",
              "maps: array([    0.76602])\n",
              "names: {0: 'weed'}\n",
              "plot: True\n",
              "results_dict: {'metrics/precision(B)': 0.9374757857170561, 'metrics/recall(B)': 0.9586956521739131, 'metrics/mAP50(B)': 0.9729044989250963, 'metrics/mAP50-95(B)': 0.7660213682904498, 'fitness': 0.7867096813539145}\n",
              "save_dir: PosixPath('runs/detect/train')\n",
              "speed: {'preprocess': 0.35233013929369855, 'inference': 2.5808200222796525, 'loss': 0.00039600834746107016, 'postprocess': 3.5307755710301008}\n",
              "task: 'detect'"
            ]
          },
          "metadata": {},
          "execution_count": 17
        }
      ]
    },
    {
      "cell_type": "code",
      "source": [
        "import os\n",
        "\n",
        "train_path = \"/content/runs/detect/train\"\n",
        "if os.path.exists(train_path):\n",
        "    print(\"Training directory found:\", train_path)\n",
        "    print(\"Files inside:\", os.listdir(train_path))\n",
        "else:\n",
        "    print(\"Training directory NOT found!\")\n"
      ],
      "metadata": {
        "colab": {
          "base_uri": "https://localhost:8080/"
        },
        "id": "uCV467u4wAA9",
        "outputId": "74840180-8ada-4dd8-9951-c9fbd99a8504"
      },
      "execution_count": 27,
      "outputs": [
        {
          "output_type": "stream",
          "name": "stdout",
          "text": [
            "Training directory NOT found!\n"
          ]
        }
      ]
    },
    {
      "cell_type": "code",
      "source": [
        "import os\n",
        "print(os.listdir(\"/content/runs/detect/\"))\n"
      ],
      "metadata": {
        "colab": {
          "base_uri": "https://localhost:8080/",
          "height": 159
        },
        "id": "KfDk2H_ewEqi",
        "outputId": "4bd62e93-412e-4d09-8629-8a5d7d6e64b9"
      },
      "execution_count": 29,
      "outputs": [
        {
          "output_type": "error",
          "ename": "FileNotFoundError",
          "evalue": "[Errno 2] No such file or directory: '/content/runs/detect/'",
          "traceback": [
            "\u001b[0;31m---------------------------------------------------------------------------\u001b[0m",
            "\u001b[0;31mFileNotFoundError\u001b[0m                         Traceback (most recent call last)",
            "\u001b[0;32m<ipython-input-29-95be4a766f71>\u001b[0m in \u001b[0;36m<cell line: 0>\u001b[0;34m()\u001b[0m\n\u001b[1;32m      1\u001b[0m \u001b[0;32mimport\u001b[0m \u001b[0mos\u001b[0m\u001b[0;34m\u001b[0m\u001b[0;34m\u001b[0m\u001b[0m\n\u001b[0;32m----> 2\u001b[0;31m \u001b[0mprint\u001b[0m\u001b[0;34m(\u001b[0m\u001b[0mos\u001b[0m\u001b[0;34m.\u001b[0m\u001b[0mlistdir\u001b[0m\u001b[0;34m(\u001b[0m\u001b[0;34m\"/content/runs/detect/\"\u001b[0m\u001b[0;34m)\u001b[0m\u001b[0;34m)\u001b[0m\u001b[0;34m\u001b[0m\u001b[0;34m\u001b[0m\u001b[0m\n\u001b[0m",
            "\u001b[0;31mFileNotFoundError\u001b[0m: [Errno 2] No such file or directory: '/content/runs/detect/'"
          ]
        }
      ]
    },
    {
      "cell_type": "code",
      "source": [
        "import os\n",
        "print(os.listdir(\"/content/\"))\n"
      ],
      "metadata": {
        "colab": {
          "base_uri": "https://localhost:8080/"
        },
        "id": "672L0B2Nwelg",
        "outputId": "1b7b897e-071e-4dd9-8752-c16fe20e30ae"
      },
      "execution_count": 30,
      "outputs": [
        {
          "output_type": "stream",
          "name": "stdout",
          "text": [
            "['.config', 'Weeds-1', 'sample_data']\n"
          ]
        }
      ]
    },
    {
      "cell_type": "code",
      "source": [
        "with open(\"/root/.config/Ultralytics/settings.json\", \"r\", encoding=\"utf-8\") as f:\n",
        "    print(f.read())\n"
      ],
      "metadata": {
        "colab": {
          "base_uri": "https://localhost:8080/"
        },
        "id": "HJ6ZbOI7wptk",
        "outputId": "da96882a-abb4-4612-e4bc-f19165b0fa5d"
      },
      "execution_count": 32,
      "outputs": [
        {
          "output_type": "stream",
          "name": "stdout",
          "text": [
            "{\n",
            "  \"settings_version\": \"0.0.6\",\n",
            "  \"datasets_dir\": \"/content/datasets\",\n",
            "  \"weights_dir\": \"weights\",\n",
            "  \"runs_dir\": \"runs\",\n",
            "  \"uuid\": \"569f3ba64b326db489132663f79cd37279811de477381b83ac131e6cdd129cbb\",\n",
            "  \"sync\": true,\n",
            "  \"api_key\": \"\",\n",
            "  \"openai_api_key\": \"\",\n",
            "  \"clearml\": true,\n",
            "  \"comet\": true,\n",
            "  \"dvc\": true,\n",
            "  \"hub\": true,\n",
            "  \"mlflow\": true,\n",
            "  \"neptune\": true,\n",
            "  \"raytune\": true,\n",
            "  \"tensorboard\": true,\n",
            "  \"wandb\": false,\n",
            "  \"vscode_msg\": true\n",
            "}\n"
          ]
        }
      ]
    },
    {
      "cell_type": "code",
      "source": [
        "import os\n",
        "\n",
        "# Function to search for best.pt\n",
        "def find_best_pt(root_dir=\"/content\"):\n",
        "    for dirpath, _, filenames in os.walk(root_dir):\n",
        "        if \"best.pt\" in filenames:\n",
        "            return os.path.join(dirpath, \"best.pt\")\n",
        "    return None\n",
        "\n",
        "# Find the file\n",
        "best_pt_path = find_best_pt()\n",
        "\n",
        "# Print result\n",
        "if best_pt_path:\n",
        "    print(f\"✅ Found best.pt at: {best_pt_path}\")\n",
        "else:\n",
        "    print(\"❌ best.pt not found.\")\n"
      ],
      "metadata": {
        "colab": {
          "base_uri": "https://localhost:8080/"
        },
        "id": "s_SIzll4xKJc",
        "outputId": "86d0f4e0-7454-446b-8d31-36e1c0fc4dba"
      },
      "execution_count": 33,
      "outputs": [
        {
          "output_type": "stream",
          "name": "stdout",
          "text": [
            "✅ Found best.pt at: /content/Weeds-1/runs/detect/train/weights/best.pt\n"
          ]
        }
      ]
    },
    {
      "cell_type": "code",
      "source": [
        "from google.colab import files\n",
        "\n",
        "best_pt_path = \"/content/Weeds-1/runs/detect/train/weights/best.pt\"\n",
        "\n",
        "# Download the model\n",
        "files.download(best_pt_path)\n"
      ],
      "metadata": {
        "colab": {
          "base_uri": "https://localhost:8080/",
          "height": 17
        },
        "id": "JcWKv_tdxU1J",
        "outputId": "3694a04a-2096-4e24-866a-428b4d809582"
      },
      "execution_count": 34,
      "outputs": [
        {
          "output_type": "display_data",
          "data": {
            "text/plain": [
              "<IPython.core.display.Javascript object>"
            ],
            "application/javascript": [
              "\n",
              "    async function download(id, filename, size) {\n",
              "      if (!google.colab.kernel.accessAllowed) {\n",
              "        return;\n",
              "      }\n",
              "      const div = document.createElement('div');\n",
              "      const label = document.createElement('label');\n",
              "      label.textContent = `Downloading \"${filename}\": `;\n",
              "      div.appendChild(label);\n",
              "      const progress = document.createElement('progress');\n",
              "      progress.max = size;\n",
              "      div.appendChild(progress);\n",
              "      document.body.appendChild(div);\n",
              "\n",
              "      const buffers = [];\n",
              "      let downloaded = 0;\n",
              "\n",
              "      const channel = await google.colab.kernel.comms.open(id);\n",
              "      // Send a message to notify the kernel that we're ready.\n",
              "      channel.send({})\n",
              "\n",
              "      for await (const message of channel.messages) {\n",
              "        // Send a message to notify the kernel that we're ready.\n",
              "        channel.send({})\n",
              "        if (message.buffers) {\n",
              "          for (const buffer of message.buffers) {\n",
              "            buffers.push(buffer);\n",
              "            downloaded += buffer.byteLength;\n",
              "            progress.value = downloaded;\n",
              "          }\n",
              "        }\n",
              "      }\n",
              "      const blob = new Blob(buffers, {type: 'application/binary'});\n",
              "      const a = document.createElement('a');\n",
              "      a.href = window.URL.createObjectURL(blob);\n",
              "      a.download = filename;\n",
              "      div.appendChild(a);\n",
              "      a.click();\n",
              "      div.remove();\n",
              "    }\n",
              "  "
            ]
          },
          "metadata": {}
        },
        {
          "output_type": "display_data",
          "data": {
            "text/plain": [
              "<IPython.core.display.Javascript object>"
            ],
            "application/javascript": [
              "download(\"download_cf3e6a62-f643-496f-82bd-1810eda62cb0\", \"best.pt\", 6248227)"
            ]
          },
          "metadata": {}
        }
      ]
    }
  ]
}